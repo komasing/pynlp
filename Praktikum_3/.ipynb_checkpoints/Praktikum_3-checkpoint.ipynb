{
 "cells": [
  {
   "cell_type": "markdown",
   "metadata": {},
   "source": [
    "<h1 style=\"color:blue\">Praktikum 3. Andmeteaduse alused</h1>\n",
    "<h3 style=\"color:blue\">Terminaliskriptid, <i>pipeline'id</i> ja esimene dokumendimudel</h3>\n",
    "<h4>20. september 2016 </h4>\n",
    "<h4>Ülesannete esitamise tähtaeg 4. oktoober.</h4>\n",
    "<h4>Lahendus esitada ZIP-formaadis.</h4>"
   ]
  },
  {
   "cell_type": "markdown",
   "metadata": {},
   "source": [
    "Käesoleva praktikumi esimeses pooles tutvume loengus käsitletud andmekaeve protsesside ehitusblokkidega ning teises pooles tutvume põgusalt oluliste teekide _scikit-learn_'i ja _numpy_'ga dokumendite päringu näitel."
   ]
  },
  {
   "cell_type": "markdown",
   "metadata": {},
   "source": [
    "## Andmekaeve protsesside ehitusblokid\n",
    "Seni oleme aine käigus tutvunud _Jupyter_'iga, mis tagab graafilise interaktiivse liidese, milles annab töötada kas lokaalselt või serveri vahendusel. Serveris jooksutades saame kasutada serveri ressursse ning endiselt tagada graafilise liidese.\n",
    "\n",
    "_Jupyter_ võimaldab nii arvutada, tutvuda tulemustega kui ka kuvada tehtut võrdlemisi kaunilt. Kui me loome arvutusprotsesside prototüüpe, on see tavapäraste vahenditega sageli piinarikas protsess, sest peame andmeid eeltöötlema, sisselugema ja arvutama, et siis olla sunnitud viimasel real impordi vea või muu triviaalse loogika apsaka tõttu kogu protsessi kordama. _Jupyter_ talletab vahetulemused muutujatesse ning kui me ka kusagil eksime, on eelnevad tulemused kättesaadavad ning saame hetkega vea likvideerida. Lihtsamatel juhtudel saame kogu töövoo töötlemiste ja analüüsi näol talletada _notebook_'is.\n",
    "\n",
    "Reaalsuses on aga andmestikud suured ning me ei pruugi soovida neid mälus hoida - tihti pole see isegi võimalik. Sellistel puhkudel jääb _Jupyer_'ist väheks ning me tahame appi võtta kõvaketta, et seal vahetulemusi talletada. Teine sage stsenaarium on see, kui soovime mingist välisest rakendusest (nt veebiserverist) andmetele ligi saada.\n",
    "\n",
    "Ehkki teoreetiliselt võime töövoo sellest kõigest hoolimata talletada _notebook_'is ning pärast igat arvutust talletada arvutuse saaduse kettale ning seejärel _del_ abil üleliigsed andmed mälust kustutada, võib see osutuda tüütuks. Lisaks, kui me peame näiteks muutuvate andmete tõttu pidevalt (lugeda automaatselt) mingist rakendusest arvutusprotsessi jooksutama mudelite uuendamiseks, ei soovi me lävida graafilise liidesega.\n",
    "\n",
    "Lisaks eelmainitule võime soovida ehitatud komponente taaskasutada - läbi _Jupyter_'i on see raskendatud.\n",
    "\n",
    "Kõigi eelmainitud juhtude lahendamiseks saab luua kas Püütoni skriptidest või liidestatud klassidest koosneva töövoo, kus iga järgnev komponent kasutab eelneva väljundit sisendina, moodustades nõnda pika arvutuste ahela.\n",
    "\n",
    "Koodile omaselt tekib aga mingis etapis - kas bossi nõudel või lõputööst tingituna - vajadus komponente/ahelat taaskasutada. Kui me ei soovi nädalat kulutada, et skriptide ja failide mäsu lahti harutada, on otstarvekas skripte ning töövoogu dokumenteerida ja korrastada viisil, et see oleks hoomatav ka pika aja järel.\n",
    "\n",
    "Antud praktikumis tutvume skripti- ja töövoopõhise dokumenteerimise ja korrastamisega."
   ]
  },
  {
   "cell_type": "markdown",
   "metadata": {},
   "source": [
    "### Skriptipõhine dokumenteerimine\n",
    "Skripti või arvutusprotsessi komponendi dokumenteerimist on sageli mõistlik lahendada välisel tasemel. See tähendab, et traditsioonilise koodi dokumenteerimise asemel (mis on muidugi oluline, kui peaks skripti muutma hakkama) kuvame kasutusjuhised ja kirjelduse terminalis. Nii säästame end ammu unustatud koodi detailidesse süvenemisest.\n",
    "\n",
    "Skripte kirjutades on mõistlik vaadata tulevikku ka teises asepektis. Me ei taha kõiki arvutamiste parameetreid ja loetavate failide teid koodis fikseerida. See nõuaks meilt kauges tulevikus naasmist koodi juurde."
   ]
  },
  {
   "cell_type": "markdown",
   "metadata": {},
   "source": [
    "#### Skriptile saab ette anda informatsiooni uue sisendiga töötamiseks paljudel erinevatel viisidel."
   ]
  },
  {
   "cell_type": "markdown",
   "metadata": {},
   "source": [
    "#### Me saame anda koodifailile sisendi _standard input_'ist, mille vältel edastame informatsiooni koodi jooksmise ajal. Kõige lihtsam on ette kujutada _input_'i, mis pärib kasutajalt mingit teavet."
   ]
  },
  {
   "cell_type": "code",
   "execution_count": 2,
   "metadata": {
    "collapsed": false
   },
   "outputs": [
    {
     "name": "stdout",
     "output_type": "stream",
     "text": [
      "Minu nimi on: kom\n",
      "Käigu au ja hiilgus Sinu sabas, kom\n"
     ]
    }
   ],
   "source": [
    "name = input(\"Minu nimi on: \")\n",
    "print(\"Käigu au ja hiilgus Sinu sabas, {0}\".format(name))"
   ]
  },
  {
   "cell_type": "markdown",
   "metadata": {},
   "source": [
    "#### Linuxis saame kasutada _standard input_'iks ka torusid (_pipe_'e). _input_ käsk loeb vaid ühe rea. Kui torust tuleb suvaline arv ridu, ei saa _input_ enamikke kätte. Selleks annab kasutada kas _fileinput_'i või _sys.stdin_'i (järgnevad näited töötavad vaid eraldi Püütoni skriptis)."
   ]
  },
  {
   "cell_type": "code",
   "execution_count": null,
   "metadata": {
    "collapsed": false
   },
   "outputs": [],
   "source": [
    "# %load my_script1.py\n",
    "import fileinput\n",
    "\n",
    "for line_idx, line in enumerate(fileinput.input()):\n",
    "    print(line_idx+1, line)\n",
    "\n"
   ]
  },
  {
   "cell_type": "code",
   "execution_count": null,
   "metadata": {
    "collapsed": true
   },
   "outputs": [],
   "source": [
    "# %load my_script2.py\n",
    "import sys\n",
    "\n",
    "for line_idx, line in enumerate(sys.stdin):\n",
    "    print(line_idx+1, line)\n",
    "\n"
   ]
  },
  {
   "cell_type": "code",
   "execution_count": null,
   "metadata": {
    "collapsed": true
   },
   "outputs": [],
   "source": [
    "# %load my_mysterious_file.txt\n",
    "see on kõige\n",
    "ilusam\n",
    "failike maailmas\n",
    ":)\n"
   ]
  },
  {
   "cell_type": "code",
   "execution_count": 11,
   "metadata": {
    "collapsed": false
   },
   "outputs": [
    {
     "name": "stdout",
     "output_type": "stream",
     "text": [
      "1 see on kõige\n",
      "\n",
      "2 ilusam\n",
      "\n",
      "3 failike maailmas\n",
      "\n",
      "4 :)\n",
      "\n"
     ]
    }
   ],
   "source": [
    "%%bash\n",
    "cat my_mysterious_file.txt | python my_script1.py"
   ]
  },
  {
   "cell_type": "code",
   "execution_count": 12,
   "metadata": {
    "collapsed": false
   },
   "outputs": [
    {
     "name": "stdout",
     "output_type": "stream",
     "text": [
      "1 see on kõige\n",
      "\n",
      "2 ilusam\n",
      "\n",
      "3 failike maailmas\n",
      "\n",
      "4 :)\n",
      "\n"
     ]
    }
   ],
   "source": [
    "%%bash\n",
    "cat my_mysterious_file.txt | python my_script2.py"
   ]
  },
  {
   "cell_type": "markdown",
   "metadata": {},
   "source": [
    "#### Me võime kasutada konfiguratsioonifaili, kust loeme tarvilikud andmed - näiteks tee sisendiks olevale CSV-failile.\n",
    "\n"
   ]
  },
  {
   "cell_type": "code",
   "execution_count": null,
   "metadata": {
    "collapsed": true
   },
   "outputs": [],
   "source": [
    "# %load my_conf.py\n",
    "csv_path = \"my/special/path\"\n"
   ]
  },
  {
   "cell_type": "markdown",
   "metadata": {},
   "source": [
    "#### Käesolevas näites kasutame konfiguratsioonifailiks lihtsat Püütoni faili, millest saame vajalikud sätted importida.  \"Ametlikuma\" konfiguratsioonifaili lugemiseks on kasutusel [configparser](https://docs.python.org/3/library/configparser.html), mis võimaldab sätteid ka talletada."
   ]
  },
  {
   "cell_type": "code",
   "execution_count": 15,
   "metadata": {
    "collapsed": false
   },
   "outputs": [
    {
     "name": "stdout",
     "output_type": "stream",
     "text": [
      "my/special/path\n"
     ]
    }
   ],
   "source": [
    "from my_conf import csv_path\n",
    "print(csv_path)"
   ]
  },
  {
   "cell_type": "markdown",
   "metadata": {},
   "source": [
    "#### Mõnikord on mugav lugeda sätteid keskkonna muutujatest. Seda eriti juhul, kui ei taha teiste kasutajatega teavet jagada.\n",
    "<h4 style=\"color:red\">Järgnev näide ei tööta _Notebook_'is, küll aga eraldi skriptis.</h4> "
   ]
  },
  {
   "cell_type": "code",
   "execution_count": 29,
   "metadata": {
    "collapsed": true
   },
   "outputs": [],
   "source": [
    "%%bash\n",
    "export MY_DATABASE_USER=\"kom\"\n",
    "export MY_DATABASE_PW=\"saladus\""
   ]
  },
  {
   "cell_type": "code",
   "execution_count": 22,
   "metadata": {
    "collapsed": false
   },
   "outputs": [
    {
     "name": "stdout",
     "output_type": "stream",
     "text": [
      "None\n",
      "None\n"
     ]
    }
   ],
   "source": [
    "import os\n",
    "print(os.getenv('MY_DATABASE_USER'))\n",
    "print(os.getenv('MY_DATABASE_PW'))"
   ]
  },
  {
   "cell_type": "markdown",
   "metadata": {},
   "source": [
    "#### Skriptidel on kõige sagedamini antud informatsioon käsurea argumentidena."
   ]
  },
  {
   "cell_type": "code",
   "execution_count": null,
   "metadata": {
    "collapsed": false
   },
   "outputs": [],
   "source": [
    "# %load print_the_name.py\n",
    "from sys import argv\n",
    "\n",
    "print(argv[1])\n",
    "print(argv[2])\n"
   ]
  },
  {
   "cell_type": "code",
   "execution_count": 33,
   "metadata": {
    "collapsed": false
   },
   "outputs": [
    {
     "name": "stdout",
     "output_type": "stream",
     "text": [
      "Rudolfo\n",
      "Hernandez\n"
     ]
    }
   ],
   "source": [
    "%%bash\n",
    "python print_the_name.py Rudolfo Hernandez"
   ]
  },
  {
   "cell_type": "markdown",
   "metadata": {},
   "source": [
    "### Eelnevates näidetes oleme suutnud skripti olulist informatsiooni jooksmise ajal sisse lugeda, kuid dokumenteeritus jätab soovida. Ükski eelnev skript ei kirjelda, millisel kujul oodatakse sisendit, millises mahus, millisel viisil ning mida skript teeb. Ehkki me saaksime ükshaaval printida seda informatsiooni mingi sisendi korral, oleks see tüütu ning me ei pruugiks vastavat sisendit siiski mäletada."
   ]
  },
  {
   "cell_type": "markdown",
   "metadata": {},
   "source": [
    "#### Abikäe ulatab [argparse](https://docs.python.org/3/library/argparse.html)."
   ]
  },
  {
   "cell_type": "markdown",
   "metadata": {},
   "source": [
    "#### _argparse_ võimaldab skriptile mugava liidesega anda ette kirjelduse, argumendid ja valikulised argumendid ning nende kirjeldused ja muud seaded. Loodu põhjal on võimalik kas \"-h\" või \"--help\" lipuga pärida abi, mille peale renderdatakse eeskujulik käsurea õpetus programmi kohta, kasutades etteantud kirjeldusi."
   ]
  },
  {
   "cell_type": "code",
   "execution_count": null,
   "metadata": {
    "collapsed": true
   },
   "outputs": [],
   "source": [
    "# %load print_the_name2.py\n",
    "import argparse\n",
    "\n",
    "parser = argparse.ArgumentParser(description='Prints the forename and surname, if provided, in an epic way.')\n",
    "parser.add_argument('forename', type=str,\n",
    "                    help=\"some pretty bloke's forename\")\n",
    "parser.add_argument('--surname', dest='last_name',\n",
    "                    help=\"the pretty bloke's last name\")\n",
    "\n",
    "args = parser.parse_args()\n",
    "\n",
    "print(args.forename.upper())\n",
    "print(args.last_name.upper())\n"
   ]
  },
  {
   "cell_type": "code",
   "execution_count": 43,
   "metadata": {
    "collapsed": false
   },
   "outputs": [
    {
     "name": "stderr",
     "output_type": "stream",
     "text": [
      "usage: print_the_name2.py [-h] [--surname LAST_NAME] forename\n",
      "print_the_name2.py: error: the following arguments are required: forename\n"
     ]
    }
   ],
   "source": [
    "%%bash\n",
    "python print_the_name2.py"
   ]
  },
  {
   "cell_type": "code",
   "execution_count": 44,
   "metadata": {
    "collapsed": false
   },
   "outputs": [
    {
     "name": "stdout",
     "output_type": "stream",
     "text": [
      "usage: print_the_name2.py [-h] [--surname LAST_NAME] forename\n",
      "\n",
      "Prints the forename and surname, if provided, in an epic way.\n",
      "\n",
      "positional arguments:\n",
      "  forename             some pretty bloke's forename\n",
      "\n",
      "optional arguments:\n",
      "  -h, --help           show this help message and exit\n",
      "  --surname LAST_NAME  the pretty bloke's last name\n"
     ]
    }
   ],
   "source": [
    "%%bash\n",
    "python print_the_name2.py -h"
   ]
  },
  {
   "cell_type": "code",
   "execution_count": 45,
   "metadata": {
    "collapsed": false
   },
   "outputs": [
    {
     "name": "stdout",
     "output_type": "stream",
     "text": [
      "AADU\n",
      "MEGAMEES\n"
     ]
    }
   ],
   "source": [
    "%%bash\n",
    "python print_the_name2.py Aadu --surname Megamees"
   ]
  },
  {
   "cell_type": "markdown",
   "metadata": {},
   "source": [
    "## Ülesanne 1.\n",
    "<h3>Kirjutage _argparse_'i kasutades skript, mis teisendab etteantud kodeeringuga sisendfaili etteantud kodeeringuga väljundiks, kus väljund prinditakse. Kodeeringud on nii sisend- kui väljundfailil vaikimisi UTF-8. Valideerimiseks jooksutage järgnev _bash_'i koodiplokk. (1p)</h3>"
   ]
  },
  {
   "cell_type": "code",
   "execution_count": null,
   "metadata": {
    "collapsed": true
   },
   "outputs": [],
   "source": [
    "%%bash\n",
    "python change_encoding.py koeradest.txt --input-encoding ASDASD --output-encoding UTF-8"
   ]
  },
  {
   "cell_type": "markdown",
   "metadata": {},
   "source": [
    "<hr style=\"height:3px\">"
   ]
  },
  {
   "cell_type": "markdown",
   "metadata": {},
   "source": [
    "### Töövoopõhine dokumenteerimine\n",
    "Lisaks komponentidele tuleks tuleviku ning taaskasutuse tarbeks aidata tuleviku ennast ka kogu töövoos.\n",
    "\n",
    "Kõige lihtsam on teha _README.txt_ või repositooriumi korral _README.md_, milles on lahti kirjutatud, mida ja kuidas töövoog lahendab ning millised on andmed. Lisaks tasub talletada ka enda kontaktandmed, kui keegi tahab tulevikus kasutada ja viidata. Peale selle tuleks detailselt kirja panna veel arvutuskäik.\n",
    "\n",
    "Parem on aga koodide jooksutamine eraldi failides seada omaette koodi, millele saab kaasa anda uued argumendid, nt sisendfailide süsteemi teed. Seejärel saab uue probleemi korral arvutust lihtsalt korrata (praktikas läheb ~alati uue andmestikuga katki). Kui nt Püütoni skriptide jooksutamine ja järjekord on defineeritud _bash_'i failis, piisab üldises _readme_'s ülevaatlikust kirjeldusest."
   ]
  },
  {
   "cell_type": "markdown",
   "metadata": {},
   "source": [
    "Kui meil pole arvutamine suuremas reaalajalises süsteemis, võiks arvutamisprotsess olla kirjeldatud võimalikult lihtsas ja levinud keeles. Teaduslikus maailmas on ilmselt levinuimaks _bash_, kuivõrd seda on imelihtne kirja panna ning keskmine server on vabavaralisel Linuxi operatsioonisüsteemil."
   ]
  },
  {
   "cell_type": "code",
   "execution_count": 50,
   "metadata": {
    "collapsed": false
   },
   "outputs": [
    {
     "name": "stdout",
     "output_type": "stream",
     "text": [
      "Writing extract_names.sh\n"
     ]
    }
   ],
   "source": [
    "%%file extract_names.sh\n",
    "if [ $1 == \"-h\" ]\n",
    "then\n",
    "    echo \"Usage: extract_names.sh input/path.txt output/names.txt\"\n",
    "    echo \"Takes arbitrary text and extracts all the ocurring names.\"\n",
    "fi\n",
    "mkdir -p results\n",
    "python remove_unwanted_symbols.py $1 results/cleaned.csv\n",
    "python extract_sentences.py results/sentenced.csv\n",
    "python extract_names.py $2"
   ]
  },
  {
   "cell_type": "markdown",
   "metadata": {},
   "source": [
    "Eelmine näide on aga väga naiivne. Reaalsuses on eeltöötluse protsess sageli palju keerulisem ja koledam, mistõttu dokumenteerimine osutub hulga ebameeldivamaks. _bash_ pole aga kuigi hea keel dokumenteerimiseks. Ehkki koos korraliku _readme_'ga võib piisata ning ta suudab adekvaatselt kirjeldada arvutusi, on iseseisva kirjeldava skripti loomine vaeva- ning _echo_-rikas. Väidetavalt aitab veidi argumentidega [_getopt_](http://stackoverflow.com/questions/16483119/example-of-how-to-use-getopts-in-bash), aga tal on piiranguid: ebaintuitiivne ning tühjade argumentidega läks vanasti katki.\n",
    "\n",
    "Alternatiivselt võime kirjeldada arvutusi Püütoni skriptis, milles on ilusasti kasutatud _argparse_'i või uhkematel juhtudel koguni [_click_](http://click.pocoo.org/5/)'i. Püüton on paljudel süsteemidel vaikimisi peal või levinud programmide nõudena installitud ega vaja eraldi kompileerimist."
   ]
  },
  {
   "cell_type": "markdown",
   "metadata": {},
   "source": [
    "Püütonis saab suvalisi käsurea programme jooksutada [_subprocess_](https://docs.python.org/3/library/subprocess.html) mooduli vahendusel."
   ]
  },
  {
   "cell_type": "code",
   "execution_count": 51,
   "metadata": {
    "collapsed": false
   },
   "outputs": [
    {
     "data": {
      "text/plain": [
       "CompletedProcess(args=['echo', '`pwd`'], returncode=0)"
      ]
     },
     "execution_count": 51,
     "metadata": {},
     "output_type": "execute_result"
    }
   ],
   "source": [
    "import subprocess\n",
    "subprocess.run(['echo','`pwd`'])"
   ]
  },
  {
   "cell_type": "code",
   "execution_count": 57,
   "metadata": {
    "collapsed": false,
    "scrolled": true
   },
   "outputs": [
    {
     "data": {
      "text/plain": [
       "'total 64\\ndrwxrwxr-x 4 kom kom  4096 sept  20 10:51 .\\ndrwxrwxr-x 9 kom kom  4096 sept  20 09:22 ..\\n-rw-rw-r-- 1 kom kom   312 sept  20 10:51 extract_names.sh\\n-rw-rw-r-- 1 kom kom  1024 sept  20 10:51 .extract_names.sh.swp\\ndrwxr-xr-x 2 kom kom  4096 sept  19 20:31 .ipynb_checkpoints\\n-rw-rw-r-- 1 kom kom    29 sept  20 01:02 my_conf.py\\n-rw-rw-r-- 1 kom kom    41 sept  20 00:51 my_mysterious_file.txt\\n-rw-rw-r-- 1 kom kom    99 sept  20 00:44 my_script1.py\\n-rw-rw-r-- 1 kom kom    85 sept  20 00:50 my_script2.py\\n-rw-rw-r-- 1 kom kom 14298 sept  20 02:58 Praktikum_3.ipynb\\n-rw-rw-r-- 1 kom kom   422 sept  20 02:43 print_the_name2.py\\n-rw-rw-r-- 1 kom kom    52 sept  20 02:15 print_the_name.py\\ndrwxrwxr-x 2 kom kom  4096 sept  20 01:22 __pycache__\\n'"
      ]
     },
     "execution_count": 57,
     "metadata": {},
     "output_type": "execute_result"
    }
   ],
   "source": [
    "import subprocess\n",
    "import locale\n",
    "subprocess.run(['ls','-al'],stdout=subprocess.PIPE).stdout.decode(locale.getpreferredencoding())"
   ]
  },
  {
   "cell_type": "markdown",
   "metadata": {},
   "source": [
    "## Ülesanne 2.\n",
    "<h3>Kirjeldage mingi triviaalne töövoog _subprocess_'i abil. Töövoos tehtavaid samme peab olema minimaalselt 3, ehk on tarvis kirjutada 3 skriptikest, millel on sisend ja väljund ning need tuleb üksteisega siduda (1. väljund on teise sisend, 2. väljund 3. sisend). Kõige minimalistlikum lahendus võidab. (1p)</h3>\n",
    "\n",
    "<h4>Väljundeid võib skriptide vahel vahetada kas failide võid _stdin_-_stdout_ ja _pipe_'i abil.</h4>"
   ]
  },
  {
   "cell_type": "markdown",
   "metadata": {},
   "source": [
    "<hr style=\"height:3px\">"
   ]
  },
  {
   "cell_type": "markdown",
   "metadata": {},
   "source": [
    "## Boonusülesanne 1.\n",
    "<h3>Lahendage 1. ülesanne _click_'i teegi abil, milles on funktsioon signatuuriga change_encoding(input_path, output_path, input_encoding, output_encoding). (0.5p)</h3>"
   ]
  },
  {
   "cell_type": "markdown",
   "metadata": {},
   "source": [
    "## Boonusülesanne 2.\n",
    "<h3>Lahendage 2. ülesanne _pipe_'i kasutades. (0.5p)</h3>"
   ]
  }
 ],
 "metadata": {
  "kernelspec": {
   "display_name": "Python [conda root]",
   "language": "python",
   "name": "conda-root-py"
  },
  "language_info": {
   "codemirror_mode": {
    "name": "ipython",
    "version": 3
   },
   "file_extension": ".py",
   "mimetype": "text/x-python",
   "name": "python",
   "nbconvert_exporter": "python",
   "pygments_lexer": "ipython3",
   "version": "3.5.2"
  }
 },
 "nbformat": 4,
 "nbformat_minor": 0
}
