{
 "cells": [
  {
   "cell_type": "markdown",
   "metadata": {},
   "source": [
    "<h1 style=\"color:blue\">Praktikum 8. Masinõpe</h1>\n",
    "<h3 style=\"color:blue\">Praktiline masinõpe - klassifitseerimine 2</h3>\n",
    "<h4>25. oktoober 2016 </h4>\n",
    "<h4>Ülesannete esitamise tähtaeg 8. november.</h4>"
   ]
  },
  {
   "cell_type": "markdown",
   "metadata": {},
   "source": [
    "Selles praktikumis jätkame klassifitseerimise teemadel."
   ]
  },
  {
   "cell_type": "markdown",
   "metadata": {},
   "source": [
    "## Ül. 1 Meelestatuse analüüs (5,5p)\n",
    "**Kirjeldus.** Meelestatuse analüüs *(sentiment analysis)* püüab kirjeldada, millise \"meelestatusega\" on tekst kirjutatud. Kõige lihtsamal juhul on tekst kirjeldatu suhtes kas positiivne või negatiivne ehk meie probleem\n",
    "taandub binaarseks klassifitseerimiseks. Reaalselt tuleks teksti sügavuti konteksti arvestades analüüsida, meie aga rahuldume hetkel naiivse versiooniga, kus arvestame vaid lihtsaid tunnuseid ning eeldame nende sõltumatust."
   ]
  },
  {
   "cell_type": "markdown",
   "metadata": {},
   "source": [
    "**Andmed.** Failis *hinnavaatlus.json* on toodud 44 firma teenuse osutamise kvaliteedi kohta käivad kommentaarid koos kommenteerija hinnanguga skaalal 1-5. Failis on ühel real JSON-formaadis objektide listina talletatud kommentaarid, kusjuures igal kommentaariobjektil on olemas\n",
    "- kommentaari sisu - “comment”,\n",
    "- kommenteerija antud hinnang - “rating”,\n",
    "- kommenteeritud firma - “company”."
   ]
  },
  {
   "cell_type": "markdown",
   "metadata": {},
   "source": [
    "**Eesmärk.** Firma teenuseid kirjeldava kommentaari meelsuse automaatne hindamine."
   ]
  },
  {
   "cell_type": "markdown",
   "metadata": {},
   "source": [
    "**1A. (0,5p)** Kirjutage kood, mille ülesandeks on:\n",
    "* lugeda sisse fail *hinnavaatlus.json* ja teha see Pythoni sõnaraamatuks,\n",
    "* eraldada kommentaari sisust tunnused (arv ning olemus on enda valida)\n",
    "* panna ühe kommentaari tunnused ühele reale (nt võib lemmade sageduse vektorile panna järgi kommentaari pikkuse)\n",
    "* kirjutada tunnused Numpy massiivina kettale,\n",
    "* kirjutada reitingud (ehk märgendid/*label*’id/klassid) Numpy *array*’na kettale"
   ]
  },
  {
   "cell_type": "markdown",
   "metadata": {},
   "source": [
    "Tunnustena võib näiteks kasutada:\n",
    "* tekstisõnede sagedusi,\n",
    "* lemmade sagedusi,\n",
    "* sõnaliike,\n",
    "* kommentaari pikkust,\n",
    "* ..."
   ]
  },
  {
   "cell_type": "markdown",
   "metadata": {},
   "source": [
    "**1B. (4p)** Kirjutage kood, mille ülesandeks on:\n",
    "\n",
    "**Lugeda ja töödelda andmed (0,5p)**\n",
    "* lugeda sisse kettale salvestatud Numpy struktuurid,\n",
    "* teisendada reiting binaarsele kujule, kus reiting 1-4 -> 0 (halb) ja reiting 5 -> 1 (hea)\n",
    "* jagada andmestik treening-, valideerimis- ja testandmestikuks (nt 70%-10%-20%)"
   ]
  },
  {
   "cell_type": "markdown",
   "metadata": {},
   "source": [
    "**Treenida juhusliku metsa klassifitseerijad ning neid analüüsida (1,5p)**\n",
    "* kasutada *random forest* klassifitseerijat\n",
    "* treenida treeningandmestikul erinevate parameetrite kombinatsioonidega klassifitseerijad (vähemalt 5), varieerides\n",
    "    * puude arvu (*n_estimators*) (nt 1, 10, 100),\n",
    "    * maksimaalset tunnuste arvu (*max_features*), (nt 1, 10, 20)\n",
    "     * maksimaalset puude sügavust (*max_depth*) (nt 5, 10, 100)\n",
    "* väljastada parameetrite väärtused ja *accuracy* valideerimisandmestikul\n",
    "* leida valideerimisandmestikul parim *random forest* klassifitseerija\n",
    "* treenida lisaks vaikeparameetritega klassifitseerija ning võrrelda selle *accuracy*’t eelmises sammus leitud klassifitseerijaga testandmestikul"
   ]
  },
  {
   "cell_type": "markdown",
   "metadata": {},
   "source": [
    "**Treenida tugivektormasina klassifitseerijad ning neid analüüsida (1p)**\n",
    "* kasutada *SVM* klassifitseerijat\n",
    "* treenida treeningandmestikul erinevate *kernel*’itega\n",
    "    * *rbf* (vaikimisi)\n",
    "    * linear\n",
    "    * poly\n",
    "    * sigmoid\n",
    "* väljastada parameetrite väärtused ja *accuracy*\n",
    "* leida valideerimisandmestikul parim *SVM* klassifitseerija\n",
    "* treenida lisaks vaikeparameetritega klassifitseerija ning võrrelda selle *accuracy*’t eelmises sammus leitud klassifitseerijaga testandmestikul"
   ]
  },
  {
   "cell_type": "markdown",
   "metadata": {},
   "source": [
    "**Treenida otsustuspuul töötav klassifitseerija (0,5p)**\n",
    "* kasutada *decision tree* klassifitseerijat\n",
    "* treenida treeningandmestikul vaikeparameetritega\n",
    "* väljastada *accuracy*"
   ]
  },
  {
   "cell_type": "markdown",
   "metadata": {},
   "source": [
    "**Võrrelda erinevatel meetoditel saadud klassifitseerijate tulemusi testandmestikul (0,5p)**\n",
    "* võrrelda parima juhusliku metsa, tugivektormasina ja otsustuspuu *accuracy*’t ning võrdlus väljastada"
   ]
  },
  {
   "cell_type": "markdown",
   "metadata": {},
   "source": [
    "**Vihjeid:**\n",
    "* Klassifitseerijad\n",
    "     * sklearn.ensemble.RandomForestClassifier\n",
    "     * sklearn.svm.SVC\n",
    "     * sklearn.tree.DecisionTreeClassifier\n",
    "* Accuracy\n",
    "     * sklearn.metrics.accuracy_score(true_labels, predicted_labels)\n",
    "* igal kommentaaril ei pruugi olla reitingut, mistõttu võib need antud analüüsis vahele jätta\n",
    "* treening-, valideerimis- ja testandmestiku loomiseks võib kasutada 70-10-20 jaotuse korral\n",
    "     * train_val, test = sklearn.cross_validation.train_test_split(data,test_size=0.2)\n",
    "     * train, val = sklearn.cross_validation.train_test_split(train_val,test_size=0.125)"
   ]
  },
  {
   "cell_type": "markdown",
   "metadata": {},
   "source": [
    "**1C. (1p)**  Kirjutage kood, mille ülesandeks on:\n",
    "\n",
    "**Lugeda ja töödelda andmed:**\n",
    "* lugeda sisse kettale salvestatud Numpy struktuurid,\n",
    "* JÄTTA REITING SKAALALE 1-5,\n",
    "* jagada andmestik treening- ja testandmestikuks (nt 70%-30%),"
   ]
  },
  {
   "cell_type": "markdown",
   "metadata": {},
   "source": [
    "**Treenida klassifitseerijad:**\n",
    "* treenida treeningandmestikul vaikeparameetritega\n",
    "     * juhusliku metsa klassifitseerija,\n",
    "     * tugivektormasina klassifitseerija\n",
    "     * otsustuspuu klassifitseerija\n",
    "* võrrelda klassifitseerijate *accuracy*’it üksteisega\n",
    "* võrrelda parima klassifitseerija *accuracy*’t ülesande 1B parima klassifitseerijaga\n",
    "* kas oskate põhjendada, miks täpsused erinevad/ei erine?"
   ]
  },
  {
   "cell_type": "markdown",
   "metadata": {},
   "source": [
    "## Ül. 2 Probleemi kirjeldamine otsustuspuu baasil (1p) "
   ]
  },
  {
   "cell_type": "markdown",
   "metadata": {},
   "source": [
    "**Motivatsioon.** Alati ei soovi me ennustada või süsteemis kasutada erinevatel asjaoludel konkreetset mudelit. Selle asemel pakub meile huvi, millised tunnused määravad enim mingisse klassi kuulumise. Kahjuks pole aga paljud masinõppemudelid tõlgendatavad. Mudelite seas paistavad aga silma otsustuspuu ja juhuslik mets, mille väljundit on tunnuste olulisuse võtmes väga lihtne mõista."
   ]
  },
  {
   "cell_type": "markdown",
   "metadata": {},
   "source": [
    "**Eesmärk.** Leida, millised tekstilised tunnused mõjutavad enim reitingut."
   ]
  },
  {
   "cell_type": "markdown",
   "metadata": {},
   "source": [
    "**Lugeda ja töödelda andmed.**\n",
    "* lugeda sisse kettale salvestatud Numpy struktuurid,\n",
    "* JÄTTA REITING SKAALALE 1-5,\n",
    "* jagada andmestik treening- ja testandmestikuks (nt 70%-30%).\n",
    "\n",
    "**Treenida otsustuspuu ja juhusliku metsa klassifitseerija.**\n",
    "* treenida treeningandmestikul vaikeparameetritega\n",
    "     * otsustuspuu klassifitseerija\n",
    "     * juhusliku metsa klassifitseerija"
   ]
  },
  {
   "cell_type": "markdown",
   "metadata": {},
   "source": [
    "** Leida kõige olulisemad tunnused mõlemal klassifitseerijal:**\n",
    "* sorteerida tunnused olulisuse alusel\n",
    "     * nii otsustuspuu kui juhuslik mets talletavad iga tunnuse olulisuse astaku\n",
    "         * model.feature_importances_\n",
    "     * sorteerimiseks on otstarbekas kasutada Numpy *array argsort*’i, mis tagastab sorteeritud elementide asemel vastavad indeksid\n",
    "         * kõige ebaolulisema tunnuse indeks on esimene, kõige olulisema tunnuse indeks viimane\n",
    "* valida mingi arv kõige olulisemaid tunnuste indekseid ning seada neile ülesande 1A-ga konsulteerides mõistlikud nimed, näiteks\n",
    "      * “‘hea’ sagedus”\n",
    "      * “kommentaari pikkus”\n",
    "* võrrelda klassifitseerijate pakutud olulisemaid tunnuseid\n",
    "* kumma tunnuseid usaldate enam ja miks?"
   ]
  },
  {
   "cell_type": "markdown",
   "metadata": {},
   "source": [
    "## Ül. 3 Vead mudelis (1,5p)\n",
    "**Motivatsioon.** Masinõppemeetodid annavad kehvi tulemusi erinevatel põhjustel. Käesolevas ülesandes tutvume kolme sagedase juhuga.\n",
    "\n",
    "**Eesmärk.** Simuleerida erinevaid stsenaariumeid, mil masinõppemeetodid annavad kehvi tulemusi."
   ]
  },
  {
   "cell_type": "markdown",
   "metadata": {},
   "source": [
    "**Luua optimaalne *baseline* mudel, mida hakkame kehvade mudelitega võrdlema.**\n",
    "* lugeda sisse kettale salvestatud Numpy struktuurid,\n",
    "* jagada andmestik treening- ja testandmestikuks (nt 80-20)\n",
    "* treenida treeningandmestikul vaikeparameetritega otsustuspuu\n",
    "* leida testandmestikul otsustuspuu *accuracy*"
   ]
  },
  {
   "cell_type": "markdown",
   "metadata": {},
   "source": [
    "**Liiga lihtne mudel. Alaõppimine. (0,5p)** \n",
    "* treenida treeningandmestikul otsustuspuu\n",
    "     * limiteerida maksimaalsete tunnuste arvu (*max_features*)\n",
    "         * sõltuvalt oluliste tunnuste arvust (võib võtta nt 2-4)\n",
    "* leida testandmestikul otsustuspuu ​ accuracy\n",
    "* võrrelda *baseline*’iga"
   ]
  },
  {
   "cell_type": "markdown",
   "metadata": {},
   "source": [
    "**Puuduvad olulised tunnused. (0,5p)**\n",
    "* tuvastada *baseline*’i abil *n* kõige olulisemat tunnust\n",
    "* treenida treeningandmestikul otsustuspuu ilma eelnevalt leitud *n* parima tunnuseta\n",
    "    * tunnused võib välja jätta *masked_array*’d kasutades\n",
    "         * np.ma\n",
    "* leida testandmestikul otsustuspuu *accuracy*\n",
    "* võrrelda *baseline*’iga"
   ]
  },
  {
   "cell_type": "markdown",
   "metadata": {},
   "source": [
    "**Mudel liiga väheste andmetega. (0,5p)**\n",
    "* jagada andmestik treening- ja testandmestikuks (10-90)\n",
    "* treenida treeningandmestikul vaikeparameetritega otsustuspuu\n",
    "* leida testandmestikul otsustuspuu *accuracy*\n",
    "* võrrelda *baseline*’iga"
   ]
  }
 ],
 "metadata": {
  "anaconda-cloud": {},
  "kernelspec": {
   "display_name": "Python [conda env:working_estnltk]",
   "language": "python",
   "name": "conda-env-working_estnltk-py"
  },
  "language_info": {
   "codemirror_mode": {
    "name": "ipython",
    "version": 3
   },
   "file_extension": ".py",
   "mimetype": "text/x-python",
   "name": "python",
   "nbconvert_exporter": "python",
   "pygments_lexer": "ipython3",
   "version": "3.5.2"
  }
 },
 "nbformat": 4,
 "nbformat_minor": 1
}
