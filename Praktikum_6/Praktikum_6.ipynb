{
 "cells": [
  {
   "cell_type": "markdown",
   "metadata": {},
   "source": [
    "<h1 style=\"color:blue\">Praktikum 6. EstNLTK</h1>\n",
    "<h3 style=\"color:blue\">Tekstitöötlus eesti keelele loodud vahenditega</h3>\n",
    "<h4>11. oktoober 2016 </h4>\n",
    "<h4>Ülesannete esitamise tähtaeg 25. oktoober.</h4>"
   ]
  },
  {
   "cell_type": "markdown",
   "metadata": {},
   "source": [
    "EstNLTK teek on kasutamiseks vaja installida. 64-bitisele **Linuxile** on selleks olemas Conda pakett, mis tasub installida sellesse conda keskkonda, mida antud aine praktikumiülesannete lahendamiseks kasutate. Linuxile saab paketi installida tavapärasel moel - kas Jupyteri Conda tabilt või käsurealt käsuga\n",
    "\n",
    "`conda install estnltk`"
   ]
  },
  {
   "cell_type": "markdown",
   "metadata": {},
   "source": [
    "Alates eilsest on olemas Conda pakett ka 64-bitisele **Windowsile**, mille installimine toimub käsurealt käsuga\n",
    "\n",
    "`conda install -c estnltk -c conda-forge estnltk`\n",
    "\n"
   ]
  },
  {
   "cell_type": "markdown",
   "metadata": {},
   "source": [
    "EstNLTK dokumentatsioon: http://estnltk.github.io/estnltk/1.4/"
   ]
  },
  {
   "cell_type": "markdown",
   "metadata": {},
   "source": [
    "### Text objekti loomine"
   ]
  },
  {
   "cell_type": "code",
   "execution_count": 1,
   "metadata": {
    "collapsed": true
   },
   "outputs": [],
   "source": [
    "from estnltk import Text"
   ]
  },
  {
   "cell_type": "code",
   "execution_count": 21,
   "metadata": {
    "collapsed": true
   },
   "outputs": [],
   "source": [
    "my_sentence = \"Mees peeti kinni ja viidi Tartu vanglasse. Sinna pidi ta jääma kolmeks kuuks.\""
   ]
  },
  {
   "cell_type": "code",
   "execution_count": 22,
   "metadata": {
    "collapsed": true
   },
   "outputs": [],
   "source": [
    "# Teeme oma teksti Text objektiks\n",
    "text = Text(my_sentence)"
   ]
  },
  {
   "cell_type": "code",
   "execution_count": 23,
   "metadata": {
    "collapsed": false
   },
   "outputs": [
    {
     "data": {
      "text/plain": [
       "{'text': 'Mees peeti kinni ja viidi Tartu vanglasse. Sinna pidi ta jääma kolmeks kuuks.'}"
      ]
     },
     "execution_count": 23,
     "metadata": {},
     "output_type": "execute_result"
    }
   ],
   "source": [
    "text"
   ]
  },
  {
   "cell_type": "markdown",
   "metadata": {},
   "source": [
    "Nagu näeme, on põhimõtteliselt tegemist *dictionary* ehk sõnaraamatuga."
   ]
  },
  {
   "cell_type": "markdown",
   "metadata": {},
   "source": [
    "### Teksti segmenteerimine"
   ]
  },
  {
   "cell_type": "markdown",
   "metadata": {},
   "source": [
    "Keeleandmete analüüsimiseks on vaja tekst tükeldada - jagada lauseteks ja sõnadeks. Senistes praktikumides oleme ise näiteks split() meetodi abil tekste tükeldanud, EstNLTK aga teeb selle töö meie eest ära. Seega võime teksti lihtsalt failist sisse lugeda ning konverteerida Text objektiks, vaevamata ennast sellega, kuidas eemaldada sõnade külge kleepunud kirjavahemärgid jms."
   ]
  },
  {
   "cell_type": "markdown",
   "metadata": {},
   "source": [
    "*Text* objektile saab lisada juurde erinevaid kihte (*layer*'eid). Kihil peavad minimaalselt olema tähistatud nimi - see on sõnastikus võtmeks - ning algus- ja lõpp-positsioon algses tekstis. Algus- ja lõpp-positsioon (*start* ja *end*) näitavad, mitmenda märgi juures vastav kiht algab või lõppeb."
   ]
  },
  {
   "cell_type": "markdown",
   "metadata": {},
   "source": [
    "Näiteks, kui küsime oma tekstist infot lausete kohta, siis lisatakse juurde ka lõike (*paragraphs*) tähistav kiht, kuna see on lausestamise eelduseks."
   ]
  },
  {
   "cell_type": "code",
   "execution_count": 24,
   "metadata": {
    "collapsed": false
   },
   "outputs": [
    {
     "data": {
      "text/plain": [
       "[{'end': 42, 'start': 0}, {'end': 77, 'start': 43}]"
      ]
     },
     "execution_count": 24,
     "metadata": {},
     "output_type": "execute_result"
    }
   ],
   "source": [
    "text.sentences"
   ]
  },
  {
   "cell_type": "code",
   "execution_count": 25,
   "metadata": {
    "collapsed": false
   },
   "outputs": [
    {
     "data": {
      "text/plain": [
       "{'paragraphs': [{'end': 77, 'start': 0}],\n",
       " 'sentences': [{'end': 42, 'start': 0}, {'end': 77, 'start': 43}],\n",
       " 'text': 'Mees peeti kinni ja viidi Tartu vanglasse. Sinna pidi ta jääma kolmeks kuuks.'}"
      ]
     },
     "execution_count": 25,
     "metadata": {},
     "output_type": "execute_result"
    }
   ],
   "source": [
    "text"
   ]
  },
  {
   "cell_type": "markdown",
   "metadata": {},
   "source": [
    "Kui lõigud ja laused on olemas, siis sõnadeks jagamiseks enam uusi kihte lisada vaja pole - sõnade küsimisel lisandub *Text* objektile vaid 'words' kiht."
   ]
  },
  {
   "cell_type": "code",
   "execution_count": 29,
   "metadata": {
    "collapsed": false,
    "scrolled": true
   },
   "outputs": [
    {
     "data": {
      "text/plain": [
       "[{'end': 4, 'start': 0, 'text': 'Mees'},\n",
       " {'end': 10, 'start': 5, 'text': 'peeti'},\n",
       " {'end': 16, 'start': 11, 'text': 'kinni'},\n",
       " {'end': 19, 'start': 17, 'text': 'ja'},\n",
       " {'end': 25, 'start': 20, 'text': 'viidi'},\n",
       " {'end': 31, 'start': 26, 'text': 'Tartu'},\n",
       " {'end': 41, 'start': 32, 'text': 'vanglasse'},\n",
       " {'end': 42, 'start': 41, 'text': '.'},\n",
       " {'end': 48, 'start': 43, 'text': 'Sinna'},\n",
       " {'end': 53, 'start': 49, 'text': 'pidi'},\n",
       " {'end': 56, 'start': 54, 'text': 'ta'},\n",
       " {'end': 62, 'start': 57, 'text': 'jääma'},\n",
       " {'end': 70, 'start': 63, 'text': 'kolmeks'},\n",
       " {'end': 76, 'start': 71, 'text': 'kuuks'},\n",
       " {'end': 77, 'start': 76, 'text': '.'}]"
      ]
     },
     "execution_count": 29,
     "metadata": {},
     "output_type": "execute_result"
    }
   ],
   "source": [
    "text.words"
   ]
  },
  {
   "cell_type": "code",
   "execution_count": 31,
   "metadata": {
    "collapsed": false,
    "scrolled": false
   },
   "outputs": [
    {
     "data": {
      "text/plain": [
       "{'paragraphs': [{'end': 77, 'start': 0}],\n",
       " 'sentences': [{'end': 42, 'start': 0}, {'end': 77, 'start': 43}],\n",
       " 'text': 'Mees peeti kinni ja viidi Tartu vanglasse. Sinna pidi ta jääma kolmeks kuuks.',\n",
       " 'words': [{'end': 4, 'start': 0, 'text': 'Mees'},\n",
       "  {'end': 10, 'start': 5, 'text': 'peeti'},\n",
       "  {'end': 16, 'start': 11, 'text': 'kinni'},\n",
       "  {'end': 19, 'start': 17, 'text': 'ja'},\n",
       "  {'end': 25, 'start': 20, 'text': 'viidi'},\n",
       "  {'end': 31, 'start': 26, 'text': 'Tartu'},\n",
       "  {'end': 41, 'start': 32, 'text': 'vanglasse'},\n",
       "  {'end': 42, 'start': 41, 'text': '.'},\n",
       "  {'end': 48, 'start': 43, 'text': 'Sinna'},\n",
       "  {'end': 53, 'start': 49, 'text': 'pidi'},\n",
       "  {'end': 56, 'start': 54, 'text': 'ta'},\n",
       "  {'end': 62, 'start': 57, 'text': 'jääma'},\n",
       "  {'end': 70, 'start': 63, 'text': 'kolmeks'},\n",
       "  {'end': 76, 'start': 71, 'text': 'kuuks'},\n",
       "  {'end': 77, 'start': 76, 'text': '.'}]}"
      ]
     },
     "execution_count": 31,
     "metadata": {},
     "output_type": "execute_result"
    }
   ],
   "source": [
    "text"
   ]
  },
  {
   "cell_type": "markdown",
   "metadata": {},
   "source": [
    "divide() meetod võimaldab teksti lause kaupa üle sõnade itereerida:"
   ]
  },
  {
   "cell_type": "code",
   "execution_count": 117,
   "metadata": {
    "collapsed": false
   },
   "outputs": [
    {
     "name": "stdout",
     "output_type": "stream",
     "text": [
      "UUS LAUSE\n",
      "Mees\n",
      "peeti\n",
      "kinni\n",
      "ja\n",
      "viidi\n",
      "Tartu\n",
      "vanglasse\n",
      ".\n",
      "UUS LAUSE\n",
      "Sinna\n",
      "pidi\n",
      "ta\n",
      "jääma\n",
      "kolmeks\n",
      "kuuks\n",
      ".\n"
     ]
    }
   ],
   "source": [
    "for sentence in text.divide():\n",
    "    print(\"UUS LAUSE\")\n",
    "    for word in sentence:\n",
    "        print(word['text'])"
   ]
  },
  {
   "cell_type": "markdown",
   "metadata": {},
   "source": [
    "**NB!** Kui töötate mahukate tekstidega ja oluline on kiirus, siis tasub arvesse võtta, et kui *Text* objektile on märgenduskiht juba lisatud ja soovite seda uuesti vaadata/kasutada, siis on efektiivsem käsitleda *Text* objekti kui sõnastikku, mitte kasutada klassimuutujat. Ehk \n",
    "\n",
    "`text['words']` \n",
    "\n",
    "on kiirem kui \n",
    "\n",
    "`text.words`"
   ]
  },
  {
   "cell_type": "markdown",
   "metadata": {},
   "source": [
    "### Morfoloogiline analüüs"
   ]
  },
  {
   "cell_type": "markdown",
   "metadata": {},
   "source": [
    "Eesti keeles on sõnadel palju erinevaid vorme - käändsõnadel (nimi-, omadus-, ase-, arvsõnad) kääne ja arv (ainsus/mitmus), pöördsõnadel (tegusõnad) isik, aeg, arv, tegumood jne. Seetõttu võib sama sõna esineda tekstis mitmel erineval kujul. Teksti töötluse seisukohast on aga tihti kasulik käsitleda ühe sõna kõiki vorme koos. Selleks teisendatakse üldiselt sõnad algvormi ehk *lemma* kujule. "
   ]
  },
  {
   "cell_type": "markdown",
   "metadata": {},
   "source": [
    "EstNLTK-s saab lemmad leida klassimuutuja 'lemmas' abil:"
   ]
  },
  {
   "cell_type": "code",
   "execution_count": 33,
   "metadata": {
    "collapsed": false,
    "scrolled": true
   },
   "outputs": [
    {
     "data": {
      "text/plain": [
       "['mees',\n",
       " 'pidama',\n",
       " 'kinni',\n",
       " 'ja',\n",
       " 'viima',\n",
       " 'Tartu',\n",
       " 'vangla',\n",
       " '.',\n",
       " 'sinna',\n",
       " 'pidama',\n",
       " 'tema',\n",
       " 'jääma',\n",
       " 'kolm',\n",
       " 'kuu',\n",
       " '.']"
      ]
     },
     "execution_count": 33,
     "metadata": {},
     "output_type": "execute_result"
    }
   ],
   "source": [
    "text.lemmas"
   ]
  },
  {
   "cell_type": "code",
   "execution_count": 35,
   "metadata": {
    "collapsed": false,
    "scrolled": true
   },
   "outputs": [
    {
     "data": {
      "text/plain": [
       "[{'analysis': [{'clitic': '',\n",
       "    'ending': '0',\n",
       "    'form': 'sg n',\n",
       "    'lemma': 'mees',\n",
       "    'partofspeech': 'S',\n",
       "    'root': 'mees',\n",
       "    'root_tokens': ['mees']}],\n",
       "  'end': 4,\n",
       "  'start': 0,\n",
       "  'text': 'Mees'},\n",
       " {'analysis': [{'clitic': '',\n",
       "    'ending': 'ti',\n",
       "    'form': 'ti',\n",
       "    'lemma': 'pidama',\n",
       "    'partofspeech': 'V',\n",
       "    'root': 'pida',\n",
       "    'root_tokens': ['pida']}],\n",
       "  'end': 10,\n",
       "  'start': 5,\n",
       "  'text': 'peeti'},\n",
       " {'analysis': [{'clitic': '',\n",
       "    'ending': '0',\n",
       "    'form': '',\n",
       "    'lemma': 'kinni',\n",
       "    'partofspeech': 'D',\n",
       "    'root': 'kinni',\n",
       "    'root_tokens': ['kinni']}],\n",
       "  'end': 16,\n",
       "  'start': 11,\n",
       "  'text': 'kinni'},\n",
       " {'analysis': [{'clitic': '',\n",
       "    'ending': '0',\n",
       "    'form': '',\n",
       "    'lemma': 'ja',\n",
       "    'partofspeech': 'J',\n",
       "    'root': 'ja',\n",
       "    'root_tokens': ['ja']}],\n",
       "  'end': 19,\n",
       "  'start': 17,\n",
       "  'text': 'ja'},\n",
       " {'analysis': [{'clitic': '',\n",
       "    'ending': 'di',\n",
       "    'form': 'ti',\n",
       "    'lemma': 'viima',\n",
       "    'partofspeech': 'V',\n",
       "    'root': 'vii',\n",
       "    'root_tokens': ['vii']}],\n",
       "  'end': 25,\n",
       "  'start': 20,\n",
       "  'text': 'viidi'},\n",
       " {'analysis': [{'clitic': '',\n",
       "    'ending': '0',\n",
       "    'form': 'sg g',\n",
       "    'lemma': 'Tartu',\n",
       "    'partofspeech': 'H',\n",
       "    'root': 'Tartu',\n",
       "    'root_tokens': ['Tartu']}],\n",
       "  'end': 31,\n",
       "  'start': 26,\n",
       "  'text': 'Tartu'},\n",
       " {'analysis': [{'clitic': '',\n",
       "    'ending': 'sse',\n",
       "    'form': 'sg ill',\n",
       "    'lemma': 'vangla',\n",
       "    'partofspeech': 'S',\n",
       "    'root': 'vangla',\n",
       "    'root_tokens': ['vangla']}],\n",
       "  'end': 41,\n",
       "  'start': 32,\n",
       "  'text': 'vanglasse'},\n",
       " {'analysis': [{'clitic': '',\n",
       "    'ending': '',\n",
       "    'form': '',\n",
       "    'lemma': '.',\n",
       "    'partofspeech': 'Z',\n",
       "    'root': '.',\n",
       "    'root_tokens': ['.']}],\n",
       "  'end': 42,\n",
       "  'start': 41,\n",
       "  'text': '.'},\n",
       " {'analysis': [{'clitic': '',\n",
       "    'ending': '0',\n",
       "    'form': '',\n",
       "    'lemma': 'sinna',\n",
       "    'partofspeech': 'D',\n",
       "    'root': 'sinna',\n",
       "    'root_tokens': ['sinna']}],\n",
       "  'end': 48,\n",
       "  'start': 43,\n",
       "  'text': 'Sinna'},\n",
       " {'analysis': [{'clitic': '',\n",
       "    'ending': 'i',\n",
       "    'form': 's',\n",
       "    'lemma': 'pidama',\n",
       "    'partofspeech': 'V',\n",
       "    'root': 'pida',\n",
       "    'root_tokens': ['pida']}],\n",
       "  'end': 53,\n",
       "  'start': 49,\n",
       "  'text': 'pidi'},\n",
       " {'analysis': [{'clitic': '',\n",
       "    'ending': '0',\n",
       "    'form': 'sg n',\n",
       "    'lemma': 'tema',\n",
       "    'partofspeech': 'P',\n",
       "    'root': 'tema',\n",
       "    'root_tokens': ['tema']}],\n",
       "  'end': 56,\n",
       "  'start': 54,\n",
       "  'text': 'ta'},\n",
       " {'analysis': [{'clitic': '',\n",
       "    'ending': 'ma',\n",
       "    'form': 'ma',\n",
       "    'lemma': 'jääma',\n",
       "    'partofspeech': 'V',\n",
       "    'root': 'jää',\n",
       "    'root_tokens': ['jää']}],\n",
       "  'end': 62,\n",
       "  'start': 57,\n",
       "  'text': 'jääma'},\n",
       " {'analysis': [{'clitic': '',\n",
       "    'ending': 'ks',\n",
       "    'form': 'sg tr',\n",
       "    'lemma': 'kolm',\n",
       "    'partofspeech': 'N',\n",
       "    'root': 'kolm',\n",
       "    'root_tokens': ['kolm']}],\n",
       "  'end': 70,\n",
       "  'start': 63,\n",
       "  'text': 'kolmeks'},\n",
       " {'analysis': [{'clitic': '',\n",
       "    'ending': 'ks',\n",
       "    'form': 'sg tr',\n",
       "    'lemma': 'kuu',\n",
       "    'partofspeech': 'S',\n",
       "    'root': 'kuu',\n",
       "    'root_tokens': ['kuu']}],\n",
       "  'end': 76,\n",
       "  'start': 71,\n",
       "  'text': 'kuuks'},\n",
       " {'analysis': [{'clitic': '',\n",
       "    'ending': '',\n",
       "    'form': '',\n",
       "    'lemma': '.',\n",
       "    'partofspeech': 'Z',\n",
       "    'root': '.',\n",
       "    'root_tokens': ['.']}],\n",
       "  'end': 77,\n",
       "  'start': 76,\n",
       "  'text': '.'}]"
      ]
     },
     "execution_count": 35,
     "metadata": {},
     "output_type": "execute_result"
    }
   ],
   "source": [
    "text.words"
   ]
  },
  {
   "cell_type": "markdown",
   "metadata": {},
   "source": [
    "Nagu näha, tehakse lemmade leidmiseks tekstile morfoloogiline analüüs: 'words' kihti tekib alamkiht 'analysis', mille üheks elemendiks on lemma."
   ]
  },
  {
   "cell_type": "markdown",
   "metadata": {},
   "source": [
    "Vaikimisi tehakse morfoloogiline analüüs koos ühestamisega: kui ühe sõnavormi analüüsimiseks on mitu võimalust - näiteks sõna \"peeti\" võib olla nii vorm nimisõnast \"peet\" kui ka tegusõnast \"pidama\" - , siis valitakse välja antud kontekstis kõige tõenäolisem tõlgendus. Seejuures jääb siiski mõningatel juhtudel mitmesus alles, nt järgmises näites on sõnal \"surnud\" neli analüüsivarianti."
   ]
  },
  {
   "cell_type": "code",
   "execution_count": 36,
   "metadata": {
    "collapsed": false,
    "scrolled": true
   },
   "outputs": [
    {
     "data": {
      "text/plain": [
       "[[{'clitic': '',\n",
       "   'ending': '0',\n",
       "   'form': 'sg n',\n",
       "   'lemma': 'mees',\n",
       "   'partofspeech': 'S',\n",
       "   'root': 'mees',\n",
       "   'root_tokens': ['mees']}],\n",
       " [{'clitic': '',\n",
       "   'ending': 'i',\n",
       "   'form': 's',\n",
       "   'lemma': 'olema',\n",
       "   'partofspeech': 'V',\n",
       "   'root': 'ole',\n",
       "   'root_tokens': ['ole']}],\n",
       " [{'clitic': '',\n",
       "   'ending': '0',\n",
       "   'form': '',\n",
       "   'lemma': 'surnud',\n",
       "   'partofspeech': 'A',\n",
       "   'root': 'surnud',\n",
       "   'root_tokens': ['surnud']},\n",
       "  {'clitic': '',\n",
       "   'ending': '0',\n",
       "   'form': 'sg n',\n",
       "   'lemma': 'surnud',\n",
       "   'partofspeech': 'A',\n",
       "   'root': 'surnud',\n",
       "   'root_tokens': ['surnud']},\n",
       "  {'clitic': '',\n",
       "   'ending': 'd',\n",
       "   'form': 'pl n',\n",
       "   'lemma': 'surnud',\n",
       "   'partofspeech': 'A',\n",
       "   'root': 'surnud',\n",
       "   'root_tokens': ['surnud']},\n",
       "  {'clitic': '',\n",
       "   'ending': 'nud',\n",
       "   'form': 'nud',\n",
       "   'lemma': 'surema',\n",
       "   'partofspeech': 'V',\n",
       "   'root': 'sure',\n",
       "   'root_tokens': ['sure']}],\n",
       " [{'clitic': '',\n",
       "   'ending': '',\n",
       "   'form': '',\n",
       "   'lemma': '.',\n",
       "   'partofspeech': 'Z',\n",
       "   'root': '.',\n",
       "   'root_tokens': ['.']}]]"
      ]
     },
     "execution_count": 36,
     "metadata": {},
     "output_type": "execute_result"
    }
   ],
   "source": [
    "Text(\"Mees oli surnud.\").analysis"
   ]
  },
  {
   "cell_type": "markdown",
   "metadata": {},
   "source": [
    "Ühestajat on võimalik *Text* objekti loomisel ka välja lülitada, sellisel juhul antakse välja kõik võimalikud morfoloogilise analüüsi tõlgendused sõnade kohta."
   ]
  },
  {
   "cell_type": "code",
   "execution_count": 40,
   "metadata": {
    "collapsed": false
   },
   "outputs": [
    {
     "data": {
      "text/plain": [
       "['Mee|Mees|Mesi|mees|mesi', 'olema', 'surema|surnu|surnud', '.']"
      ]
     },
     "execution_count": 40,
     "metadata": {},
     "output_type": "execute_result"
    }
   ],
   "source": [
    "Text(\"Mees oli surnud.\", disambiguate = False).lemmas"
   ]
  },
  {
   "cell_type": "code",
   "execution_count": 41,
   "metadata": {
    "collapsed": false
   },
   "outputs": [
    {
     "data": {
      "text/plain": [
       "['H|S', 'V', 'A|S|V', 'Z']"
      ]
     },
     "execution_count": 41,
     "metadata": {},
     "output_type": "execute_result"
    }
   ],
   "source": [
    "Text(\"Mees oli surnud.\", disambiguate = False).postags"
   ]
  },
  {
   "cell_type": "markdown",
   "metadata": {},
   "source": [
    "### Ülesanne 1. (1p)\n",
    "\n",
    "Leidke praktikumi materjalide hulgast fail *parasiitlusest.txt*. Lugege fail sisse, konverteerige*Text* objektiks ning teostage morfoloogiline analüüs. Täiendage oma koodi nii, et saaks vastata järgmistele küsimustele:\n",
    "\n",
    "A. Mitu lauset on tekstis?\n",
    "\n",
    "B. Kui suur on dokumendi sõnavara (ehk unikaalsete tekstisõnede arv) ilma lemmatiseerimata?\n",
    "\n",
    "C. Kui suur on dokumendi sõnavara lemmatiseeritult?\n",
    "\n",
    "D. Mitu % sõnadest jääb mitmeseks (on mitu analüüsi) koos morfoloogilise ühestamisega?\n",
    "\n",
    "E. Mitu % sõnadest jääb mitmeseks ilma morfoloogilise ühestamiseta?"
   ]
  },
  {
   "cell_type": "markdown",
   "metadata": {
    "collapsed": false
   },
   "source": [
    "### Ülesanne 2. (1,5p)\n",
    "Kirjutage funktsioon, mis loeb kokku erinevate atribuutide esinemiste arvud dokumentides ning tagastab need sagedusmaatriksitena. Loendatavateks atribuutideks oleksid: \n",
    "\n",
    "a) lemma,\n",
    "\n",
    "b) sõnaliik (partofspeech),\n",
    "\n",
    "c) grammatiline info (form),\n",
    "\n",
    "d) sõnaliik + grammatiline info.\n",
    "\n",
    "Iga üksuse kohta koostatakse eraldi sagedusmaatriks ehk kokku neli maatriksit.\n",
    "\n",
    "Jooksutage funktsiooni Indrek Hargla lühijuttudel, mille leiate praktikumimaterjalide hulgast kaustast hargla_parsed.\n",
    "\n",
    "Ülesande lahendusega koos esitada ka 4 eraldi failidesse salvestatud sagedusmaatriksit. Mälupuuduse ilmnemisel võib 1x esinevad sõnad sagedusmaatriksist välja jätta."
   ]
  },
  {
   "cell_type": "markdown",
   "metadata": {
    "collapsed": true
   },
   "source": [
    "### Ülesanne 3. (1,5p)\n",
    "Täiendage Indrek Hargla lühijuttude töötlemise skripti sedasi, et lisaks eelnevale saaks\n",
    "kokku lugeda ka eelnimetatud atribuutidest koosnevaid mitmikke (n-gramme). Mitmiku pikkust (n) peab olema võimalik funktsiooni välja kutsudes ette anda. Mälupuuduse ilmnemisel võib 1x esinevad mitmikud sagedusmaatriksist välja jätta.\n",
    "\n",
    "Lahendusega koos esitada 2-grammide sagedusmaatriks salvestatuna eraldi faili.\n",
    "\n",
    "**NB!** Mitmikud ei tohi ületada lausepiire.\n",
    "\n",
    "Mitmike leidmisest http://locallyoptimal.com/blog/2013/01/20/elegant­n­gram­generation­in­python/"
   ]
  },
  {
   "cell_type": "markdown",
   "metadata": {},
   "source": [
    "### Nimega üksused"
   ]
  },
  {
   "cell_type": "markdown",
   "metadata": {},
   "source": [
    "Nimega üksuste tuvastamine (*named entity recognition*, NER) on oluline erinevate tekstitöötlusülesannete puhul. Nimede tuvastamine aitab vähendada tekstis mitmesusi (nt kas lause alguses olev suurtäheline nimisõna on pärisnimi või mitte) ning omab olulist rolli automaatsel infoeraldusel, samuti võib nimede tuvastamine olla eeltingimuseks teatavate andmete töötlemisel. "
   ]
  },
  {
   "cell_type": "markdown",
   "metadata": {},
   "source": [
    "EstNLTK-s saab leida nimega üksused klassimuutuja 'named_entities' abil:"
   ]
  },
  {
   "cell_type": "code",
   "execution_count": 65,
   "metadata": {
    "collapsed": false
   },
   "outputs": [],
   "source": [
    "text2 = Text(\"Jüri Mets sõitis Elroni rongiga Tartusse.\")"
   ]
  },
  {
   "cell_type": "code",
   "execution_count": 66,
   "metadata": {
    "collapsed": false
   },
   "outputs": [
    {
     "data": {
      "text/plain": [
       "['Jüri Mets', 'Elron|Elroni', 'Tartu']"
      ]
     },
     "execution_count": 66,
     "metadata": {},
     "output_type": "execute_result"
    }
   ],
   "source": [
    "text2.named_entities"
   ]
  },
  {
   "cell_type": "code",
   "execution_count": 69,
   "metadata": {
    "collapsed": false
   },
   "outputs": [
    {
     "data": {
      "text/plain": [
       "[('Jüri Mets', 'PER', (0, 9)),\n",
       " ('Elron|Elroni', 'ORG', (17, 23)),\n",
       " ('Tartu', 'LOC', (32, 40))]"
      ]
     },
     "execution_count": 69,
     "metadata": {},
     "output_type": "execute_result"
    }
   ],
   "source": [
    "list(zip(text2.named_entities, text2.named_entity_labels, text2.named_entity_spans))"
   ]
  },
  {
   "cell_type": "markdown",
   "metadata": {},
   "source": [
    "### Ülesanne 4. (1p)\n",
    "Leidke Indrek Hargla lühijuttudest nimega üksused ning lugege kokku, mitmes\n",
    "lühijutus iga leitud nimega üksus esineb. Järjestage saadud tulemused sageduse\n",
    "alusel ning väljastage 10 nimega üksust, mida esines enim."
   ]
  },
  {
   "cell_type": "markdown",
   "metadata": {},
   "source": [
    "### Wordnet"
   ]
  },
  {
   "cell_type": "markdown",
   "metadata": {},
   "source": [
    "Wordnet on leksikaal-semantiline andmebaas, mis sisaldab informatsiooni mõistete ja nendevaheliste semantiliste suhete kohta. Wordneti põhiühik on sünonüümihulk (ka sünohulk), mis koosneb kõigist ühte ja sama mõistet väljendavatest sõnadest (või sõnaühenditest). Sünohulgad on ühendatud viidetega, mis vastavad mõistetevahelistele suhetele. Kõige olulisemad suhted on hüponüümia ja hüperonüümia ehk alam- ja ülemmõistete leidmine. "
   ]
  },
  {
   "cell_type": "code",
   "execution_count": 89,
   "metadata": {
    "collapsed": true
   },
   "outputs": [],
   "source": [
    "from estnltk.wordnet import wn\n",
    "from pprint import pprint"
   ]
  },
  {
   "cell_type": "markdown",
   "metadata": {},
   "source": [
    "Leiame sünohulgad, kuhu kuulub sõna \"koer\""
   ]
  },
  {
   "cell_type": "code",
   "execution_count": 78,
   "metadata": {
    "collapsed": false
   },
   "outputs": [],
   "source": [
    "koer = wn.synsets(\"koer\")"
   ]
  },
  {
   "cell_type": "code",
   "execution_count": 79,
   "metadata": {
    "collapsed": false
   },
   "outputs": [
    {
     "data": {
      "text/plain": [
       "[\"Synset('koer.n.01')\", \"Synset('kaak.n.01')\"]"
      ]
     },
     "execution_count": 79,
     "metadata": {},
     "output_type": "execute_result"
    }
   ],
   "source": [
    "koer"
   ]
  },
  {
   "cell_type": "markdown",
   "metadata": {},
   "source": [
    "Leiame leitud sünohulkade ülemmõisted ehk hüperonüümid"
   ]
  },
  {
   "cell_type": "code",
   "execution_count": 90,
   "metadata": {
    "collapsed": false
   },
   "outputs": [
    {
     "name": "stdout",
     "output_type": "stream",
     "text": [
      "[\"Synset('koerlane.n.01')\"]\n",
      "[\"Synset('alaealine.n.01')\"]\n"
     ]
    }
   ],
   "source": [
    "for k in koer:\n",
    "    pprint(k.hypernyms())"
   ]
  },
  {
   "cell_type": "markdown",
   "metadata": {},
   "source": [
    "Leiame leitud sünohulkade alammõisted ehk hüponüümid"
   ]
  },
  {
   "cell_type": "code",
   "execution_count": 93,
   "metadata": {
    "collapsed": false
   },
   "outputs": [
    {
     "name": "stdout",
     "output_type": "stream",
     "text": [
      "[\"Synset('õuekoer.n.01')\",\n",
      " \"Synset('jälituskoer.n.01')\",\n",
      " \"Synset('karjakoer.n.01')\",\n",
      " \"Synset('kelgukoer.n.01')\",\n",
      " \"Synset('toakoer.n.01')\",\n",
      " \"Synset('teenistuskoer.n.01')\",\n",
      " \"Synset('njuufaundlane.n.01')\",\n",
      " \"Synset('veokoer.n.01')\",\n",
      " \"Synset('juhtkoer.n.01')\",\n",
      " \"Synset('jahikoer.n.01')\",\n",
      " \"Synset('sitsija.n.01')\",\n",
      " \"Synset('krants.n.01')\",\n",
      " \"Synset('rakk.n.02')\",\n",
      " \"Synset('lita.n.02')\",\n",
      " \"Synset('koeraklutt.n.01')\",\n",
      " \"Synset('klähvits.n.01')\"]\n",
      "[]\n"
     ]
    }
   ],
   "source": [
    "for k in koer:\n",
    "    pprint(k.hyponyms())"
   ]
  },
  {
   "cell_type": "markdown",
   "metadata": {},
   "source": [
    "### Ülesanne 5. (1p)\n",
    "Kirjutage kood (või täiendage 1. ülesandes loodut), mis loeb sisse faili *parasiitlusest.txt*, lemmatiseerib teksti, eemaldab lemmade hulgast kirjavahemärgid ning teisendab alles jäänud lemmad Wordneti liidese abil\n",
    "sünohulkadeks. Vasta järgmistele küsimustele:\n",
    "\n",
    "a) Mitmel % lemmadest on Wordnetis enam kui üks sünohulk?\n",
    "\n",
    "b) Mitmel % lemmadest ei ole Wordnetis ühtegi vastet?\n",
    "\n",
    "c) Mitu tähendust leitakse iga lemma kohta keskmiselt?\n",
    "\n",
    "Vihjeid:\n",
    "- Kirjavahemärgid on märgendiga *Z*.\n",
    "- Sünohulkade leidmiseks tuleb tekst eelnevalt lemmatiseerida.\n",
    "- Kui sõnal on mitu lemmat (nt levima|levinud), siis tuleks sünohulgad leida kõigile võimalikele lemmadele."
   ]
  }
 ],
 "metadata": {
  "anaconda-cloud": {},
  "kernelspec": {
   "display_name": "Python [conda env:working_estnltk]",
   "language": "python",
   "name": "conda-env-working_estnltk-py"
  },
  "language_info": {
   "codemirror_mode": {
    "name": "ipython",
    "version": 3
   },
   "file_extension": ".py",
   "mimetype": "text/x-python",
   "name": "python",
   "nbconvert_exporter": "python",
   "pygments_lexer": "ipython3",
   "version": "3.5.2"
  }
 },
 "nbformat": 4,
 "nbformat_minor": 1
}
