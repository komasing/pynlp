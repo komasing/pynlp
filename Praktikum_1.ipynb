{
 "cells": [
  {
   "cell_type": "markdown",
   "metadata": {},
   "source": [
    "## Tere tulemast kasutama Notebooki!"
   ]
  },
  {
   "cell_type": "markdown",
   "metadata": {},
   "source": [
    "#### Olulisemad käsud, milleta läbi ei saa:\n",
    "**Shift+Enter**: jooksuta lahter ja liigu järgmise juurde\n",
    "\n",
    "**Ctrl+Enter**: jooksuta lahter ja mine command mode'i\n",
    "\n",
    "##### Shortcutid command mode'is (st kursorit pole lahtris!) \n",
    "\n",
    "**a**: uus lahter üles (above)\n",
    "\n",
    "**b**: uus lahter alla (below)\n",
    "\n",
    "**dd**: kustuta lahter (delete)\n",
    "\n",
    "Rohkem [siin](https://www.cheatography.com/weidadeyue/cheat-sheets/jupyter-notebook/)"
   ]
  },
  {
   "cell_type": "markdown",
   "metadata": {},
   "source": [
    "#### Järgnevalt mõned lahtrid, mille peal katsetada"
   ]
  },
  {
   "cell_type": "code",
   "execution_count": 21,
   "metadata": {
    "collapsed": true
   },
   "outputs": [],
   "source": [
    "sent = 'Mädasoo peremees tuli parajasti heinamaalt, kaks linalakka käekõrval.'\n",
    "sent2 = 'Mädasoo talu peremees võttis kell kaks uue koera.'"
   ]
  },
  {
   "cell_type": "code",
   "execution_count": 15,
   "metadata": {
    "collapsed": false
   },
   "outputs": [
    {
     "data": {
      "text/plain": [
       "'Mädasoo peremees tuli parajasti heinamaalt, kaks linalakka käekõrval.'"
      ]
     },
     "execution_count": 15,
     "metadata": {},
     "output_type": "execute_result"
    }
   ],
   "source": [
    "sent"
   ]
  },
  {
   "cell_type": "code",
   "execution_count": 16,
   "metadata": {
    "collapsed": false
   },
   "outputs": [
    {
     "data": {
      "text/plain": [
       "['Mädasoo',\n",
       " 'peremees',\n",
       " 'tuli',\n",
       " 'parajasti',\n",
       " 'heinamaalt,',\n",
       " 'kaks',\n",
       " 'linalakka',\n",
       " 'käekõrval.']"
      ]
     },
     "execution_count": 16,
     "metadata": {},
     "output_type": "execute_result"
    }
   ],
   "source": [
    "sent.split()"
   ]
  },
  {
   "cell_type": "code",
   "execution_count": 17,
   "metadata": {
    "collapsed": false
   },
   "outputs": [],
   "source": [
    "split_sent = sent.split()"
   ]
  },
  {
   "cell_type": "code",
   "execution_count": 18,
   "metadata": {
    "collapsed": false
   },
   "outputs": [
    {
     "name": "stdout",
     "output_type": "stream",
     "text": [
      "Mädasoo\n",
      "peremees\n",
      "tuli\n",
      "parajasti\n",
      "heinamaalt\n",
      "kaks\n",
      "linalakka\n",
      "käekõrval\n"
     ]
    }
   ],
   "source": [
    "for i in split_sent:\n",
    "    i = i.strip(\",.\")\n",
    "    print(i)"
   ]
  },
  {
   "cell_type": "code",
   "execution_count": 22,
   "metadata": {
    "collapsed": false
   },
   "outputs": [
    {
     "data": {
      "text/plain": [
       "{'Mädasoo', 'kaks', 'peremees'}"
      ]
     },
     "execution_count": 22,
     "metadata": {},
     "output_type": "execute_result"
    }
   ],
   "source": [
    "set(sent.split()) & set(sent2.split())"
   ]
  },
  {
   "cell_type": "code",
   "execution_count": 23,
   "metadata": {
    "collapsed": false
   },
   "outputs": [
    {
     "data": {
      "text/plain": [
       "'käekõrval'"
      ]
     },
     "execution_count": 23,
     "metadata": {},
     "output_type": "execute_result"
    }
   ],
   "source": [
    "i"
   ]
  },
  {
   "cell_type": "markdown",
   "metadata": {
    "collapsed": true
   },
   "source": [
    "## STOP! \n",
    "#### Edasisi lahtreid ei tasu katsetuste käigus ära kustutada, algavad ülesanded, mille lahendamise eest jagatakse punkte!"
   ]
  },
  {
   "cell_type": "markdown",
   "metadata": {},
   "source": [
    "Selle praktikumi ülesannete eesmärgiks on tuletada meelde Pythonit ning aidata harjuda Notebooki keskkonnaga. Seega palume ülesanded lahendada siin ning esitada lahendused sellesama Jupyteri Notebookina."
   ]
  },
  {
   "cell_type": "markdown",
   "metadata": {},
   "source": [
    "**Ül. 1 Sõnavarapõhine tekstide võrdlus**\n",
    "\n",
    "Võrrelge kasutatud sõnavara kolmes eri tekstis. Leidke:\n",
    "1. Millised sõnad esinevad kõigis tekstides? \n",
    "2. Millised sõnad iseloomustavad vaid ühte tekstidest? Nimetage iga teksti kohta 5 sagedasemat.\n",
    "3. Millises tekstis on kõige enam erinevaid sõnu? Aga kui võtta arvesse ka teksti pikkust?\n",
    "4. Mitu protsenti sõnadest esineb vaid 1 kord?"
   ]
  },
  {
   "cell_type": "markdown",
   "metadata": {},
   "source": [
    "Kuidas:\n",
    "    \n",
    "    1) lugege sisse failid \"postimees.txt\", \"nihilist.txt\" ja \"telegram.txt\"\n",
    "    2) tükeldage failid sõnadeks, eemaldage sõnade küljest kirjavahemärgid, viige väiketähelisele kujule\n",
    "    3) leidke iga teksti kohta eraldi sõnade sagedused\n",
    "    4) leidke sõnade ühisosa\n",
    "    5) leidke unikaalsed sõnad tekstides\n",
    "    6) leidke tekstide pikkused ja unikaalsete sõnade arvud tekstides\n",
    "    7) vastake küsimustele\n",
    "        "
   ]
  },
  {
   "cell_type": "code",
   "execution_count": null,
   "metadata": {
    "collapsed": true
   },
   "outputs": [],
   "source": []
  }
 ],
 "metadata": {
  "kernelspec": {
   "display_name": "Python 3",
   "language": "python",
   "name": "python3"
  },
  "language_info": {
   "codemirror_mode": {
    "name": "ipython",
    "version": 3
   },
   "file_extension": ".py",
   "mimetype": "text/x-python",
   "name": "python",
   "nbconvert_exporter": "python",
   "pygments_lexer": "ipython3",
   "version": "3.5.1"
  }
 },
 "nbformat": 4,
 "nbformat_minor": 0
}
