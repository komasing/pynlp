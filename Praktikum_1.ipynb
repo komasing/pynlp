{
 "cells": [
  {
   "cell_type": "markdown",
   "metadata": {},
   "source": [
    "<h1 style=\"color:red\">Praktikum 1</h1>"
   ]
  },
  {
   "cell_type": "markdown",
   "metadata": {},
   "source": [
    "<h2 style=\"color:green\">Tere tulemast <strike>Matrixisse!</strike> Notebooki!</h2>"
   ]
  },
  {
   "cell_type": "markdown",
   "metadata": {},
   "source": [
    "### Olulisemad käsud, milleta läbi ei saa:\n",
    "**Shift+Enter**: jooksuta lahter ja liigu järgmise juurde\n",
    "\n",
    "**Ctrl+Enter**: jooksuta lahter ja mine _command mode_'i\n",
    "\n",
    "\n",
    "### Olekud\n",
    "\n",
    "**Command mode**: lahter valitud, kursorit pole\n",
    "\n",
    "**Edit mode**: lahter valitud, kursor kastis\n",
    "\n",
    "**Esc**: _edit mode -> command mode_\n",
    "\n",
    "**Enter** _command mode -> edit mode_\n",
    "\n",
    "### Shortcutid command mode'is (st kursorit pole lahtris!) \n",
    "\n",
    "**a**: uus lahter üles (_above_)\n",
    "\n",
    "**b**: uus lahter alla (_below_)\n",
    "\n",
    "**dd**: kustuta lahter (_delete_)\n",
    "\n",
    "### Tab\n",
    "\n",
    "Soovitab _edit mode_'is muutujaid või lõpetab keelespetsiifilisi _statement_'e (_if, elif, else, with, class_ jne Pythonis)\n",
    "\n",
    "### Space\n",
    "\n",
    "Viib märkmiku lõppu _command mode_'is.\n",
    "\n",
    "### Lahtri tüüp\n",
    "\n",
    "**Code**: jooksutatud lahter interpreteeritakse Notebooki kerneli poolt\n",
    "\n",
    "**Markdown**: jooksutatud lahter renderdatakse LaTeX-i, HTML ja Markdown-i mootori poolt\n",
    "\n",
    "**Y**: _command mode_'is lahter muudetakse _code_'i lahtriks\n",
    "\n",
    "**M**: _command mode_'is lahter muudetakse _markdown_'i lahtriks\n",
    "\n",
    "\n",
    "### Rohkem [siin](https://www.cheatography.com/weidadeyue/cheat-sheets/jupyter-notebook/)"
   ]
  },
  {
   "cell_type": "markdown",
   "metadata": {},
   "source": [
    "<h2 style=\"color:green\"> Järgnevalt mõned lahtrid, mille peal katsetada ☺</h2>"
   ]
  },
  {
   "cell_type": "code",
   "execution_count": 2,
   "metadata": {
    "collapsed": true
   },
   "outputs": [],
   "source": [
    "sentence1 = 'Mädasoo peremees tuli parajasti heinamaalt, kaks linalakka käekõrval.'\n",
    "sentence2 = 'Mädasoo talu peremees võttis kell kaks uue koera.'"
   ]
  },
  {
   "cell_type": "code",
   "execution_count": 3,
   "metadata": {
    "collapsed": false
   },
   "outputs": [
    {
     "data": {
      "text/plain": [
       "'Mädasoo peremees tuli parajasti heinamaalt, kaks linalakka käekõrval.'"
      ]
     },
     "execution_count": 3,
     "metadata": {},
     "output_type": "execute_result"
    }
   ],
   "source": [
    "sentence1"
   ]
  },
  {
   "cell_type": "code",
   "execution_count": 4,
   "metadata": {
    "collapsed": false
   },
   "outputs": [
    {
     "data": {
      "text/plain": [
       "['Mädasoo',\n",
       " 'peremees',\n",
       " 'tuli',\n",
       " 'parajasti',\n",
       " 'heinamaalt,',\n",
       " 'kaks',\n",
       " 'linalakka',\n",
       " 'käekõrval.']"
      ]
     },
     "execution_count": 4,
     "metadata": {},
     "output_type": "execute_result"
    }
   ],
   "source": [
    "sentence1.split()"
   ]
  },
  {
   "cell_type": "code",
   "execution_count": 6,
   "metadata": {
    "collapsed": false
   },
   "outputs": [],
   "source": [
    "split_sentence = sentence1.split()"
   ]
  },
  {
   "cell_type": "code",
   "execution_count": 7,
   "metadata": {
    "collapsed": false,
    "scrolled": true
   },
   "outputs": [
    {
     "name": "stdout",
     "output_type": "stream",
     "text": [
      "Mädasoo\n",
      "peremees\n",
      "tuli\n",
      "parajasti\n",
      "heinamaalt\n",
      "kaks\n",
      "linalakka\n",
      "käekõrval\n"
     ]
    }
   ],
   "source": [
    "for word in split_sentence:\n",
    "    word = word.strip(\",.\")\n",
    "    print(word)"
   ]
  },
  {
   "cell_type": "code",
   "execution_count": 8,
   "metadata": {
    "collapsed": false
   },
   "outputs": [
    {
     "data": {
      "text/plain": [
       "{'Mädasoo', 'kaks', 'peremees'}"
      ]
     },
     "execution_count": 8,
     "metadata": {},
     "output_type": "execute_result"
    }
   ],
   "source": [
    "set(sentence1.split()) & set(sentence2.split())"
   ]
  },
  {
   "cell_type": "code",
   "execution_count": 9,
   "metadata": {
    "collapsed": false
   },
   "outputs": [
    {
     "data": {
      "text/plain": [
       "'käekõrval'"
      ]
     },
     "execution_count": 9,
     "metadata": {},
     "output_type": "execute_result"
    }
   ],
   "source": [
    "word"
   ]
  },
  {
   "cell_type": "markdown",
   "metadata": {
    "collapsed": true
   },
   "source": [
    "<h1 style=\"color:red\">STOP!</h1> \n",
    "#### Edasisi lahtreid ei tasu katsetuste käigus ära kustutada, algavad ülesanded, mille lahendamise eest jagatakse punkte!"
   ]
  },
  {
   "cell_type": "markdown",
   "metadata": {},
   "source": [
    "Selle praktikumi ülesannete eesmärgiks on tuletada meelde Pythonit ning aidata harjuda Notebooki keskkonnaga. Seega palume ülesanded lahendada siin ning esitada lahendused sellesama Jupyteri Notebookina."
   ]
  },
  {
   "cell_type": "markdown",
   "metadata": {},
   "source": [
    "## Ülesanne 2: Tutvuge Pythoniga\n",
    "\n",
    "> Ülesanne 1 on PDF-is.\n",
    "\n",
    "**Järgnevalt on toodud täiesti juhuslik hulk Pythoni koodi süntaksi, _idiom_'ide ja muu toreda meeldetuletamiseks. Tutvuge, laske silmaga üle või ignoreerige. Kui midagi on uut või veidrat või vale, tõstke lärmi. (0.5p)**"
   ]
  },
  {
   "cell_type": "markdown",
   "metadata": {},
   "source": [
    "**Muutujad**"
   ]
  },
  {
   "cell_type": "code",
   "execution_count": 12,
   "metadata": {
    "collapsed": true
   },
   "outputs": [],
   "source": [
    "sentence = \"Milline kaunis lause.\""
   ]
  },
  {
   "cell_type": "markdown",
   "metadata": {},
   "source": [
    "**Oluliseimad andmestruktuurid**"
   ]
  },
  {
   "cell_type": "code",
   "execution_count": 16,
   "metadata": {
    "collapsed": false
   },
   "outputs": [
    {
     "data": {
      "text/plain": [
       "{1: 2, 2: 3, 3: 4}"
      ]
     },
     "execution_count": 16,
     "metadata": {},
     "output_type": "execute_result"
    }
   ],
   "source": [
    "list_ = []\n",
    "list_ = [1,2,3]\n",
    "some_arbitrary_iterable = []\n",
    "list_ = list(some_arbitrary_iterable)\n",
    "\n",
    "set_ = {1,2,3}\n",
    "set_ = set(some_arbitrary_iterable)\n",
    "\n",
    "tuple_ = () # immutable list, kinda\n",
    "tuple_ = (1,2,3)\n",
    "tuple_ = tuple(some_arbitrary_iterable)\n",
    "\n",
    "dict_ = {} # dictionary ~ hashtable\n",
    "dict_ = {1:2, 2:3, 3:4}\n",
    "some_arbitrary_iterable_containing_pairs = [(1,2),[2,3],(3,4)]\n",
    "dict_ = dict(some_arbitrary_iterable_returning_pairs)\n",
    "dict_"
   ]
  },
  {
   "cell_type": "markdown",
   "metadata": {},
   "source": [
    "**Mitme muutuja seadmine**"
   ]
  },
  {
   "cell_type": "code",
   "execution_count": 19,
   "metadata": {
    "collapsed": false
   },
   "outputs": [
    {
     "data": {
      "text/plain": [
       "('Lea', 22, 'F')"
      ]
     },
     "execution_count": 19,
     "metadata": {},
     "output_type": "execute_result"
    }
   ],
   "source": [
    "some_iterable_containing_three_elements = ['Lea',22,'F']\n",
    "name, age, gender = some_iterable_containing_three_elements\n",
    "name, age, gender"
   ]
  },
  {
   "cell_type": "markdown",
   "metadata": {},
   "source": [
    "**Tingimuslaused**"
   ]
  },
  {
   "cell_type": "code",
   "execution_count": 20,
   "metadata": {
    "collapsed": true
   },
   "outputs": [],
   "source": [
    "if True:\n",
    "    pass # ignore\n",
    "elif True and True and False or not False:\n",
    "    raise NotImplementedError()\n",
    "elif 1 != 2 and \"is\" == \"uh?\" or 1 in [1,2,3] and 2 < 3:\n",
    "    print(\"yay!\")\n",
    "else:\n",
    "    assert 1==2"
   ]
  },
  {
   "cell_type": "markdown",
   "metadata": {},
   "source": [
    "**Tingimusega väärtuse seadmine**"
   ]
  },
  {
   "cell_type": "code",
   "execution_count": 34,
   "metadata": {
    "collapsed": false
   },
   "outputs": [
    {
     "data": {
      "text/plain": [
       "'ptruuu'"
      ]
     },
     "execution_count": 34,
     "metadata": {},
     "output_type": "execute_result"
    }
   ],
   "source": [
    "\"ptruuu\" if True else \"mää\""
   ]
  },
  {
   "cell_type": "markdown",
   "metadata": {},
   "source": [
    "**Funktsioonid**"
   ]
  },
  {
   "cell_type": "code",
   "execution_count": 27,
   "metadata": {
    "collapsed": false
   },
   "outputs": [
    {
     "data": {
      "text/plain": [
       "(2, 4)"
      ]
     },
     "execution_count": 27,
     "metadata": {},
     "output_type": "execute_result"
    }
   ],
   "source": [
    "def a_really_weird_function(positional_arg1, positional_arg2, \n",
    "                            optional_arg1=\"default value 1\", optional_arg2=\"default value 2\"):\n",
    "    return None\n",
    "\n",
    "input_transformation_function = lambda x, y : (x+1, y+2)\n",
    "input_transformation_function(1,2)"
   ]
  },
  {
   "cell_type": "markdown",
   "metadata": {},
   "source": [
    "**Klassid**"
   ]
  },
  {
   "cell_type": "code",
   "execution_count": 30,
   "metadata": {
    "collapsed": false,
    "scrolled": true
   },
   "outputs": [
    {
     "name": "stdout",
     "output_type": "stream",
     "text": [
      "6\n"
     ]
    },
    {
     "ename": "CantSumThoseException",
     "evalue": "",
     "output_type": "error",
     "traceback": [
      "\u001b[1;31m---------------------------------------------------------------------------\u001b[0m",
      "\u001b[1;31mCantSumThoseException\u001b[0m                     Traceback (most recent call last)",
      "\u001b[1;32m<ipython-input-30-9035ce6699e9>\u001b[0m in \u001b[0;36m<module>\u001b[1;34m()\u001b[0m\n\u001b[0;32m     18\u001b[0m \u001b[1;33m\u001b[0m\u001b[0m\n\u001b[0;32m     19\u001b[0m \u001b[0mprint\u001b[0m\u001b[1;33m(\u001b[0m\u001b[0mMyMightyClass\u001b[0m\u001b[1;33m(\u001b[0m\u001b[1;36m1\u001b[0m\u001b[1;33m)\u001b[0m \u001b[1;33m+\u001b[0m \u001b[0mMyMightyClass\u001b[0m\u001b[1;33m(\u001b[0m\u001b[1;36m5\u001b[0m\u001b[1;33m)\u001b[0m\u001b[1;33m)\u001b[0m\u001b[1;33m\u001b[0m\u001b[0m\n\u001b[1;32m---> 20\u001b[1;33m \u001b[0mprint\u001b[0m\u001b[1;33m(\u001b[0m\u001b[0mMyMightyClass\u001b[0m\u001b[1;33m(\u001b[0m\u001b[1;36m1\u001b[0m\u001b[1;33m)\u001b[0m \u001b[1;33m+\u001b[0m \u001b[1;36m2\u001b[0m\u001b[1;33m)\u001b[0m\u001b[1;33m\u001b[0m\u001b[0m\n\u001b[0m",
      "\u001b[1;32m<ipython-input-30-9035ce6699e9>\u001b[0m in \u001b[0;36m__add__\u001b[1;34m(self, target)\u001b[0m\n\u001b[0;32m     15\u001b[0m             \u001b[1;32mreturn\u001b[0m \u001b[0mself\u001b[0m\u001b[1;33m.\u001b[0m\u001b[0m_value\u001b[0m \u001b[1;33m+\u001b[0m \u001b[0mtarget\u001b[0m\u001b[1;33m.\u001b[0m\u001b[0m_value\u001b[0m\u001b[1;33m\u001b[0m\u001b[0m\n\u001b[0;32m     16\u001b[0m         \u001b[1;32melse\u001b[0m\u001b[1;33m:\u001b[0m\u001b[1;33m\u001b[0m\u001b[0m\n\u001b[1;32m---> 17\u001b[1;33m             \u001b[1;32mraise\u001b[0m \u001b[0mCantSumThoseException\u001b[0m\u001b[1;33m(\u001b[0m\u001b[1;33m)\u001b[0m\u001b[1;33m\u001b[0m\u001b[0m\n\u001b[0m\u001b[0;32m     18\u001b[0m \u001b[1;33m\u001b[0m\u001b[0m\n\u001b[0;32m     19\u001b[0m \u001b[0mprint\u001b[0m\u001b[1;33m(\u001b[0m\u001b[0mMyMightyClass\u001b[0m\u001b[1;33m(\u001b[0m\u001b[1;36m1\u001b[0m\u001b[1;33m)\u001b[0m \u001b[1;33m+\u001b[0m \u001b[0mMyMightyClass\u001b[0m\u001b[1;33m(\u001b[0m\u001b[1;36m5\u001b[0m\u001b[1;33m)\u001b[0m\u001b[1;33m)\u001b[0m\u001b[1;33m\u001b[0m\u001b[0m\n",
      "\u001b[1;31mCantSumThoseException\u001b[0m: "
     ]
    }
   ],
   "source": [
    "class CantSumThoseException(Exception):\n",
    "    def __init__(self):\n",
    "        super().__init__()\n",
    "    \n",
    "\n",
    "class MyMightyClass(object):\n",
    "    def __init__(self, value, optional_constructor_arg1=None):\n",
    "        self._do_some_initialization(value)\n",
    "        \n",
    "    def _do_some_initialization(self, value):\n",
    "        self._value = value\n",
    "    \n",
    "    def __add__(self,target): # this is where the magic happens\n",
    "        if isinstance(target,MyMightyClass):\n",
    "            return self._value + target._value\n",
    "        else:\n",
    "            raise CantSumThoseException()\n",
    "            \n",
    "print(MyMightyClass(1) + MyMightyClass(5))\n",
    "print(MyMightyClass(1) + 2)"
   ]
  },
  {
   "cell_type": "markdown",
   "metadata": {},
   "source": [
    "**Teised maagilised meetodid on [siin](http://www.rafekettler.com/magicmethods.html).**"
   ]
  },
  {
   "cell_type": "markdown",
   "metadata": {},
   "source": [
    "**Importimine**"
   ]
  },
  {
   "cell_type": "code",
   "execution_count": 39,
   "metadata": {
    "collapsed": false
   },
   "outputs": [],
   "source": [
    "import math\n",
    "import math as matthew\n",
    "from math import e, sqrt\n",
    "import math, random as rand, csv, codecs\n",
    "\n",
    "def doing_some_stuff():\n",
    "    pass\n",
    "\n",
    "doing_some_stuff()\n",
    "\n",
    "# yup, we can import at any time - not cool though\n",
    "import xml"
   ]
  },
  {
   "cell_type": "markdown",
   "metadata": {},
   "source": [
    "**Tsüklid**"
   ]
  },
  {
   "cell_type": "code",
   "execution_count": 41,
   "metadata": {
    "collapsed": true
   },
   "outputs": [],
   "source": [
    "i = 0\n",
    "while i < 5:\n",
    "    i += 1\n",
    "    \n",
    "for i in range(10):\n",
    "    pass"
   ]
  },
  {
   "cell_type": "markdown",
   "metadata": {},
   "source": [
    "**Failide avamine**"
   ]
  },
  {
   "cell_type": "code",
   "execution_count": 42,
   "metadata": {
    "collapsed": false
   },
   "outputs": [
    {
     "ename": "FileNotFoundError",
     "evalue": "[Errno 2] No such file or directory: 'my_imaginary_file.bin'",
     "output_type": "error",
     "traceback": [
      "\u001b[1;31m---------------------------------------------------------------------------\u001b[0m",
      "\u001b[1;31mFileNotFoundError\u001b[0m                         Traceback (most recent call last)",
      "\u001b[1;32m<ipython-input-42-415ccd2a3cae>\u001b[0m in \u001b[0;36m<module>\u001b[1;34m()\u001b[0m\n\u001b[1;32m----> 1\u001b[1;33m \u001b[1;32mwith\u001b[0m \u001b[0mopen\u001b[0m\u001b[1;33m(\u001b[0m\u001b[1;34m'my_imaginary_file.bin'\u001b[0m\u001b[1;33m,\u001b[0m\u001b[1;34m'rb'\u001b[0m\u001b[1;33m)\u001b[0m \u001b[1;32mas\u001b[0m \u001b[0mfin\u001b[0m\u001b[1;33m:\u001b[0m\u001b[1;33m\u001b[0m\u001b[0m\n\u001b[0m\u001b[0;32m      2\u001b[0m     \u001b[0mfin\u001b[0m\u001b[1;33m.\u001b[0m\u001b[0mread\u001b[0m\u001b[1;33m(\u001b[0m\u001b[1;33m)\u001b[0m\u001b[1;33m\u001b[0m\u001b[0m\n",
      "\u001b[1;31mFileNotFoundError\u001b[0m: [Errno 2] No such file or directory: 'my_imaginary_file.bin'"
     ]
    }
   ],
   "source": [
    "with open('my_imaginary_file.bin','rb') as fin:\n",
    "    fin.read()"
   ]
  },
  {
   "cell_type": "markdown",
   "metadata": {},
   "source": [
    "**_Comprehension_'id**\n",
    "\n",
    "Järgivad matemaatilise hulga defineerimise viisi:\n",
    "$\\{x : x \\in X, x < 5, x > 2\\}$"
   ]
  },
  {
   "cell_type": "code",
   "execution_count": 49,
   "metadata": {
    "collapsed": false
   },
   "outputs": [
    {
     "data": {
      "text/plain": [
       "{3: 'väärtus3', 4: 'väärtus4'}"
      ]
     },
     "execution_count": 49,
     "metadata": {},
     "output_type": "execute_result"
    }
   ],
   "source": [
    "X = range(10)\n",
    "list_comp = [x for x in X if x < 5 and x > 2]\n",
    "set_comp = {x for x in X if x < 5 and x > 2}\n",
    "dict_comp = {x:(\"väärtus%s\"%x) for x in X if x < 5 and x > 2}\n",
    "dict_comp"
   ]
  },
  {
   "cell_type": "markdown",
   "metadata": {},
   "source": [
    "## Ülesanne 3: Tutvuge Notebooki _magic_'uga\n",
    "\n",
    "**Järgnevalt on toodud valik huvitavaid käske Notebookis. Tutvuge või ignoreerige (0.5p).**"
   ]
  },
  {
   "cell_type": "markdown",
   "metadata": {},
   "source": [
    "**Kuvame kõik vaikekäsud**"
   ]
  },
  {
   "cell_type": "code",
   "execution_count": 52,
   "metadata": {
    "collapsed": false
   },
   "outputs": [
    {
     "data": {
      "application/json": {
       "cell": {
        "!": "OSMagics",
        "HTML": "Other",
        "SVG": "Other",
        "bash": "Other",
        "capture": "ExecutionMagics",
        "debug": "ExecutionMagics",
        "file": "Other",
        "html": "DisplayMagics",
        "javascript": "DisplayMagics",
        "latex": "DisplayMagics",
        "perl": "Other",
        "prun": "ExecutionMagics",
        "pypy": "Other",
        "python": "Other",
        "python2": "Other",
        "python3": "Other",
        "ruby": "Other",
        "script": "ScriptMagics",
        "sh": "Other",
        "svg": "DisplayMagics",
        "sx": "OSMagics",
        "system": "OSMagics",
        "time": "ExecutionMagics",
        "timeit": "ExecutionMagics",
        "writefile": "OSMagics"
       },
       "line": {
        "alias": "OSMagics",
        "alias_magic": "BasicMagics",
        "autocall": "AutoMagics",
        "automagic": "AutoMagics",
        "autosave": "KernelMagics",
        "bookmark": "OSMagics",
        "cat": "Other",
        "cd": "OSMagics",
        "clear": "KernelMagics",
        "colors": "BasicMagics",
        "config": "ConfigMagics",
        "connect_info": "KernelMagics",
        "cp": "Other",
        "debug": "ExecutionMagics",
        "dhist": "OSMagics",
        "dirs": "OSMagics",
        "doctest_mode": "BasicMagics",
        "ed": "Other",
        "edit": "KernelMagics",
        "env": "OSMagics",
        "gui": "BasicMagics",
        "hist": "Other",
        "history": "HistoryMagics",
        "install_default_config": "DeprecatedMagics",
        "install_ext": "ExtensionMagics",
        "install_profiles": "DeprecatedMagics",
        "killbgscripts": "ScriptMagics",
        "ldir": "Other",
        "less": "KernelMagics",
        "lf": "Other",
        "lk": "Other",
        "ll": "Other",
        "load": "CodeMagics",
        "load_ext": "ExtensionMagics",
        "loadpy": "CodeMagics",
        "logoff": "LoggingMagics",
        "logon": "LoggingMagics",
        "logstart": "LoggingMagics",
        "logstate": "LoggingMagics",
        "logstop": "LoggingMagics",
        "ls": "Other",
        "lsmagic": "BasicMagics",
        "lx": "Other",
        "macro": "ExecutionMagics",
        "magic": "BasicMagics",
        "man": "KernelMagics",
        "matplotlib": "PylabMagics",
        "mkdir": "Other",
        "more": "KernelMagics",
        "mv": "Other",
        "notebook": "BasicMagics",
        "page": "BasicMagics",
        "pastebin": "CodeMagics",
        "pdb": "ExecutionMagics",
        "pdef": "NamespaceMagics",
        "pdoc": "NamespaceMagics",
        "pfile": "NamespaceMagics",
        "pinfo": "NamespaceMagics",
        "pinfo2": "NamespaceMagics",
        "popd": "OSMagics",
        "pprint": "BasicMagics",
        "precision": "BasicMagics",
        "profile": "BasicMagics",
        "prun": "ExecutionMagics",
        "psearch": "NamespaceMagics",
        "psource": "NamespaceMagics",
        "pushd": "OSMagics",
        "pwd": "OSMagics",
        "pycat": "OSMagics",
        "pylab": "PylabMagics",
        "qtconsole": "KernelMagics",
        "quickref": "BasicMagics",
        "recall": "HistoryMagics",
        "rehashx": "OSMagics",
        "reload_ext": "ExtensionMagics",
        "rep": "Other",
        "rerun": "HistoryMagics",
        "reset": "NamespaceMagics",
        "reset_selective": "NamespaceMagics",
        "rm": "Other",
        "rmdir": "Other",
        "run": "ExecutionMagics",
        "save": "CodeMagics",
        "sc": "OSMagics",
        "set_env": "OSMagics",
        "store": "StoreMagics",
        "sx": "OSMagics",
        "system": "OSMagics",
        "tb": "ExecutionMagics",
        "time": "ExecutionMagics",
        "timeit": "ExecutionMagics",
        "unalias": "OSMagics",
        "unload_ext": "ExtensionMagics",
        "who": "NamespaceMagics",
        "who_ls": "NamespaceMagics",
        "whos": "NamespaceMagics",
        "xdel": "NamespaceMagics",
        "xmode": "BasicMagics"
       }
      },
      "text/plain": [
       "Available line magics:\n",
       "%alias  %alias_magic  %autocall  %automagic  %autosave  %bookmark  %cat  %cd  %clear  %colors  %config  %connect_info  %cp  %debug  %dhist  %dirs  %doctest_mode  %ed  %edit  %env  %gui  %hist  %history  %install_default_config  %install_ext  %install_profiles  %killbgscripts  %ldir  %less  %lf  %lk  %ll  %load  %load_ext  %loadpy  %logoff  %logon  %logstart  %logstate  %logstop  %ls  %lsmagic  %lx  %macro  %magic  %man  %matplotlib  %mkdir  %more  %mv  %notebook  %page  %pastebin  %pdb  %pdef  %pdoc  %pfile  %pinfo  %pinfo2  %popd  %pprint  %precision  %profile  %prun  %psearch  %psource  %pushd  %pwd  %pycat  %pylab  %qtconsole  %quickref  %recall  %rehashx  %reload_ext  %rep  %rerun  %reset  %reset_selective  %rm  %rmdir  %run  %save  %sc  %set_env  %store  %sx  %system  %tb  %time  %timeit  %unalias  %unload_ext  %who  %who_ls  %whos  %xdel  %xmode\n",
       "\n",
       "Available cell magics:\n",
       "%%!  %%HTML  %%SVG  %%bash  %%capture  %%debug  %%file  %%html  %%javascript  %%latex  %%perl  %%prun  %%pypy  %%python  %%python2  %%python3  %%ruby  %%script  %%sh  %%svg  %%sx  %%system  %%time  %%timeit  %%writefile\n",
       "\n",
       "Automagic is ON, % prefix IS NOT needed for line magics."
      ]
     },
     "execution_count": 52,
     "metadata": {},
     "output_type": "execute_result"
    }
   ],
   "source": [
    "%lsmagic"
   ]
  },
  {
   "cell_type": "markdown",
   "metadata": {},
   "source": [
    "**Tutvume _magic_'u dokiga**"
   ]
  },
  {
   "cell_type": "code",
   "execution_count": 53,
   "metadata": {
    "collapsed": true
   },
   "outputs": [],
   "source": [
    "%autosave?"
   ]
  },
  {
   "cell_type": "markdown",
   "metadata": {},
   "source": [
    "**Maagia võimaldab enamikke Linuxi käsklusi läbi Notebooki**\n",
    "%cat, %cd, %clear, %cp, %less, %ls, %man, %pwd jne\n",
    "\n",
    "Võimalik otsida üles otsitav fail või Pythoni moodul ja see jooksutada vms"
   ]
  },
  {
   "cell_type": "markdown",
   "metadata": {},
   "source": [
    "<b style=\"color:red\">Probleemide korral võib muret valmistava faili visata _pastebin_'i ja saata meile tagastatud URL</b>\n",
    "\n",
    "Järgnev fail visatakse _pastebin_'i.\n",
    "\n",
    "<b style=\"color:red\">Ettevaatust: fail on avalik.</b>"
   ]
  },
  {
   "cell_type": "code",
   "execution_count": 75,
   "metadata": {
    "collapsed": false
   },
   "outputs": [
    {
     "data": {
      "text/plain": [
       "'https://gist.github.com/8e6fc427abbef27e9d3c20ea26623720'"
      ]
     },
     "execution_count": 75,
     "metadata": {},
     "output_type": "execute_result"
    }
   ],
   "source": [
    "%pastebin Praktikum_1.ipynb"
   ]
  },
  {
   "cell_type": "markdown",
   "metadata": {},
   "source": [
    "**Loome totaka Pythoni mooduli**"
   ]
  },
  {
   "cell_type": "code",
   "execution_count": 76,
   "metadata": {
    "collapsed": false
   },
   "outputs": [],
   "source": [
    "code = \"\"\"word = \"Tere!\"\n",
    "print(word)\n",
    "\"\"\"\n",
    "with open('silly_module.py','w') as fout:\n",
    "    fout.write(code)"
   ]
  },
  {
   "cell_type": "markdown",
   "metadata": {},
   "source": [
    "**Sisestame Pythoni koodi silly_module.py moodulist järgmisse lahtrisse**"
   ]
  },
  {
   "cell_type": "code",
   "execution_count": null,
   "metadata": {
    "collapsed": false
   },
   "outputs": [],
   "source": [
    "%load silly_module.py"
   ]
  },
  {
   "cell_type": "markdown",
   "metadata": {},
   "source": [
    "**Jooksutame Pythoni mooduli silly_module.py**"
   ]
  },
  {
   "cell_type": "code",
   "execution_count": 84,
   "metadata": {
    "collapsed": false
   },
   "outputs": [
    {
     "name": "stdout",
     "output_type": "stream",
     "text": [
      "Tere!\n"
     ]
    }
   ],
   "source": [
    "%run silly_module.py"
   ]
  },
  {
   "cell_type": "markdown",
   "metadata": {},
   "source": [
    "**Kuvame matplotlibi graafiku**"
   ]
  },
  {
   "cell_type": "code",
   "execution_count": 86,
   "metadata": {
    "collapsed": false
   },
   "outputs": [
    {
     "data": {
      "application/javascript": [
       "/* Put everything inside the global mpl namespace */\n",
       "window.mpl = {};\n",
       "\n",
       "mpl.get_websocket_type = function() {\n",
       "    if (typeof(WebSocket) !== 'undefined') {\n",
       "        return WebSocket;\n",
       "    } else if (typeof(MozWebSocket) !== 'undefined') {\n",
       "        return MozWebSocket;\n",
       "    } else {\n",
       "        alert('Your browser does not have WebSocket support.' +\n",
       "              'Please try Chrome, Safari or Firefox ≥ 6. ' +\n",
       "              'Firefox 4 and 5 are also supported but you ' +\n",
       "              'have to enable WebSockets in about:config.');\n",
       "    };\n",
       "}\n",
       "\n",
       "mpl.figure = function(figure_id, websocket, ondownload, parent_element) {\n",
       "    this.id = figure_id;\n",
       "\n",
       "    this.ws = websocket;\n",
       "\n",
       "    this.supports_binary = (this.ws.binaryType != undefined);\n",
       "\n",
       "    if (!this.supports_binary) {\n",
       "        var warnings = document.getElementById(\"mpl-warnings\");\n",
       "        if (warnings) {\n",
       "            warnings.style.display = 'block';\n",
       "            warnings.textContent = (\n",
       "                \"This browser does not support binary websocket messages. \" +\n",
       "                    \"Performance may be slow.\");\n",
       "        }\n",
       "    }\n",
       "\n",
       "    this.imageObj = new Image();\n",
       "\n",
       "    this.context = undefined;\n",
       "    this.message = undefined;\n",
       "    this.canvas = undefined;\n",
       "    this.rubberband_canvas = undefined;\n",
       "    this.rubberband_context = undefined;\n",
       "    this.format_dropdown = undefined;\n",
       "\n",
       "    this.image_mode = 'full';\n",
       "\n",
       "    this.root = $('<div/>');\n",
       "    this._root_extra_style(this.root)\n",
       "    this.root.attr('style', 'display: inline-block');\n",
       "\n",
       "    $(parent_element).append(this.root);\n",
       "\n",
       "    this._init_header(this);\n",
       "    this._init_canvas(this);\n",
       "    this._init_toolbar(this);\n",
       "\n",
       "    var fig = this;\n",
       "\n",
       "    this.waiting = false;\n",
       "\n",
       "    this.ws.onopen =  function () {\n",
       "            fig.send_message(\"supports_binary\", {value: fig.supports_binary});\n",
       "            fig.send_message(\"send_image_mode\", {});\n",
       "            fig.send_message(\"refresh\", {});\n",
       "        }\n",
       "\n",
       "    this.imageObj.onload = function() {\n",
       "            if (fig.image_mode == 'full') {\n",
       "                // Full images could contain transparency (where diff images\n",
       "                // almost always do), so we need to clear the canvas so that\n",
       "                // there is no ghosting.\n",
       "                fig.context.clearRect(0, 0, fig.canvas.width, fig.canvas.height);\n",
       "            }\n",
       "            fig.context.drawImage(fig.imageObj, 0, 0);\n",
       "        };\n",
       "\n",
       "    this.imageObj.onunload = function() {\n",
       "        this.ws.close();\n",
       "    }\n",
       "\n",
       "    this.ws.onmessage = this._make_on_message_function(this);\n",
       "\n",
       "    this.ondownload = ondownload;\n",
       "}\n",
       "\n",
       "mpl.figure.prototype._init_header = function() {\n",
       "    var titlebar = $(\n",
       "        '<div class=\"ui-dialog-titlebar ui-widget-header ui-corner-all ' +\n",
       "        'ui-helper-clearfix\"/>');\n",
       "    var titletext = $(\n",
       "        '<div class=\"ui-dialog-title\" style=\"width: 100%; ' +\n",
       "        'text-align: center; padding: 3px;\"/>');\n",
       "    titlebar.append(titletext)\n",
       "    this.root.append(titlebar);\n",
       "    this.header = titletext[0];\n",
       "}\n",
       "\n",
       "\n",
       "\n",
       "mpl.figure.prototype._canvas_extra_style = function(canvas_div) {\n",
       "\n",
       "}\n",
       "\n",
       "\n",
       "mpl.figure.prototype._root_extra_style = function(canvas_div) {\n",
       "\n",
       "}\n",
       "\n",
       "mpl.figure.prototype._init_canvas = function() {\n",
       "    var fig = this;\n",
       "\n",
       "    var canvas_div = $('<div/>');\n",
       "\n",
       "    canvas_div.attr('style', 'position: relative; clear: both; outline: 0');\n",
       "\n",
       "    function canvas_keyboard_event(event) {\n",
       "        return fig.key_event(event, event['data']);\n",
       "    }\n",
       "\n",
       "    canvas_div.keydown('key_press', canvas_keyboard_event);\n",
       "    canvas_div.keyup('key_release', canvas_keyboard_event);\n",
       "    this.canvas_div = canvas_div\n",
       "    this._canvas_extra_style(canvas_div)\n",
       "    this.root.append(canvas_div);\n",
       "\n",
       "    var canvas = $('<canvas/>');\n",
       "    canvas.addClass('mpl-canvas');\n",
       "    canvas.attr('style', \"left: 0; top: 0; z-index: 0; outline: 0\")\n",
       "\n",
       "    this.canvas = canvas[0];\n",
       "    this.context = canvas[0].getContext(\"2d\");\n",
       "\n",
       "    var rubberband = $('<canvas/>');\n",
       "    rubberband.attr('style', \"position: absolute; left: 0; top: 0; z-index: 1;\")\n",
       "\n",
       "    var pass_mouse_events = true;\n",
       "\n",
       "    canvas_div.resizable({\n",
       "        start: function(event, ui) {\n",
       "            pass_mouse_events = false;\n",
       "        },\n",
       "        resize: function(event, ui) {\n",
       "            fig.request_resize(ui.size.width, ui.size.height);\n",
       "        },\n",
       "        stop: function(event, ui) {\n",
       "            pass_mouse_events = true;\n",
       "            fig.request_resize(ui.size.width, ui.size.height);\n",
       "        },\n",
       "    });\n",
       "\n",
       "    function mouse_event_fn(event) {\n",
       "        if (pass_mouse_events)\n",
       "            return fig.mouse_event(event, event['data']);\n",
       "    }\n",
       "\n",
       "    rubberband.mousedown('button_press', mouse_event_fn);\n",
       "    rubberband.mouseup('button_release', mouse_event_fn);\n",
       "    // Throttle sequential mouse events to 1 every 20ms.\n",
       "    rubberband.mousemove('motion_notify', mouse_event_fn);\n",
       "\n",
       "    rubberband.mouseenter('figure_enter', mouse_event_fn);\n",
       "    rubberband.mouseleave('figure_leave', mouse_event_fn);\n",
       "\n",
       "    canvas_div.on(\"wheel\", function (event) {\n",
       "        event = event.originalEvent;\n",
       "        event['data'] = 'scroll'\n",
       "        if (event.deltaY < 0) {\n",
       "            event.step = 1;\n",
       "        } else {\n",
       "            event.step = -1;\n",
       "        }\n",
       "        mouse_event_fn(event);\n",
       "    });\n",
       "\n",
       "    canvas_div.append(canvas);\n",
       "    canvas_div.append(rubberband);\n",
       "\n",
       "    this.rubberband = rubberband;\n",
       "    this.rubberband_canvas = rubberband[0];\n",
       "    this.rubberband_context = rubberband[0].getContext(\"2d\");\n",
       "    this.rubberband_context.strokeStyle = \"#000000\";\n",
       "\n",
       "    this._resize_canvas = function(width, height) {\n",
       "        // Keep the size of the canvas, canvas container, and rubber band\n",
       "        // canvas in synch.\n",
       "        canvas_div.css('width', width)\n",
       "        canvas_div.css('height', height)\n",
       "\n",
       "        canvas.attr('width', width);\n",
       "        canvas.attr('height', height);\n",
       "\n",
       "        rubberband.attr('width', width);\n",
       "        rubberband.attr('height', height);\n",
       "    }\n",
       "\n",
       "    // Set the figure to an initial 600x600px, this will subsequently be updated\n",
       "    // upon first draw.\n",
       "    this._resize_canvas(600, 600);\n",
       "\n",
       "    // Disable right mouse context menu.\n",
       "    $(this.rubberband_canvas).bind(\"contextmenu\",function(e){\n",
       "        return false;\n",
       "    });\n",
       "\n",
       "    function set_focus () {\n",
       "        canvas.focus();\n",
       "        canvas_div.focus();\n",
       "    }\n",
       "\n",
       "    window.setTimeout(set_focus, 100);\n",
       "}\n",
       "\n",
       "mpl.figure.prototype._init_toolbar = function() {\n",
       "    var fig = this;\n",
       "\n",
       "    var nav_element = $('<div/>')\n",
       "    nav_element.attr('style', 'width: 100%');\n",
       "    this.root.append(nav_element);\n",
       "\n",
       "    // Define a callback function for later on.\n",
       "    function toolbar_event(event) {\n",
       "        return fig.toolbar_button_onclick(event['data']);\n",
       "    }\n",
       "    function toolbar_mouse_event(event) {\n",
       "        return fig.toolbar_button_onmouseover(event['data']);\n",
       "    }\n",
       "\n",
       "    for(var toolbar_ind in mpl.toolbar_items) {\n",
       "        var name = mpl.toolbar_items[toolbar_ind][0];\n",
       "        var tooltip = mpl.toolbar_items[toolbar_ind][1];\n",
       "        var image = mpl.toolbar_items[toolbar_ind][2];\n",
       "        var method_name = mpl.toolbar_items[toolbar_ind][3];\n",
       "\n",
       "        if (!name) {\n",
       "            // put a spacer in here.\n",
       "            continue;\n",
       "        }\n",
       "        var button = $('<button/>');\n",
       "        button.addClass('ui-button ui-widget ui-state-default ui-corner-all ' +\n",
       "                        'ui-button-icon-only');\n",
       "        button.attr('role', 'button');\n",
       "        button.attr('aria-disabled', 'false');\n",
       "        button.click(method_name, toolbar_event);\n",
       "        button.mouseover(tooltip, toolbar_mouse_event);\n",
       "\n",
       "        var icon_img = $('<span/>');\n",
       "        icon_img.addClass('ui-button-icon-primary ui-icon');\n",
       "        icon_img.addClass(image);\n",
       "        icon_img.addClass('ui-corner-all');\n",
       "\n",
       "        var tooltip_span = $('<span/>');\n",
       "        tooltip_span.addClass('ui-button-text');\n",
       "        tooltip_span.html(tooltip);\n",
       "\n",
       "        button.append(icon_img);\n",
       "        button.append(tooltip_span);\n",
       "\n",
       "        nav_element.append(button);\n",
       "    }\n",
       "\n",
       "    var fmt_picker_span = $('<span/>');\n",
       "\n",
       "    var fmt_picker = $('<select/>');\n",
       "    fmt_picker.addClass('mpl-toolbar-option ui-widget ui-widget-content');\n",
       "    fmt_picker_span.append(fmt_picker);\n",
       "    nav_element.append(fmt_picker_span);\n",
       "    this.format_dropdown = fmt_picker[0];\n",
       "\n",
       "    for (var ind in mpl.extensions) {\n",
       "        var fmt = mpl.extensions[ind];\n",
       "        var option = $(\n",
       "            '<option/>', {selected: fmt === mpl.default_extension}).html(fmt);\n",
       "        fmt_picker.append(option)\n",
       "    }\n",
       "\n",
       "    // Add hover states to the ui-buttons\n",
       "    $( \".ui-button\" ).hover(\n",
       "        function() { $(this).addClass(\"ui-state-hover\");},\n",
       "        function() { $(this).removeClass(\"ui-state-hover\");}\n",
       "    );\n",
       "\n",
       "    var status_bar = $('<span class=\"mpl-message\"/>');\n",
       "    nav_element.append(status_bar);\n",
       "    this.message = status_bar[0];\n",
       "}\n",
       "\n",
       "mpl.figure.prototype.request_resize = function(x_pixels, y_pixels) {\n",
       "    // Request matplotlib to resize the figure. Matplotlib will then trigger a resize in the client,\n",
       "    // which will in turn request a refresh of the image.\n",
       "    this.send_message('resize', {'width': x_pixels, 'height': y_pixels});\n",
       "}\n",
       "\n",
       "mpl.figure.prototype.send_message = function(type, properties) {\n",
       "    properties['type'] = type;\n",
       "    properties['figure_id'] = this.id;\n",
       "    this.ws.send(JSON.stringify(properties));\n",
       "}\n",
       "\n",
       "mpl.figure.prototype.send_draw_message = function() {\n",
       "    if (!this.waiting) {\n",
       "        this.waiting = true;\n",
       "        this.ws.send(JSON.stringify({type: \"draw\", figure_id: this.id}));\n",
       "    }\n",
       "}\n",
       "\n",
       "\n",
       "mpl.figure.prototype.handle_save = function(fig, msg) {\n",
       "    var format_dropdown = fig.format_dropdown;\n",
       "    var format = format_dropdown.options[format_dropdown.selectedIndex].value;\n",
       "    fig.ondownload(fig, format);\n",
       "}\n",
       "\n",
       "\n",
       "mpl.figure.prototype.handle_resize = function(fig, msg) {\n",
       "    var size = msg['size'];\n",
       "    if (size[0] != fig.canvas.width || size[1] != fig.canvas.height) {\n",
       "        fig._resize_canvas(size[0], size[1]);\n",
       "        fig.send_message(\"refresh\", {});\n",
       "    };\n",
       "}\n",
       "\n",
       "mpl.figure.prototype.handle_rubberband = function(fig, msg) {\n",
       "    var x0 = msg['x0'];\n",
       "    var y0 = fig.canvas.height - msg['y0'];\n",
       "    var x1 = msg['x1'];\n",
       "    var y1 = fig.canvas.height - msg['y1'];\n",
       "    x0 = Math.floor(x0) + 0.5;\n",
       "    y0 = Math.floor(y0) + 0.5;\n",
       "    x1 = Math.floor(x1) + 0.5;\n",
       "    y1 = Math.floor(y1) + 0.5;\n",
       "    var min_x = Math.min(x0, x1);\n",
       "    var min_y = Math.min(y0, y1);\n",
       "    var width = Math.abs(x1 - x0);\n",
       "    var height = Math.abs(y1 - y0);\n",
       "\n",
       "    fig.rubberband_context.clearRect(\n",
       "        0, 0, fig.canvas.width, fig.canvas.height);\n",
       "\n",
       "    fig.rubberband_context.strokeRect(min_x, min_y, width, height);\n",
       "}\n",
       "\n",
       "mpl.figure.prototype.handle_figure_label = function(fig, msg) {\n",
       "    // Updates the figure title.\n",
       "    fig.header.textContent = msg['label'];\n",
       "}\n",
       "\n",
       "mpl.figure.prototype.handle_cursor = function(fig, msg) {\n",
       "    var cursor = msg['cursor'];\n",
       "    switch(cursor)\n",
       "    {\n",
       "    case 0:\n",
       "        cursor = 'pointer';\n",
       "        break;\n",
       "    case 1:\n",
       "        cursor = 'default';\n",
       "        break;\n",
       "    case 2:\n",
       "        cursor = 'crosshair';\n",
       "        break;\n",
       "    case 3:\n",
       "        cursor = 'move';\n",
       "        break;\n",
       "    }\n",
       "    fig.rubberband_canvas.style.cursor = cursor;\n",
       "}\n",
       "\n",
       "mpl.figure.prototype.handle_message = function(fig, msg) {\n",
       "    fig.message.textContent = msg['message'];\n",
       "}\n",
       "\n",
       "mpl.figure.prototype.handle_draw = function(fig, msg) {\n",
       "    // Request the server to send over a new figure.\n",
       "    fig.send_draw_message();\n",
       "}\n",
       "\n",
       "mpl.figure.prototype.handle_image_mode = function(fig, msg) {\n",
       "    fig.image_mode = msg['mode'];\n",
       "}\n",
       "\n",
       "mpl.figure.prototype.updated_canvas_event = function() {\n",
       "    // Called whenever the canvas gets updated.\n",
       "    this.send_message(\"ack\", {});\n",
       "}\n",
       "\n",
       "// A function to construct a web socket function for onmessage handling.\n",
       "// Called in the figure constructor.\n",
       "mpl.figure.prototype._make_on_message_function = function(fig) {\n",
       "    return function socket_on_message(evt) {\n",
       "        if (evt.data instanceof Blob) {\n",
       "            /* FIXME: We get \"Resource interpreted as Image but\n",
       "             * transferred with MIME type text/plain:\" errors on\n",
       "             * Chrome.  But how to set the MIME type?  It doesn't seem\n",
       "             * to be part of the websocket stream */\n",
       "            evt.data.type = \"image/png\";\n",
       "\n",
       "            /* Free the memory for the previous frames */\n",
       "            if (fig.imageObj.src) {\n",
       "                (window.URL || window.webkitURL).revokeObjectURL(\n",
       "                    fig.imageObj.src);\n",
       "            }\n",
       "\n",
       "            fig.imageObj.src = (window.URL || window.webkitURL).createObjectURL(\n",
       "                evt.data);\n",
       "            fig.updated_canvas_event();\n",
       "            fig.waiting = false;\n",
       "            return;\n",
       "        }\n",
       "        else if (typeof evt.data === 'string' && evt.data.slice(0, 21) == \"data:image/png;base64\") {\n",
       "            fig.imageObj.src = evt.data;\n",
       "            fig.updated_canvas_event();\n",
       "            fig.waiting = false;\n",
       "            return;\n",
       "        }\n",
       "\n",
       "        var msg = JSON.parse(evt.data);\n",
       "        var msg_type = msg['type'];\n",
       "\n",
       "        // Call the  \"handle_{type}\" callback, which takes\n",
       "        // the figure and JSON message as its only arguments.\n",
       "        try {\n",
       "            var callback = fig[\"handle_\" + msg_type];\n",
       "        } catch (e) {\n",
       "            console.log(\"No handler for the '\" + msg_type + \"' message type: \", msg);\n",
       "            return;\n",
       "        }\n",
       "\n",
       "        if (callback) {\n",
       "            try {\n",
       "                // console.log(\"Handling '\" + msg_type + \"' message: \", msg);\n",
       "                callback(fig, msg);\n",
       "            } catch (e) {\n",
       "                console.log(\"Exception inside the 'handler_\" + msg_type + \"' callback:\", e, e.stack, msg);\n",
       "            }\n",
       "        }\n",
       "    };\n",
       "}\n",
       "\n",
       "// from http://stackoverflow.com/questions/1114465/getting-mouse-location-in-canvas\n",
       "mpl.findpos = function(e) {\n",
       "    //this section is from http://www.quirksmode.org/js/events_properties.html\n",
       "    var targ;\n",
       "    if (!e)\n",
       "        e = window.event;\n",
       "    if (e.target)\n",
       "        targ = e.target;\n",
       "    else if (e.srcElement)\n",
       "        targ = e.srcElement;\n",
       "    if (targ.nodeType == 3) // defeat Safari bug\n",
       "        targ = targ.parentNode;\n",
       "\n",
       "    // jQuery normalizes the pageX and pageY\n",
       "    // pageX,Y are the mouse positions relative to the document\n",
       "    // offset() returns the position of the element relative to the document\n",
       "    var x = e.pageX - $(targ).offset().left;\n",
       "    var y = e.pageY - $(targ).offset().top;\n",
       "\n",
       "    return {\"x\": x, \"y\": y};\n",
       "};\n",
       "\n",
       "/*\n",
       " * return a copy of an object with only non-object keys\n",
       " * we need this to avoid circular references\n",
       " * http://stackoverflow.com/a/24161582/3208463\n",
       " */\n",
       "function simpleKeys (original) {\n",
       "  return Object.keys(original).reduce(function (obj, key) {\n",
       "    if (typeof original[key] !== 'object')\n",
       "        obj[key] = original[key]\n",
       "    return obj;\n",
       "  }, {});\n",
       "}\n",
       "\n",
       "mpl.figure.prototype.mouse_event = function(event, name) {\n",
       "    var canvas_pos = mpl.findpos(event)\n",
       "\n",
       "    if (name === 'button_press')\n",
       "    {\n",
       "        this.canvas.focus();\n",
       "        this.canvas_div.focus();\n",
       "    }\n",
       "\n",
       "    var x = canvas_pos.x;\n",
       "    var y = canvas_pos.y;\n",
       "\n",
       "    this.send_message(name, {x: x, y: y, button: event.button,\n",
       "                             step: event.step,\n",
       "                             guiEvent: simpleKeys(event)});\n",
       "\n",
       "    /* This prevents the web browser from automatically changing to\n",
       "     * the text insertion cursor when the button is pressed.  We want\n",
       "     * to control all of the cursor setting manually through the\n",
       "     * 'cursor' event from matplotlib */\n",
       "    event.preventDefault();\n",
       "    return false;\n",
       "}\n",
       "\n",
       "mpl.figure.prototype._key_event_extra = function(event, name) {\n",
       "    // Handle any extra behaviour associated with a key event\n",
       "}\n",
       "\n",
       "mpl.figure.prototype.key_event = function(event, name) {\n",
       "\n",
       "    // Prevent repeat events\n",
       "    if (name == 'key_press')\n",
       "    {\n",
       "        if (event.which === this._key)\n",
       "            return;\n",
       "        else\n",
       "            this._key = event.which;\n",
       "    }\n",
       "    if (name == 'key_release')\n",
       "        this._key = null;\n",
       "\n",
       "    var value = '';\n",
       "    if (event.ctrlKey && event.which != 17)\n",
       "        value += \"ctrl+\";\n",
       "    if (event.altKey && event.which != 18)\n",
       "        value += \"alt+\";\n",
       "    if (event.shiftKey && event.which != 16)\n",
       "        value += \"shift+\";\n",
       "\n",
       "    value += 'k';\n",
       "    value += event.which.toString();\n",
       "\n",
       "    this._key_event_extra(event, name);\n",
       "\n",
       "    this.send_message(name, {key: value,\n",
       "                             guiEvent: simpleKeys(event)});\n",
       "    return false;\n",
       "}\n",
       "\n",
       "mpl.figure.prototype.toolbar_button_onclick = function(name) {\n",
       "    if (name == 'download') {\n",
       "        this.handle_save(this, null);\n",
       "    } else {\n",
       "        this.send_message(\"toolbar_button\", {name: name});\n",
       "    }\n",
       "};\n",
       "\n",
       "mpl.figure.prototype.toolbar_button_onmouseover = function(tooltip) {\n",
       "    this.message.textContent = tooltip;\n",
       "};\n",
       "mpl.toolbar_items = [[\"Home\", \"Reset original view\", \"fa fa-home icon-home\", \"home\"], [\"Back\", \"Back to  previous view\", \"fa fa-arrow-left icon-arrow-left\", \"back\"], [\"Forward\", \"Forward to next view\", \"fa fa-arrow-right icon-arrow-right\", \"forward\"], [\"\", \"\", \"\", \"\"], [\"Pan\", \"Pan axes with left mouse, zoom with right\", \"fa fa-arrows icon-move\", \"pan\"], [\"Zoom\", \"Zoom to rectangle\", \"fa fa-square-o icon-check-empty\", \"zoom\"], [\"\", \"\", \"\", \"\"], [\"Download\", \"Download plot\", \"fa fa-floppy-o icon-save\", \"download\"]];\n",
       "\n",
       "mpl.extensions = [\"eps\", \"jpeg\", \"pdf\", \"png\", \"ps\", \"raw\", \"svg\", \"tif\"];\n",
       "\n",
       "mpl.default_extension = \"png\";var comm_websocket_adapter = function(comm) {\n",
       "    // Create a \"websocket\"-like object which calls the given IPython comm\n",
       "    // object with the appropriate methods. Currently this is a non binary\n",
       "    // socket, so there is still some room for performance tuning.\n",
       "    var ws = {};\n",
       "\n",
       "    ws.close = function() {\n",
       "        comm.close()\n",
       "    };\n",
       "    ws.send = function(m) {\n",
       "        //console.log('sending', m);\n",
       "        comm.send(m);\n",
       "    };\n",
       "    // Register the callback with on_msg.\n",
       "    comm.on_msg(function(msg) {\n",
       "        //console.log('receiving', msg['content']['data'], msg);\n",
       "        // Pass the mpl event to the overriden (by mpl) onmessage function.\n",
       "        ws.onmessage(msg['content']['data'])\n",
       "    });\n",
       "    return ws;\n",
       "}\n",
       "\n",
       "mpl.mpl_figure_comm = function(comm, msg) {\n",
       "    // This is the function which gets called when the mpl process\n",
       "    // starts-up an IPython Comm through the \"matplotlib\" channel.\n",
       "\n",
       "    var id = msg.content.data.id;\n",
       "    // Get hold of the div created by the display call when the Comm\n",
       "    // socket was opened in Python.\n",
       "    var element = $(\"#\" + id);\n",
       "    var ws_proxy = comm_websocket_adapter(comm)\n",
       "\n",
       "    function ondownload(figure, format) {\n",
       "        window.open(figure.imageObj.src);\n",
       "    }\n",
       "\n",
       "    var fig = new mpl.figure(id, ws_proxy,\n",
       "                           ondownload,\n",
       "                           element.get(0));\n",
       "\n",
       "    // Call onopen now - mpl needs it, as it is assuming we've passed it a real\n",
       "    // web socket which is closed, not our websocket->open comm proxy.\n",
       "    ws_proxy.onopen();\n",
       "\n",
       "    fig.parent_element = element.get(0);\n",
       "    fig.cell_info = mpl.find_output_cell(\"<div id='\" + id + \"'></div>\");\n",
       "    if (!fig.cell_info) {\n",
       "        console.error(\"Failed to find cell for figure\", id, fig);\n",
       "        return;\n",
       "    }\n",
       "\n",
       "    var output_index = fig.cell_info[2]\n",
       "    var cell = fig.cell_info[0];\n",
       "\n",
       "};\n",
       "\n",
       "mpl.figure.prototype.handle_close = function(fig, msg) {\n",
       "    fig.root.unbind('remove')\n",
       "\n",
       "    // Update the output cell to use the data from the current canvas.\n",
       "    fig.push_to_output();\n",
       "    var dataURL = fig.canvas.toDataURL();\n",
       "    // Re-enable the keyboard manager in IPython - without this line, in FF,\n",
       "    // the notebook keyboard shortcuts fail.\n",
       "    IPython.keyboard_manager.enable()\n",
       "    $(fig.parent_element).html('<img src=\"' + dataURL + '\">');\n",
       "    fig.close_ws(fig, msg);\n",
       "}\n",
       "\n",
       "mpl.figure.prototype.close_ws = function(fig, msg){\n",
       "    fig.send_message('closing', msg);\n",
       "    // fig.ws.close()\n",
       "}\n",
       "\n",
       "mpl.figure.prototype.push_to_output = function(remove_interactive) {\n",
       "    // Turn the data on the canvas into data in the output cell.\n",
       "    var dataURL = this.canvas.toDataURL();\n",
       "    this.cell_info[1]['text/html'] = '<img src=\"' + dataURL + '\">';\n",
       "}\n",
       "\n",
       "mpl.figure.prototype.updated_canvas_event = function() {\n",
       "    // Tell IPython that the notebook contents must change.\n",
       "    IPython.notebook.set_dirty(true);\n",
       "    this.send_message(\"ack\", {});\n",
       "    var fig = this;\n",
       "    // Wait a second, then push the new image to the DOM so\n",
       "    // that it is saved nicely (might be nice to debounce this).\n",
       "    setTimeout(function () { fig.push_to_output() }, 1000);\n",
       "}\n",
       "\n",
       "mpl.figure.prototype._init_toolbar = function() {\n",
       "    var fig = this;\n",
       "\n",
       "    var nav_element = $('<div/>')\n",
       "    nav_element.attr('style', 'width: 100%');\n",
       "    this.root.append(nav_element);\n",
       "\n",
       "    // Define a callback function for later on.\n",
       "    function toolbar_event(event) {\n",
       "        return fig.toolbar_button_onclick(event['data']);\n",
       "    }\n",
       "    function toolbar_mouse_event(event) {\n",
       "        return fig.toolbar_button_onmouseover(event['data']);\n",
       "    }\n",
       "\n",
       "    for(var toolbar_ind in mpl.toolbar_items){\n",
       "        var name = mpl.toolbar_items[toolbar_ind][0];\n",
       "        var tooltip = mpl.toolbar_items[toolbar_ind][1];\n",
       "        var image = mpl.toolbar_items[toolbar_ind][2];\n",
       "        var method_name = mpl.toolbar_items[toolbar_ind][3];\n",
       "\n",
       "        if (!name) { continue; };\n",
       "\n",
       "        var button = $('<button class=\"btn btn-default\" href=\"#\" title=\"' + name + '\"><i class=\"fa ' + image + ' fa-lg\"></i></button>');\n",
       "        button.click(method_name, toolbar_event);\n",
       "        button.mouseover(tooltip, toolbar_mouse_event);\n",
       "        nav_element.append(button);\n",
       "    }\n",
       "\n",
       "    // Add the status bar.\n",
       "    var status_bar = $('<span class=\"mpl-message\" style=\"text-align:right; float: right;\"/>');\n",
       "    nav_element.append(status_bar);\n",
       "    this.message = status_bar[0];\n",
       "\n",
       "    // Add the close button to the window.\n",
       "    var buttongrp = $('<div class=\"btn-group inline pull-right\"></div>');\n",
       "    var button = $('<button class=\"btn btn-mini btn-primary\" href=\"#\" title=\"Stop Interaction\"><i class=\"fa fa-power-off icon-remove icon-large\"></i></button>');\n",
       "    button.click(function (evt) { fig.handle_close(fig, {}); } );\n",
       "    button.mouseover('Stop Interaction', toolbar_mouse_event);\n",
       "    buttongrp.append(button);\n",
       "    var titlebar = this.root.find($('.ui-dialog-titlebar'));\n",
       "    titlebar.prepend(buttongrp);\n",
       "}\n",
       "\n",
       "mpl.figure.prototype._root_extra_style = function(el){\n",
       "    var fig = this\n",
       "    el.on(\"remove\", function(){\n",
       "\tfig.close_ws(fig, {});\n",
       "    });\n",
       "}\n",
       "\n",
       "mpl.figure.prototype._canvas_extra_style = function(el){\n",
       "    // this is important to make the div 'focusable\n",
       "    el.attr('tabindex', 0)\n",
       "    // reach out to IPython and tell the keyboard manager to turn it's self\n",
       "    // off when our div gets focus\n",
       "\n",
       "    // location in version 3\n",
       "    if (IPython.notebook.keyboard_manager) {\n",
       "        IPython.notebook.keyboard_manager.register_events(el);\n",
       "    }\n",
       "    else {\n",
       "        // location in version 2\n",
       "        IPython.keyboard_manager.register_events(el);\n",
       "    }\n",
       "\n",
       "}\n",
       "\n",
       "mpl.figure.prototype._key_event_extra = function(event, name) {\n",
       "    var manager = IPython.notebook.keyboard_manager;\n",
       "    if (!manager)\n",
       "        manager = IPython.keyboard_manager;\n",
       "\n",
       "    // Check for shift+enter\n",
       "    if (event.shiftKey && event.which == 13) {\n",
       "        this.canvas_div.blur();\n",
       "        event.shiftKey = false;\n",
       "        // Send a \"J\" for go to next cell\n",
       "        event.which = 74;\n",
       "        event.keyCode = 74;\n",
       "        manager.command_mode();\n",
       "        manager.handle_keydown(event);\n",
       "    }\n",
       "}\n",
       "\n",
       "mpl.figure.prototype.handle_save = function(fig, msg) {\n",
       "    fig.ondownload(fig, null);\n",
       "}\n",
       "\n",
       "\n",
       "mpl.find_output_cell = function(html_output) {\n",
       "    // Return the cell and output element which can be found *uniquely* in the notebook.\n",
       "    // Note - this is a bit hacky, but it is done because the \"notebook_saving.Notebook\"\n",
       "    // IPython event is triggered only after the cells have been serialised, which for\n",
       "    // our purposes (turning an active figure into a static one), is too late.\n",
       "    var cells = IPython.notebook.get_cells();\n",
       "    var ncells = cells.length;\n",
       "    for (var i=0; i<ncells; i++) {\n",
       "        var cell = cells[i];\n",
       "        if (cell.cell_type === 'code'){\n",
       "            for (var j=0; j<cell.output_area.outputs.length; j++) {\n",
       "                var data = cell.output_area.outputs[j];\n",
       "                if (data.data) {\n",
       "                    // IPython >= 3 moved mimebundle to data attribute of output\n",
       "                    data = data.data;\n",
       "                }\n",
       "                if (data['text/html'] == html_output) {\n",
       "                    return [cell, data, j];\n",
       "                }\n",
       "            }\n",
       "        }\n",
       "    }\n",
       "}\n",
       "\n",
       "// Register the function which deals with the matplotlib target/channel.\n",
       "// The kernel may be null if the page has been refreshed.\n",
       "if (IPython.notebook.kernel != null) {\n",
       "    IPython.notebook.kernel.comm_manager.register_target('matplotlib', mpl.mpl_figure_comm);\n",
       "}\n"
      ],
      "text/plain": [
       "<IPython.core.display.Javascript object>"
      ]
     },
     "metadata": {},
     "output_type": "display_data"
    },
    {
     "data": {
      "text/html": [
       "<img src=\"data:image/png;base64,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\">"
      ],
      "text/plain": [
       "<IPython.core.display.HTML object>"
      ]
     },
     "metadata": {},
     "output_type": "display_data"
    }
   ],
   "source": [
    "%matplotlib notebook\n",
    "\n",
    "import matplotlib.pyplot as plt\n",
    "import numpy as np\n",
    "\n",
    "x = np.linspace(0,10)\n",
    "line, = plt.plot(x, np.sin(x), linewidth=3)"
   ]
  },
  {
   "cell_type": "markdown",
   "metadata": {},
   "source": [
    "## Ülesanne 4: Sõnavarapõhine tekstide võrdlus\n",
    "\n",
    "**Võrrelge kasutatud sõnavara kolmes eri tekstis. Leidke:**\n",
    "1. Millised sõnad esinevad kõigis tekstides? \n",
    "2. Millised sõnad iseloomustavad vaid ühte tekstidest? Nimetage iga teksti kohta 5 sagedasemat.\n",
    "3. Millises tekstis on kõige enam erinevaid sõnu? Aga kui võtta arvesse ka teksti pikkust?\n",
    "4. Mitu protsenti sõnadest esineb vaid 1 kord?\n",
    "5. Kas \n",
    "\n",
    "**(3p)**"
   ]
  },
  {
   "cell_type": "markdown",
   "metadata": {},
   "source": [
    "**Kuidas:**\n",
    "    \n",
    "    1) lugege sisse failid \"postimees.txt\", \"nihilist.txt\" ja \"telegram.txt\"\n",
    "    2) tükeldage failid sõnadeks, eemaldage sõnade küljest kirjavahemärgid, viige väiketähelisele kujule\n",
    "    3) leidke iga teksti kohta eraldi sõnade sagedused\n",
    "    4) leidke sõnade ühisosa\n",
    "    5) leidke unikaalsed sõnad tekstides\n",
    "    6) leidke tekstide pikkused ja unikaalsete sõnade arvud tekstides\n",
    "    7) vastake küsimustele\n",
    "        "
   ]
  },
  {
   "cell_type": "markdown",
   "metadata": {},
   "source": [
    "## Boonusülesanne 1: Märkmiku export HTML-ina\n",
    "\n",
    "**Exportige märkmik HTML-formaadis, lahenduses esitage nii märkmik kui ka selle .html versioon .zip failina. (0.5p)**\n",
    "\n",
    "PDF oleks ägedam, aga nõuab lisaasjade tõmbamist ja terminalis häkkimist, et neist pärast lahti saada."
   ]
  },
  {
   "cell_type": "markdown",
   "metadata": {},
   "source": [
    "## Boonusülesanne 2: Märkmiku jooksutamine aktiivse conda virtuaalkeskkonnaga\n",
    "\n",
    "**Kirjeldage, millised sammud peab tegema, et saada Jupyteri märkmikku jooksutada suvalise conda keskkonnaga, mis on _jupyter notebook_ käsku jooksutades aktiivne. (0.5p)**"
   ]
  }
 ],
 "metadata": {
  "anaconda-cloud": {},
  "kernelspec": {
   "display_name": "Python [conda root]",
   "language": "python",
   "name": "conda-root-py"
  },
  "language_info": {
   "codemirror_mode": {
    "name": "ipython",
    "version": 3
   },
   "file_extension": ".py",
   "mimetype": "text/x-python",
   "name": "python",
   "nbconvert_exporter": "python",
   "pygments_lexer": "ipython3",
   "version": "3.5.2"
  }
 },
 "nbformat": 4,
 "nbformat_minor": 0
}
