{
 "cells": [
  {
   "cell_type": "markdown",
   "metadata": {},
   "source": [
    "<h1 style=\"color:blue\">Praktikum 7. Masinõpe</h1>\n",
    "<h3 style=\"color:blue\">Praktiline masinõpe - klassifitseerimine</h3>\n",
    "<h4>18. oktoober 2016 </h4>\n",
    "<h4>Ülesannete esitamise tähtaeg 1. november.</h4>"
   ]
  },
  {
   "cell_type": "markdown",
   "metadata": {},
   "source": [
    "Kui soovime lahendada probleemi, mida _if-else_'ide abil ei oska kirjeldada, kuid oleme päranduseks saanud suure koguse andmeid, saame suure tõenäosusega appi kutsuda masinõppe.\n",
    "\n",
    "Mistahes masinõppe probleemiga tegelema hakates peame esmalt hindama kas eksisteeriva süsteemi või kirjanduses sarnast probleemi lahendava lähenemise kvaliteeti. Sellist esmast baaslahendust nimetatakse _baseline_'iks. Esmased loodud süsteemid peaksid olema nii lihtsad ja vähe aega võtvad, kui vähegi võimalik, et neist siis midagi tõeliselt kaunist edasi arendada. Praktikas tähendab see sageli olemasolevate masinõppelahenduste rakendamist aktuaalsele andmestikule-probleemile.\n",
    "\n",
    "Tekstiliste andmete korral soovime lahendada peamiselt klassifitseerimise, klasterdamise ja kokkuvõtete probleeme. Käesolevas praktikumis mängime klassifitseerimise baaslahendustega, kasutades selleks **scikit-learn** teeki (mis on vaja installida praktikumiülesannete lahendamiseks kasutatavasse conda keskkonda kas Jupyteri Conda tab'ilt või käsurealt käsuga \n",
    "\n",
    "`conda install scikit-learn`"
   ]
  },
  {
   "cell_type": "markdown",
   "metadata": {},
   "source": [
    "### Andmete ettevalmistamine klassifitseerimisülesannete lahendamiseks"
   ]
  },
  {
   "cell_type": "markdown",
   "metadata": {},
   "source": [
    "Keelelised dokumendid peab esmalt esitama tunnusvektorite kujul, nagu mistahes masinõppe probleemi korral.\n",
    "\n",
    "_Scikit-learn_'is antakse andmed masinõppemeetoditele kahe massiivina. Kui meil on _N_ vaatlust ja _M_ sõltumatut tunnust, siis anname meetodile ette:\n",
    " * vaatluste vektorid (_N x M_)\n",
    " * vaatluste vektoritele vastavad sildid (*labels*) (_N x 1_) ehk väärtused, mida sooviksime, et süsteem hakkaks tunnusvektorit nähes ennustama "
   ]
  },
  {
   "cell_type": "markdown",
   "metadata": {},
   "source": [
    "Näidete jaoks kasutame traditsioonilist _Iris_'e mänguandmestikku"
   ]
  },
  {
   "cell_type": "code",
   "execution_count": 6,
   "metadata": {
    "collapsed": false
   },
   "outputs": [],
   "source": [
    "from sklearn import datasets\n",
    "iris = datasets.load_iris()\n",
    "data, labels = iris.data, iris.target"
   ]
  },
  {
   "cell_type": "markdown",
   "metadata": {},
   "source": [
    "Meil on andmestikus 4 \"sõltumatut\" tunnust, mille abil katsume treenida klassifitseerimismudeli."
   ]
  },
  {
   "cell_type": "code",
   "execution_count": 9,
   "metadata": {
    "collapsed": false
   },
   "outputs": [
    {
     "data": {
      "text/plain": [
       "['sepal length (cm)',\n",
       " 'sepal width (cm)',\n",
       " 'petal length (cm)',\n",
       " 'petal width (cm)']"
      ]
     },
     "execution_count": 9,
     "metadata": {},
     "output_type": "execute_result"
    }
   ],
   "source": [
    "iris.feature_names"
   ]
  },
  {
   "cell_type": "markdown",
   "metadata": {},
   "source": [
    "Nelja sõltumatut tunnust koos reaalse sõltuva tunnuse ehk hiljem ennustatava väärtusega on vaadeldud-mõõdetud 150 korral."
   ]
  },
  {
   "cell_type": "code",
   "execution_count": 5,
   "metadata": {
    "collapsed": false
   },
   "outputs": [
    {
     "data": {
      "text/plain": [
       "(150, 4)"
      ]
     },
     "execution_count": 5,
     "metadata": {},
     "output_type": "execute_result"
    }
   ],
   "source": [
    "data.shape"
   ]
  },
  {
   "cell_type": "markdown",
   "metadata": {},
   "source": [
    "Igal vaatlusel on vaadeldud ka sõltumatutele tunnustele vastavat sõltuvat tunnust, mida on igal vaatlusel üks."
   ]
  },
  {
   "cell_type": "code",
   "execution_count": 10,
   "metadata": {
    "collapsed": false
   },
   "outputs": [
    {
     "data": {
      "text/plain": [
       "(150,)"
      ]
     },
     "execution_count": 10,
     "metadata": {},
     "output_type": "execute_result"
    }
   ],
   "source": [
    "labels.shape"
   ]
  },
  {
   "cell_type": "markdown",
   "metadata": {},
   "source": [
    "Andmestik ise koosneb numbrilistest väärtustest, millele saab hõlpsalt rakendada enamikke masinõppe meetodeid."
   ]
  },
  {
   "cell_type": "code",
   "execution_count": 11,
   "metadata": {
    "collapsed": false
   },
   "outputs": [
    {
     "data": {
      "text/plain": [
       "array([[ 5.1,  3.5,  1.4,  0.2],\n",
       "       [ 4.9,  3. ,  1.4,  0.2],\n",
       "       [ 4.7,  3.2,  1.3,  0.2],\n",
       "       [ 4.6,  3.1,  1.5,  0.2],\n",
       "       [ 5. ,  3.6,  1.4,  0.2],\n",
       "       [ 5.4,  3.9,  1.7,  0.4],\n",
       "       [ 4.6,  3.4,  1.4,  0.3],\n",
       "       [ 5. ,  3.4,  1.5,  0.2],\n",
       "       [ 4.4,  2.9,  1.4,  0.2],\n",
       "       [ 4.9,  3.1,  1.5,  0.1],\n",
       "       [ 5.4,  3.7,  1.5,  0.2],\n",
       "       [ 4.8,  3.4,  1.6,  0.2],\n",
       "       [ 4.8,  3. ,  1.4,  0.1],\n",
       "       [ 4.3,  3. ,  1.1,  0.1],\n",
       "       [ 5.8,  4. ,  1.2,  0.2],\n",
       "       [ 5.7,  4.4,  1.5,  0.4],\n",
       "       [ 5.4,  3.9,  1.3,  0.4],\n",
       "       [ 5.1,  3.5,  1.4,  0.3],\n",
       "       [ 5.7,  3.8,  1.7,  0.3],\n",
       "       [ 5.1,  3.8,  1.5,  0.3],\n",
       "       [ 5.4,  3.4,  1.7,  0.2],\n",
       "       [ 5.1,  3.7,  1.5,  0.4],\n",
       "       [ 4.6,  3.6,  1. ,  0.2],\n",
       "       [ 5.1,  3.3,  1.7,  0.5],\n",
       "       [ 4.8,  3.4,  1.9,  0.2],\n",
       "       [ 5. ,  3. ,  1.6,  0.2],\n",
       "       [ 5. ,  3.4,  1.6,  0.4],\n",
       "       [ 5.2,  3.5,  1.5,  0.2],\n",
       "       [ 5.2,  3.4,  1.4,  0.2],\n",
       "       [ 4.7,  3.2,  1.6,  0.2],\n",
       "       [ 4.8,  3.1,  1.6,  0.2],\n",
       "       [ 5.4,  3.4,  1.5,  0.4],\n",
       "       [ 5.2,  4.1,  1.5,  0.1],\n",
       "       [ 5.5,  4.2,  1.4,  0.2],\n",
       "       [ 4.9,  3.1,  1.5,  0.1],\n",
       "       [ 5. ,  3.2,  1.2,  0.2],\n",
       "       [ 5.5,  3.5,  1.3,  0.2],\n",
       "       [ 4.9,  3.1,  1.5,  0.1],\n",
       "       [ 4.4,  3. ,  1.3,  0.2],\n",
       "       [ 5.1,  3.4,  1.5,  0.2],\n",
       "       [ 5. ,  3.5,  1.3,  0.3],\n",
       "       [ 4.5,  2.3,  1.3,  0.3],\n",
       "       [ 4.4,  3.2,  1.3,  0.2],\n",
       "       [ 5. ,  3.5,  1.6,  0.6],\n",
       "       [ 5.1,  3.8,  1.9,  0.4],\n",
       "       [ 4.8,  3. ,  1.4,  0.3],\n",
       "       [ 5.1,  3.8,  1.6,  0.2],\n",
       "       [ 4.6,  3.2,  1.4,  0.2],\n",
       "       [ 5.3,  3.7,  1.5,  0.2],\n",
       "       [ 5. ,  3.3,  1.4,  0.2],\n",
       "       [ 7. ,  3.2,  4.7,  1.4],\n",
       "       [ 6.4,  3.2,  4.5,  1.5],\n",
       "       [ 6.9,  3.1,  4.9,  1.5],\n",
       "       [ 5.5,  2.3,  4. ,  1.3],\n",
       "       [ 6.5,  2.8,  4.6,  1.5],\n",
       "       [ 5.7,  2.8,  4.5,  1.3],\n",
       "       [ 6.3,  3.3,  4.7,  1.6],\n",
       "       [ 4.9,  2.4,  3.3,  1. ],\n",
       "       [ 6.6,  2.9,  4.6,  1.3],\n",
       "       [ 5.2,  2.7,  3.9,  1.4],\n",
       "       [ 5. ,  2. ,  3.5,  1. ],\n",
       "       [ 5.9,  3. ,  4.2,  1.5],\n",
       "       [ 6. ,  2.2,  4. ,  1. ],\n",
       "       [ 6.1,  2.9,  4.7,  1.4],\n",
       "       [ 5.6,  2.9,  3.6,  1.3],\n",
       "       [ 6.7,  3.1,  4.4,  1.4],\n",
       "       [ 5.6,  3. ,  4.5,  1.5],\n",
       "       [ 5.8,  2.7,  4.1,  1. ],\n",
       "       [ 6.2,  2.2,  4.5,  1.5],\n",
       "       [ 5.6,  2.5,  3.9,  1.1],\n",
       "       [ 5.9,  3.2,  4.8,  1.8],\n",
       "       [ 6.1,  2.8,  4. ,  1.3],\n",
       "       [ 6.3,  2.5,  4.9,  1.5],\n",
       "       [ 6.1,  2.8,  4.7,  1.2],\n",
       "       [ 6.4,  2.9,  4.3,  1.3],\n",
       "       [ 6.6,  3. ,  4.4,  1.4],\n",
       "       [ 6.8,  2.8,  4.8,  1.4],\n",
       "       [ 6.7,  3. ,  5. ,  1.7],\n",
       "       [ 6. ,  2.9,  4.5,  1.5],\n",
       "       [ 5.7,  2.6,  3.5,  1. ],\n",
       "       [ 5.5,  2.4,  3.8,  1.1],\n",
       "       [ 5.5,  2.4,  3.7,  1. ],\n",
       "       [ 5.8,  2.7,  3.9,  1.2],\n",
       "       [ 6. ,  2.7,  5.1,  1.6],\n",
       "       [ 5.4,  3. ,  4.5,  1.5],\n",
       "       [ 6. ,  3.4,  4.5,  1.6],\n",
       "       [ 6.7,  3.1,  4.7,  1.5],\n",
       "       [ 6.3,  2.3,  4.4,  1.3],\n",
       "       [ 5.6,  3. ,  4.1,  1.3],\n",
       "       [ 5.5,  2.5,  4. ,  1.3],\n",
       "       [ 5.5,  2.6,  4.4,  1.2],\n",
       "       [ 6.1,  3. ,  4.6,  1.4],\n",
       "       [ 5.8,  2.6,  4. ,  1.2],\n",
       "       [ 5. ,  2.3,  3.3,  1. ],\n",
       "       [ 5.6,  2.7,  4.2,  1.3],\n",
       "       [ 5.7,  3. ,  4.2,  1.2],\n",
       "       [ 5.7,  2.9,  4.2,  1.3],\n",
       "       [ 6.2,  2.9,  4.3,  1.3],\n",
       "       [ 5.1,  2.5,  3. ,  1.1],\n",
       "       [ 5.7,  2.8,  4.1,  1.3],\n",
       "       [ 6.3,  3.3,  6. ,  2.5],\n",
       "       [ 5.8,  2.7,  5.1,  1.9],\n",
       "       [ 7.1,  3. ,  5.9,  2.1],\n",
       "       [ 6.3,  2.9,  5.6,  1.8],\n",
       "       [ 6.5,  3. ,  5.8,  2.2],\n",
       "       [ 7.6,  3. ,  6.6,  2.1],\n",
       "       [ 4.9,  2.5,  4.5,  1.7],\n",
       "       [ 7.3,  2.9,  6.3,  1.8],\n",
       "       [ 6.7,  2.5,  5.8,  1.8],\n",
       "       [ 7.2,  3.6,  6.1,  2.5],\n",
       "       [ 6.5,  3.2,  5.1,  2. ],\n",
       "       [ 6.4,  2.7,  5.3,  1.9],\n",
       "       [ 6.8,  3. ,  5.5,  2.1],\n",
       "       [ 5.7,  2.5,  5. ,  2. ],\n",
       "       [ 5.8,  2.8,  5.1,  2.4],\n",
       "       [ 6.4,  3.2,  5.3,  2.3],\n",
       "       [ 6.5,  3. ,  5.5,  1.8],\n",
       "       [ 7.7,  3.8,  6.7,  2.2],\n",
       "       [ 7.7,  2.6,  6.9,  2.3],\n",
       "       [ 6. ,  2.2,  5. ,  1.5],\n",
       "       [ 6.9,  3.2,  5.7,  2.3],\n",
       "       [ 5.6,  2.8,  4.9,  2. ],\n",
       "       [ 7.7,  2.8,  6.7,  2. ],\n",
       "       [ 6.3,  2.7,  4.9,  1.8],\n",
       "       [ 6.7,  3.3,  5.7,  2.1],\n",
       "       [ 7.2,  3.2,  6. ,  1.8],\n",
       "       [ 6.2,  2.8,  4.8,  1.8],\n",
       "       [ 6.1,  3. ,  4.9,  1.8],\n",
       "       [ 6.4,  2.8,  5.6,  2.1],\n",
       "       [ 7.2,  3. ,  5.8,  1.6],\n",
       "       [ 7.4,  2.8,  6.1,  1.9],\n",
       "       [ 7.9,  3.8,  6.4,  2. ],\n",
       "       [ 6.4,  2.8,  5.6,  2.2],\n",
       "       [ 6.3,  2.8,  5.1,  1.5],\n",
       "       [ 6.1,  2.6,  5.6,  1.4],\n",
       "       [ 7.7,  3. ,  6.1,  2.3],\n",
       "       [ 6.3,  3.4,  5.6,  2.4],\n",
       "       [ 6.4,  3.1,  5.5,  1.8],\n",
       "       [ 6. ,  3. ,  4.8,  1.8],\n",
       "       [ 6.9,  3.1,  5.4,  2.1],\n",
       "       [ 6.7,  3.1,  5.6,  2.4],\n",
       "       [ 6.9,  3.1,  5.1,  2.3],\n",
       "       [ 5.8,  2.7,  5.1,  1.9],\n",
       "       [ 6.8,  3.2,  5.9,  2.3],\n",
       "       [ 6.7,  3.3,  5.7,  2.5],\n",
       "       [ 6.7,  3. ,  5.2,  2.3],\n",
       "       [ 6.3,  2.5,  5. ,  1.9],\n",
       "       [ 6.5,  3. ,  5.2,  2. ],\n",
       "       [ 6.2,  3.4,  5.4,  2.3],\n",
       "       [ 5.9,  3. ,  5.1,  1.8]])"
      ]
     },
     "execution_count": 11,
     "metadata": {},
     "output_type": "execute_result"
    }
   ],
   "source": [
    "data"
   ]
  },
  {
   "cell_type": "code",
   "execution_count": 12,
   "metadata": {
    "collapsed": false
   },
   "outputs": [
    {
     "data": {
      "text/plain": [
       "array([0, 0, 0, 0, 0, 0, 0, 0, 0, 0, 0, 0, 0, 0, 0, 0, 0, 0, 0, 0, 0, 0, 0,\n",
       "       0, 0, 0, 0, 0, 0, 0, 0, 0, 0, 0, 0, 0, 0, 0, 0, 0, 0, 0, 0, 0, 0, 0,\n",
       "       0, 0, 0, 0, 1, 1, 1, 1, 1, 1, 1, 1, 1, 1, 1, 1, 1, 1, 1, 1, 1, 1, 1,\n",
       "       1, 1, 1, 1, 1, 1, 1, 1, 1, 1, 1, 1, 1, 1, 1, 1, 1, 1, 1, 1, 1, 1, 1,\n",
       "       1, 1, 1, 1, 1, 1, 1, 1, 2, 2, 2, 2, 2, 2, 2, 2, 2, 2, 2, 2, 2, 2, 2,\n",
       "       2, 2, 2, 2, 2, 2, 2, 2, 2, 2, 2, 2, 2, 2, 2, 2, 2, 2, 2, 2, 2, 2, 2,\n",
       "       2, 2, 2, 2, 2, 2, 2, 2, 2, 2, 2, 2])"
      ]
     },
     "execution_count": 12,
     "metadata": {},
     "output_type": "execute_result"
    }
   ],
   "source": [
    "labels"
   ]
  },
  {
   "cell_type": "markdown",
   "metadata": {},
   "source": [
    "Klassifitseerimisel on klasse lõplik arv, eelistatult vähe. Parimal juhul saame probleeme esitleda binaarsena, milles on kaks klassi (nt positiivne-negatiivne, ilus-kole, libaklient-päris klient). Praktikas on sageli klasse rohkem (auto tüüp, raamatu žanr, demograafiline grupp). Rohkemate klasside korral ehitatakse sageli mitmest mudelist koosnevaid väheste klassidega mudeleid, kus näiteks esimene mudel klassifitseerib, millist klassifitseerijat edasi kasutada.\n",
    "\n",
    "Lihtsustatult on väike klasside arv mudeli kohta on hea, kuna see tähendab vähem jamamist ebaproportsionaalsete klassidega ning lihtsamaid mudeleid, mida on võimalik kiirem õppida ning mis vajavad vähem treeningandmeid. Intuitiivselt võib mõelda, et mida vähem klasse, seda tõenäolisem on täppi panna."
   ]
  },
  {
   "cell_type": "code",
   "execution_count": 13,
   "metadata": {
    "collapsed": false
   },
   "outputs": [
    {
     "data": {
      "text/plain": [
       "array(['setosa', 'versicolor', 'virginica'], \n",
       "      dtype='<U10')"
      ]
     },
     "execution_count": 13,
     "metadata": {},
     "output_type": "execute_result"
    }
   ],
   "source": [
    "iris.target_names"
   ]
  },
  {
   "cell_type": "markdown",
   "metadata": {},
   "source": [
    "### Treening- ja testandmeteks jagamine"
   ]
  },
  {
   "cell_type": "markdown",
   "metadata": {},
   "source": [
    "Masinõppes on olulisel kohal __üldistatavus__. Me soovime, et meie ennustav mudel saaks hakkama mitte ainult nähtud vaatlustega, vaid ka tulevaste vaatlustega, mida me veel näinud pole. Kui me ei sooviks üldistada, võiksime teha lihtsalt Püütoni sõnaraamatu või andmebaasi, kust me leiaksime sõltumatutele muutujatele sõltuva muutuja vaste.\n",
    "\n",
    "Me saaksime hakkama süsteemiga, mis ei üldistaks, kui meie süsteem oleks juba näinud kõiki võimalikke sõltumatute muutujate kombinatsioone ja nendele vastavat sõltuvat muutujat. Paneme aga tähele, et see poleks enam mitte masinõppesüsteem, vaid andmebaas.\n",
    "\n",
    "Reaalsuses on aga vaatluste läbiviimine kallis, aeganõudev ja sageli on mingi tunnuse väärtuste hulk lõputu, mistõttu eelnimetatud andmebaasilikust lähenemisest ei piisa (ka vabakeelelised tekstid on lõputud - alati saame lisada täpsustava osalause). Just see on koht, mil masinõppemeetodid muutuvad oluliseks.\n",
    "\n",
    "Üldistatavus tekitab aga koheselt probleeme.\n",
    "\n",
    "#### Kuidas me saame mingi tagasiside, kas meie loodud mudel suudab üldistada?\n",
    "\n",
    "Me ei saa ju testida oma mudelit vaatlustel, mida meil veel pole. Tuleb aga välja, et polegi tarvis.\n",
    "\n",
    "Lahendusena saame jagada esialgse andmestiku osadeks. Suure osa (nt 80%-90%) jätame treenimiseks, ülejäänud osa testimiseks. Nii saame testida oma loodud mudelit andmestikul, mida treenimisel ei nähtud.\n",
    "\n",
    "Järgmises näites jätame 80% esialgsest andmestikust treenimiseks, 20% kvaliteedi hindamiseks."
   ]
  },
  {
   "cell_type": "code",
   "execution_count": 18,
   "metadata": {
    "collapsed": false
   },
   "outputs": [],
   "source": [
    "from sklearn import cross_validation as cv\n",
    "data_train, data_test, labels_train, labels_test = cv.train_test_split(data, labels, test_size=0.2)"
   ]
  },
  {
   "cell_type": "code",
   "execution_count": 19,
   "metadata": {
    "collapsed": false
   },
   "outputs": [
    {
     "data": {
      "text/plain": [
       "(120, 4)"
      ]
     },
     "execution_count": 19,
     "metadata": {},
     "output_type": "execute_result"
    }
   ],
   "source": [
    "data_train.shape"
   ]
  },
  {
   "cell_type": "code",
   "execution_count": 20,
   "metadata": {
    "collapsed": false
   },
   "outputs": [
    {
     "data": {
      "text/plain": [
       "(30, 4)"
      ]
     },
     "execution_count": 20,
     "metadata": {},
     "output_type": "execute_result"
    }
   ],
   "source": [
    "data_test.shape"
   ]
  },
  {
   "cell_type": "markdown",
   "metadata": {},
   "source": [
    "### Näide klassifitseerija treenimisest\n",
    "\n",
    "Vaatame näitena tinglikul tõenäosusel baseeruvat klassifitseerijat. _Naive Bayes_ on tõenäosuslike klassifitseerijate perekond, mille võsud eeldavad, et tunnused on tõepoolest statistiliselt sõltumatud. Meetod leiab klassi $C_k$, mis maksimeerib funktsiooni\n",
    "\n",
    "$\\frac{p(C_k)\\prod_{i=1}^n p(x_i|C_k)}{p(x)}$\n",
    "\n",
    "kus $C_k$ on klass _k_ ning $x$ on sõltumatute tunnuste vektor. Lugeja kirjeldab ligikaudu, kui sageli esineb treeningandmestikus vastav sõltuv muutuja koos etteantud sõltumatute muutujatega. Nimetaja väärtus sõltub tunnuste jaotusest. _GaussianNB_ implementatsioon eeldab, et tunnused on normaaljaotusega."
   ]
  },
  {
   "cell_type": "code",
   "execution_count": 21,
   "metadata": {
    "collapsed": true
   },
   "outputs": [],
   "source": [
    "from sklearn.naive_bayes import GaussianNB"
   ]
  },
  {
   "cell_type": "code",
   "execution_count": 49,
   "metadata": {
    "collapsed": false
   },
   "outputs": [
    {
     "data": {
      "text/plain": [
       "GaussianNB(priors=None)"
      ]
     },
     "execution_count": 49,
     "metadata": {},
     "output_type": "execute_result"
    }
   ],
   "source": [
    "# Treenime klassifitseerija\n",
    "nb = GaussianNB()\n",
    "nb.fit(data_train, labels_train)"
   ]
  },
  {
   "cell_type": "code",
   "execution_count": 50,
   "metadata": {
    "collapsed": false
   },
   "outputs": [
    {
     "data": {
      "text/plain": [
       "array([1])"
      ]
     },
     "execution_count": 50,
     "metadata": {},
     "output_type": "execute_result"
    }
   ],
   "source": [
    "# Klassifitseerime testandmestikust esimese näite\n",
    "predicted_first_label = nb.predict(data_test[0].reshape(1, -1))"
   ]
  },
  {
   "cell_type": "code",
   "execution_count": 51,
   "metadata": {
    "collapsed": false
   },
   "outputs": [
    {
     "data": {
      "text/plain": [
       "(4,)"
      ]
     },
     "execution_count": 51,
     "metadata": {},
     "output_type": "execute_result"
    }
   ],
   "source": [
    "data_test[0].shape"
   ]
  },
  {
   "cell_type": "code",
   "execution_count": 10,
   "metadata": {
    "collapsed": false
   },
   "outputs": [
    {
     "ename": "NameError",
     "evalue": "name 'labels_test' is not defined",
     "output_type": "error",
     "traceback": [
      "\u001b[0;31m---------------------------------------------------------------------------\u001b[0m",
      "\u001b[0;31mNameError\u001b[0m                                 Traceback (most recent call last)",
      "\u001b[0;32m<ipython-input-10-0a03d4349c4e>\u001b[0m in \u001b[0;36m<module>\u001b[0;34m()\u001b[0m\n\u001b[1;32m      1\u001b[0m \u001b[0;31m# Valideerime tulemuse\u001b[0m\u001b[0;34m\u001b[0m\u001b[0;34m\u001b[0m\u001b[0m\n\u001b[0;32m----> 2\u001b[0;31m \u001b[0mactual_first_label\u001b[0m \u001b[0;34m=\u001b[0m \u001b[0mlabels_test\u001b[0m\u001b[0;34m[\u001b[0m\u001b[0;36m0\u001b[0m\u001b[0;34m]\u001b[0m\u001b[0;34m\u001b[0m\u001b[0m\n\u001b[0m\u001b[1;32m      3\u001b[0m \u001b[0mpredicted_first_label\u001b[0m \u001b[0;34m==\u001b[0m \u001b[0mactual_first_label\u001b[0m\u001b[0;34m\u001b[0m\u001b[0m\n",
      "\u001b[0;31mNameError\u001b[0m: name 'labels_test' is not defined"
     ]
    }
   ],
   "source": [
    "# Valideerime tulemuse\n",
    "actual_first_label = labels_test[0]\n",
    "predicted_first_label == actual_first_label"
   ]
  },
  {
   "cell_type": "markdown",
   "metadata": {},
   "source": [
    "### Klassifitseerija hindamine"
   ]
  },
  {
   "cell_type": "code",
   "execution_count": 33,
   "metadata": {
    "collapsed": true
   },
   "outputs": [],
   "source": [
    "from sklearn import metrics"
   ]
  },
  {
   "cell_type": "code",
   "execution_count": 34,
   "metadata": {
    "collapsed": true
   },
   "outputs": [],
   "source": [
    "labels_predicted = nb.predict(data_test)"
   ]
  },
  {
   "cell_type": "code",
   "execution_count": 35,
   "metadata": {
    "collapsed": false
   },
   "outputs": [
    {
     "data": {
      "text/plain": [
       "0.93333333333333335"
      ]
     },
     "execution_count": 35,
     "metadata": {},
     "output_type": "execute_result"
    }
   ],
   "source": [
    "metrics.f1_score(labels_test, labels_predicted, average=\"weighted\")"
   ]
  },
  {
   "cell_type": "markdown",
   "metadata": {},
   "source": [
    "### Klassifitseerija hindamine ristvalideerimise abil"
   ]
  },
  {
   "cell_type": "code",
   "execution_count": 36,
   "metadata": {
    "collapsed": true
   },
   "outputs": [],
   "source": [
    "scores = cv.cross_val_score(nb, data, labels, cv=5, scoring='f1_weighted')"
   ]
  },
  {
   "cell_type": "code",
   "execution_count": 37,
   "metadata": {
    "collapsed": false
   },
   "outputs": [
    {
     "data": {
      "text/plain": [
       "array([ 0.93333333,  0.96658312,  0.93265993,  0.93265993,  1.        ])"
      ]
     },
     "execution_count": 37,
     "metadata": {},
     "output_type": "execute_result"
    }
   ],
   "source": [
    "scores"
   ]
  },
  {
   "cell_type": "code",
   "execution_count": 38,
   "metadata": {
    "collapsed": false
   },
   "outputs": [
    {
     "data": {
      "text/plain": [
       "0.95304726462621192"
      ]
     },
     "execution_count": 38,
     "metadata": {},
     "output_type": "execute_result"
    }
   ],
   "source": [
    "scores.mean()"
   ]
  },
  {
   "cell_type": "markdown",
   "metadata": {},
   "source": [
    "## Ül. 1 Dokumentide klassifitseerimine (3p)\n",
    "**Andmed.** Kaustas *infolehed* on kaks kataloogi, millest esimene (PIL) sisaldab 250 Eestis registreeritud ravimi pakendi infolehte ning teine (SPC) sisaldab 250 ravimi spetsifikatsiooni. Kui infolehed on suunatud eelkõige ravimi tarvitajatele, siis spetsifikatsioonid pigem arstidele. Seega võiks arvata, et keelekasutus neis dokumentides on erinev.\n",
    "\n",
    "**Eesmärk.** Dokumentide automaatne eristamine levinumaid klassifitseerimisalgoritme kasutades."
   ]
  },
  {
   "cell_type": "markdown",
   "metadata": {},
   "source": [
    "**1A. (1p)** Kirjutage kood, mille ülesandeks on:\n",
    "* lugeda sisse dokumendid,\n",
    "* teha dokumentidele EstNLTK abil morfoloogiline analüüs,\n",
    "* eraldada dokumentidest tunnused,\n",
    "* esitada dokumendid tunnusvektoritena (tunnuste suhtelised sagedused dokumendis),\n",
    "* salvestada tunnusvektorid Numpy massiivina kettale,\n",
    "* salvestada märgendid (*labels*) Numpy massiivina kettale."
   ]
  },
  {
   "cell_type": "markdown",
   "metadata": {},
   "source": [
    "**Tunnustena** kasutage:\n",
    "* tekstisõnesid,\n",
    "* lemmasid,\n",
    "* sõnaliike (*partofspeech* EstNLTK väljundis),\n",
    "* kogu grammatilist informatisoooni (*form* EstNLTK väljundis)"
   ]
  },
  {
   "cell_type": "markdown",
   "metadata": {},
   "source": [
    "Iga tüüpi tunnuste kohta peaks tekkima eraldi massiiv.\n",
    "\n",
    "**Ülesande lahenduses esitage nii kood, saadud 4 massiivi kui ka nende märgendid (ehk kokku 8 massiivi) (1p).**"
   ]
  },
  {
   "cell_type": "markdown",
   "metadata": {},
   "source": [
    "**Vihjeid:**\n",
    "* taaskasutage varasemates praktikumides loodud skripte!"
   ]
  },
  {
   "cell_type": "markdown",
   "metadata": {},
   "source": [
    "**1B. (2p)** Realiseerige kood, mille ülesandeks on: \n",
    "\n",
    "* lugeda sisse eelmises ülesandes loodud tunnusvektorite massiivid,\n",
    "\n",
    "* lugeda sisse vastavate massiivide märgendid,\n",
    "\n",
    "* jagada andmed treening- ja testandmeteks (70-30),\n",
    "\n",
    "* treenida treeningandmete peal järgmised klassifitseerijad:\n",
    "    * *naive bayes*\n",
    "    * *decision tree*\n",
    "    * *k-nearest neighbours*\n",
    "    \n",
    "* testida treenitud klassifitseerijaid testandmestikul"
   ]
  },
  {
   "cell_type": "markdown",
   "metadata": {},
   "source": [
    "** Lahenduses peaks näha kõikide treenitud klassifitseerijate F1-skoorid (kaalutud keskmist kasutades). Interpreteerige tulemusi (ehk püüdke oma sõnadega seletada, miks üks või teine lahendus paremini töötada võiks).**"
   ]
  },
  {
   "cell_type": "markdown",
   "metadata": {},
   "source": [
    "**Vihjeid:**\n",
    "* Klassifitseerijate import:\n",
    "    * from sklearn.naive_bayes import GaussianNB\n",
    "    * from sklearn.neighbors import KNeighborsClassifier\n",
    "    * from sklearn.tree import DecisionTreeClassifier\n",
    "    \n",
    "Kõikidel klassifitseerijatel on samad meetodid (ehk neid kasutatakse täpselt nagu näites olevat Bayesi klassifitseerijat)"
   ]
  },
  {
   "cell_type": "markdown",
   "metadata": {},
   "source": [
    "## Ül. 2 Keeletuvastus. (4p)\n",
    "**Andmed.** Failis *et-en.par* on tükk eesti-inglise paralleelkorpusest (721 lauset). Võiks eeldada, et leidub selliseid n-gramme (siin kontekstis tähemitmikke), mis on omased ainult ühe või teise keele sõnadele.\n",
    "\n",
    "**Eesmärk.** Eristada automaatselt eesti- ja ingliskeelset teksti. Eristada peaks olema võimalik 1\n",
    "sõna korraga."
   ]
  },
  {
   "cell_type": "markdown",
   "metadata": {},
   "source": [
    "**2A. (2p)** Kirjutage kood, mille ülesandeks on:\n",
    "* lugeda sisendfailist sisse andmed\n",
    "* eraldada sisendsõnadest tunnused\n",
    "* esitada sisendsõnad tunnusvektoritena\n",
    "* salvestada tunnusvektorid Numpy massiivina kettale,\n",
    "* salvestada märgendid (*labels*) Numpy massiivina kettale.\n",
    "\n",
    "Tunnustena kasutage (binaarsena):\n",
    "* 1-gramme\n",
    "* 2-gramme\n",
    "* 3-gramme"
   ]
  },
  {
   "cell_type": "markdown",
   "metadata": {},
   "source": [
    "Iga andmestikus leiduva sõna jaoks peab tekkima 1 tunnusvektor (ehk mitu korda esinevaid\n",
    "sõnu vaadeldakse ainult üks kord). Tunnused on binaarsed (0/1) ning indikeerivad, kas vastav\n",
    "n-gramm on sõnas esindatud või mitte. Iga tüüpi tunnuste kohta peaks tekkima eraldi massiiv:"
   ]
  },
  {
   "cell_type": "markdown",
   "metadata": {},
   "source": [
    "|          | Ngramm1          | Ngramm2  | ...     | NgrammN| \n",
    "| ------------- |:-------------:| -----:|\n",
    "| sõna1      |  |   |    |    |\n",
    "| sõna2      |        |    |    |    |\n",
    "| ... |       |     |    |    |\n",
    "| sõnaN |        |    |    |    |"
   ]
  },
  {
   "cell_type": "markdown",
   "metadata": {},
   "source": [
    "**Lahendusena esitage lisaks koodile 3 massiivi koos vastavate märgenditega (seega kokku 6 massiivi).**"
   ]
  },
  {
   "cell_type": "markdown",
   "metadata": {},
   "source": [
    "**2B. (2p)** Kirjutage kood, mille ülesandeks on:\n",
    "* lugeda sisse eelmises ülesandes loodud tunnusvektorite massiivid,\n",
    "* lugeda sisse vastavate massiivide märgendid,\n",
    "* treenida treeningandmete peal järgmised klassifitseerijad:\n",
    "     * *naive bayes*,\n",
    "     * *decision tree*,\n",
    "     * *k-nearest neighbours*,\n",
    "* testida klassifitseerijaid 5x ristvalideerimist kasutades.\n",
    "\n",
    "\n",
    "**Lahenduses peaks näha olema kõikide treenitud klassifitseerijate F1-skoorid (kaalutud keskmist kasutades). Interpreteerige tulemusi (ehk püüdke oma sõnadega seletada, miks üks või teine lahendus paremini töötada võiks).**"
   ]
  },
  {
   "cell_type": "code",
   "execution_count": null,
   "metadata": {
    "collapsed": true
   },
   "outputs": [],
   "source": []
  }
 ],
 "metadata": {
  "anaconda-cloud": {},
  "kernelspec": {
   "display_name": "Python [conda root]",
   "language": "python",
   "name": "conda-root-py"
  },
  "language_info": {
   "codemirror_mode": {
    "name": "ipython",
    "version": 3
   },
   "file_extension": ".py",
   "mimetype": "text/x-python",
   "name": "python",
   "nbconvert_exporter": "python",
   "pygments_lexer": "ipython3",
   "version": "3.5.2"
  }
 },
 "nbformat": 4,
 "nbformat_minor": 1
}
