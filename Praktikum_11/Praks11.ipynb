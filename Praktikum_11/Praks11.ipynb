{
 "cells": [
  {
   "cell_type": "markdown",
   "metadata": {},
   "source": [
    "<h1 style=\"color:blue\">Praktikum 11. Info eraldamine. Word2vec</h1>\n",
    "<h4>29. november 2016 </h4>\n",
    "<h4>Ülesannete esitamise tähtaeg 13. detsember.</h4>"
   ]
  },
  {
   "cell_type": "markdown",
   "metadata": {},
   "source": [
    "## Ülesanne 1. Info eraldamine (4p)\n",
    "#### Isikute ja asukohtadega seotud informatsiooni ekstraheerimine tekstist.\n",
    "\n"
   ]
  },
  {
   "cell_type": "markdown",
   "metadata": {},
   "source": [
    "**Eesmärk** on ekstraheerida kunstnike vikipeedia artiklitest informatsiooni nende:\n",
    "   * A. seotusest erinevate asukohtadega - kes kunstnikest millistes asukohtades (riigid, linnad, külad jne) sündis, elas, töötas, maalis jne.\n",
    "   * B. viljeletud kunstisuundadest\n",
    "   \n",
    "Selle saavutamiseks kasutame EstNLTK vahendeid kombineeritult naiivse reeglipõhise lähenemisega, mille abil tuvastame artiklitest vajalikku informatsiooni sisaldavad osalaused."
   ]
  },
  {
   "cell_type": "markdown",
   "metadata": {},
   "source": [
    "**Andmed.** Sel korral on kasutada eestikeelsest vikipeediast *crawl*itud artiklid kunstnike kohta. Kokku on artikleid 1272 kunstniku kohta. Andmed on antud kaustas *kunstnikud*. Andmed pärinevad antud loendis sisalduvatest artiklitest: https://et.wikipedia.org/wiki/Kunstnike_loend"
   ]
  },
  {
   "cell_type": "markdown",
   "metadata": {},
   "source": [
    "**Loodava programmi abil:**\n",
    "* loetakse etteantud kaustast sisse failides olevas tekstid,\n",
    "* teostatakse tekstidele EstNLTK abil lausestamine, osalausestamine ja lemmatiseerimine,\n",
    "* eraldatakse tekstidest EstNLTK abil nimega üksused,\n",
    "* (A) tuvastatakse tekstidest sellised osalaused, milles sisaldub:\n",
    "     * üks isikule viitav nimega üksus (PER)\n",
    "     * üks asukohale viitav nimega üksus (LOC)\n",
    "     * üks verb nende kahe vahel: PER verb LOC (osalauses võib olla ka muid sõnu)\n",
    "* (B) tuvastatakse tekstidest sellised osalaused, milles leidub:\n",
    "     * üks isikule viitav nimega üksus (PER)\n",
    "     * üks kunstivoolule viitav märksõna (kunstivoolud.txt)\n",
    "* salvestatakse ekstraheeritud informatsioon tabelitena kettale,\n",
    "     * tabel A peab sisaldama:\n",
    "         * jrk nr\n",
    "         * kunstniku nimi\n",
    "         * asukoht\n",
    "     * tabel B peab sisaldama:\n",
    "         * jrk nr\n",
    "         * kunstniku nimi\n",
    "         * kunstivool"
   ]
  },
  {
   "cell_type": "markdown",
   "metadata": {},
   "source": [
    "**Lahendusena:**\n",
    "  * esitada programmikood koos salvestatud tabelitega (3,5p)\n",
    "  * analüüsida saadud tabeleid ning vastata küsimusele: millised on kõige populaarsemad asukohad impressionistide seas? (0,5p)"
   ]
  },
  {
   "cell_type": "markdown",
   "metadata": {},
   "source": [
    "**Vihjeid:**\n",
    "* enamiku kunstivoolude kohta leidub sõnastikus enam kui 1 märksõna, mida tuleb väljundtabelis käsitleda võrdsetena (impressionism = impressionist = impressionistlik)\n",
    "\n",
    "\n",
    "* artiklites viidatakse kunstnikele ka asesõnaliselt (*X* oli kuulus maalikunstnik. *Ta* maalis... ), mis puhul tuleb võrdsustada asesõna mõne teise isikunimega. Lihtsaim variant on panna asesõna vastavusse viimati (või hoopis enim?) nähtud isikunimega:\n",
    "     * *X* oli kuulus maalikunstnik. *Ta* maalis… →  *X* oli kuulus maalikunstnik. *X* maalis...\n",
    "     \n",
    "     \n",
    "* (*valikuline*) Artiklites viidatakse kunstnikele ka perekonnanimega (nt Albrecht Dürer oli saksa maalikunstnik. Dürer maalis... ), mistõttu tuleks iga nime puhul kontrollida, kas see on mõne pikema nime sufiksiks ning vajadusel asendada nimi pikema variandiga."
   ]
  },
  {
   "cell_type": "markdown",
   "metadata": {},
   "source": [
    "## Ülesanne 2. Keelemudel Word2Vec’i abil (2,5p)."
   ]
  },
  {
   "cell_type": "markdown",
   "metadata": {},
   "source": [
    "**Eesmärk** on treenida keelemudel, mille alusel on võimalik otsustada mudelisse kuuluvate\n",
    "sõnade sarnasust. Selleks kasutame tehisneurovõrkudel põhinevat Word2Vec’i nimelist\n",
    "tööriista.\n",
    "\n",
    "\n",
    "**Andmed.** Selles ülesandes kasutame Maalehe artikleid, mis avaldatud 2001-2004. Andmed on XML kujul saadaval kaustas *maaleht*. Oluline on märgata, et lausestus on andmetel juba tehtud, kuid EstNLTK abil tuleb leida ka lemmad!"
   ]
  },
  {
   "cell_type": "markdown",
   "metadata": {},
   "source": [
    "**Lahenduseks** treenida Maalehe artiklitel Word2Vec’i mudel (soovitav on see kettale salvestada) ning vasta järgmistele küsimustele:\n",
    "\n",
    "   * A. Mitu unikaalset lemmat on mudelis (ehk kui suur on mudeli sõnavara)? (0,5p)\n",
    "   \n",
    "   \n",
    "   * B. Kui suur on nurga koosinus järgmiste sõnavektorite vahel: (1p)\n",
    "        * a. auto ja traktor?\n",
    "        * b. auto ja jalgratas?\n",
    "        * c. laev ja kaubalaev?\n",
    "        \n",
    "        \n",
    "   * C. Millised on 3 kõige sarnasemat sõnavektorit järgmistele sõnavektoritele: (1p)\n",
    "        * a. auto?\n",
    "        * b. sinine?\n",
    "        * c. võistlus?"
   ]
  },
  {
   "cell_type": "markdown",
   "metadata": {},
   "source": [
    "**Vihjeid:**\n",
    "* kasutatav korpus on küllaltki suur, mistõttu ei ole mõistlik seda korraga mällu lugeda\n",
    "* seetõttu on mõistlik teha iteraator, mis itereerib läbi failides olevate lausetega ning teeb nendega midagi:"
   ]
  },
  {
   "cell_type": "code",
   "execution_count": 2,
   "metadata": {
    "collapsed": true
   },
   "outputs": [],
   "source": [
    "class MySentences(object):\n",
    "    def __init__(self, dirname):\n",
    "        self.dirname = dirname\n",
    "    def __iter__(self):\n",
    "        for fname in os.listdir(self.dirname):\n",
    "            for line in open(os.path.join(self.dirname, fname)):\n",
    "                yield line.split()"
   ]
  },
  {
   "cell_type": "markdown",
   "metadata": {},
   "source": [
    "Iteraatorit saab keelemudeli treenimisel kasutada järgmiselt:"
   ]
  },
  {
   "cell_type": "code",
   "execution_count": null,
   "metadata": {
    "collapsed": true
   },
   "outputs": [],
   "source": [
    "sentences = MySentences('/some/directory')\n",
    "model = gensim.models.Word2Vec(sentences)"
   ]
  },
  {
   "cell_type": "markdown",
   "metadata": {},
   "source": [
    "**NB!** Ärge unustage lauseid lemmatiseerida! Selleks tuleb eelnevalt antud iteraatorit pisut modifitseerida."
   ]
  },
  {
   "cell_type": "markdown",
   "metadata": {},
   "source": [
    "Mudeli salvestamine:"
   ]
  },
  {
   "cell_type": "code",
   "execution_count": null,
   "metadata": {
    "collapsed": true
   },
   "outputs": [],
   "source": [
    "model.save('my_model')"
   ]
  },
  {
   "cell_type": "markdown",
   "metadata": {},
   "source": [
    "Kõige sarnasemate sõnavektorite leidmiseks sõnavektorile on mudelil meetod **most_similar()**:"
   ]
  },
  {
   "cell_type": "code",
   "execution_count": null,
   "metadata": {
    "collapsed": true
   },
   "outputs": [],
   "source": [
    "model.most_similar(\"koer\", topn = 1)"
   ]
  },
  {
   "cell_type": "markdown",
   "metadata": {},
   "source": [
    "Nurga koosinuse arvutamiseks kahe sõnavektori vahel on mudelil meetod **similarity()**:"
   ]
  },
  {
   "cell_type": "code",
   "execution_count": null,
   "metadata": {
    "collapsed": true
   },
   "outputs": [],
   "source": [
    "model.similarity('woman', 'man')"
   ]
  }
 ],
 "metadata": {
  "anaconda-cloud": {},
  "kernelspec": {
   "display_name": "Python [conda env:working_estnltk]",
   "language": "python",
   "name": "conda-env-working_estnltk-py"
  },
  "language_info": {
   "codemirror_mode": {
    "name": "ipython",
    "version": 3
   },
   "file_extension": ".py",
   "mimetype": "text/x-python",
   "name": "python",
   "nbconvert_exporter": "python",
   "pygments_lexer": "ipython3",
   "version": "3.5.2"
  }
 },
 "nbformat": 4,
 "nbformat_minor": 1
}
