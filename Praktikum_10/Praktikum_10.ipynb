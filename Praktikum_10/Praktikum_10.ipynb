{
 "cells": [
  {
   "cell_type": "markdown",
   "metadata": {},
   "source": [
    "<h1 style=\"color:blue\">Praktikum 10. Keelemudelid</h1>\n",
    "<h4>15. november 2016 </h4>\n",
    "<h4>Ülesannete esitamise tähtaeg 29. november.</h4>"
   ]
  },
  {
   "cell_type": "markdown",
   "metadata": {},
   "source": [
    "### Ülesanne 1. Sõnasoovitaja (6p)"
   ]
  },
  {
   "cell_type": "markdown",
   "metadata": {},
   "source": [
    "Juba mitu aastakümmet on mobiilsetes seadmetes sõnumite saatjaid muserdanud automaatne\n",
    "sõnade soovitamine. Käesolevas praktikumis kirjutame ise sarnaselt toimiva süsteemi, mida\n",
    "saab konfigureerida, et see paremini või halvemini töötaks.\n",
    "\n",
    "Lahenduseks kasutame järgmist lähenemist:\n",
    "* treenime mingil eestikeelsel tekstil keele n-grammi baasmudeli, et hoida soovitused keeleliselt nii korrektsed kui võimalik ka puhkudel, kui kasutaja tekstis pole vastavaid\n",
    "n-gramme veel nähtud,\n",
    "* kasutaja eelistuste leidmiseks treenime *online* stiilis kasutaja keelemudeli, mida hakkame vastavalt kasutaja sisendile täiendama,\n",
    "* ühendame baasmudeli ja kasutajamudeli üheks süsteemiks,\n",
    "* loeme kasutaja sisendit, kuni kasutaja annab märku, et soovib sõna ennustamisel abi."
   ]
  },
  {
   "cell_type": "markdown",
   "metadata": {},
   "source": [
    "#### A. Treenime baasmudeli ja salvestame kettale\n",
    "* treenime mingil hulgal piibli kaustas olevatel raamatutel unigrammi, bigrammi ja trigrammi alammudelid\n",
    "    * mida rohkem raamatuid kaasame, seda parem tuleb mudel, kuid ka seda mälunõudlikum ning aeglasem\n",
    "    * n-grammi mudeli talletamiseks on tarvis sagedustabelit, mille\n",
    "         * veergudeks on (n-1)-grammid\n",
    "             * unigrammi korral on j-ndas reas üks veerg, mis sisaldab j-nda tekstisõne sagedust dokumendis\n",
    "         * ridadeks tekstisõned (sõnad + olulisemad kirjavahemärgid)\n",
    "         * (i,j) väärtuseks n-grammi sagedus dokumendis\n",
    "             * n-gramm moodustunud veeru (n-1)-grammist + rea unigrammist\n",
    "* mudeleid treenides ei tohi unustada metasõnavara\n",
    "     * [unk] *out-of-vocabulary* lahendamiseks\n",
    "         * [unk] treenimiseks võib iga sõna esimesel esinemisel suurendada vastaval kontekstil ((n-1)-grammil) [unk] sagedust\n",
    "     * (n-1) [lause algus] enne igat lauset\n",
    "     * (n-1) [lause lõpp] pärast igat lauset\n",
    "     * lisaks võib agregeerida omaette\n",
    "         * numbrid\n",
    "         * harvemad kirjavahemärgid\n",
    "         * nimed\n",
    "* silume mudelid (valida üks kahest meetodist)\n",
    "     * üldine Laplace’i silumine (liidame kõigile sagedustele mingi fikseeritud arvu vahemikust [0,1])\n",
    "     * Good-Turing sageduse kalibreerimine (vt loenguslaidid)\n",
    "* jagame tekkinud sagedustabelite elementide väärtused vastavate tabelite veergude summaga\n",
    "     * nt bigrammi mudeli j-ndas veerus oleva elemendi jagame läbi bigrammi mudeli j-nda veeru summaga\n",
    "         * teoorias vastab C(n-gramm) / C((n-1)-gramm)\n",
    "* salvestame kettale tekkinud mudelid ja nende ridade ning veergude kujutused n-grammidest indeksiteks\n",
    "\n",
    "\n",
    "**Lahendusena esitada kood, mis täidab ülesande 1.A nõudeid. (3p)**"
   ]
  },
  {
   "cell_type": "markdown",
   "metadata": {},
   "source": [
    "#### B. Initsialiseerime kasutaja mudeli\n",
    "* loome baasmudelile identsete tunnustega unigrammi, bigrammi ja trigrammi sagedustabelid\n",
    "     * kui baasmudelis kirjeldab 5. rida sõna “koer” järgnevust erinevatele unigrammidele, siis kaunistab ka antud bigrammi mingit rida (miks mitte 5ndat?) sõna “koer” ja tema järgnevuste sagedusi erinevatele unigrammidele\n",
    "     * tarvis lugeda sisse baasmudeli alammudelite ridade ja veergude kujutused n-grammidest indeksiteks\n",
    "* silume üldise Laplace’iga\n",
    "     * hästi väike arv [0,1]\n",
    "* salvestame kasutaja mudeli ja ridade ning veergude kujutused kettale\n",
    "\n",
    "**Lahendusena esitada skript, mis täidab ülesande 1.B nõudeid. (1p)**"
   ]
  },
  {
   "cell_type": "markdown",
   "metadata": {},
   "source": [
    "#### C. Paneme süsteemi kokku\n",
    "* loeme sisse baasmudeli tabelid ja sõnaraamatud\n",
    "* loeme sisse kasutaja mudeli tabelid ja sõnaraamatud\n",
    "* pärime kasutajalt lõputult sisendtekste\n",
    "     * talletame kasutaja alammudelitesse kasutaja sisendi\n",
    "         * kui kasutaja sisestas “”Täna on taevas päike.”, siis näiteks\n",
    "             * suurendame trigrammi sagedustabelis ühe võrra väärtust kohal (“taevas”,”Täna on”)\n",
    "             * suurendame bigrammi sagedustabelis ühe võrra väärtust kohal (“taevas”,”on”)\n",
    "             * suurendame unigrammi sagedustabelis ühe võrra “taevas” sagedust\n",
    "         * kui kasutaja ei lõpetanud teksti lauset lõpetava kirjavahemärgiga\n",
    "             * jätame lõppu (n-1) [lause lõpp] lisamata\n",
    "     * kui kasutaja ei lõpetanud teksti lauset lõpetava kirjavahemärgiga\n",
    "         * prindime soovitatava sõna vastavalt tõenäosusele, kus suvalise sõna tõenäosus avaldub valemiga"
   ]
  },
  {
   "cell_type": "markdown",
   "metadata": {},
   "source": [
    "$P(w_i|w_{i-2}w_{i-1}) = \\alpha _1(\\beta_1P_{bm}(w_i|w_{i-2}w_{i-1})+\\beta_2P_{bm}(w_i|w_{i-1}+\\beta_3P_{bm}(w_i))+\\alpha_2(\\beta_1P_{um}(w_i|w_{i-2}w_{i-1})+\\beta_2P_{um}(w_i|w_{i-1})+\\beta_3P_{um}(w_i)) $"
   ]
  },
  {
   "cell_type": "markdown",
   "metadata": {},
   "source": [
    "   * $ \\alpha_i $ ja $\\beta_j$ on parameetrid, mille puhul\n",
    "       * $sum(\\alpha_i) = 1$\n",
    "       * $sum(\\beta_j) = 1$\n",
    "   * $P_{bm}$ on baasmudeli vastavad alammudelid\n",
    "   * $P_{um}$ on kasutaja mudeli vastavad alammudelid\n",
    "       * $P_{um} $ tõenäosuseid ei saanud ette arvutada, kuna teadmine süsteemist muutub iga kasutaja sisendiga\n",
    "           * peame vastavad sagedused veeru summadega igal arvutusel jooksutama\n",
    "           * saame terve veeru korraga arvutada\n",
    "           \n",
    "* kui kasutaja tahab skripti sulgeda, salvestame enne uuendatud kasutaja mudeli kettale           \n",
    "       \n",
    "       "
   ]
  },
  {
   "cell_type": "markdown",
   "metadata": {},
   "source": [
    "**Lahendusena esitage skript, mis vastab ülesande 1.C nõuetele. (2p)**"
   ]
  }
 ],
 "metadata": {
  "anaconda-cloud": {},
  "kernelspec": {
   "display_name": "Python [conda env:working_estnltk]",
   "language": "python",
   "name": "conda-env-working_estnltk-py"
  },
  "language_info": {
   "codemirror_mode": {
    "name": "ipython",
    "version": 3
   },
   "file_extension": ".py",
   "mimetype": "text/x-python",
   "name": "python",
   "nbconvert_exporter": "python",
   "pygments_lexer": "ipython3",
   "version": "3.5.2"
  }
 },
 "nbformat": 4,
 "nbformat_minor": 1
}
