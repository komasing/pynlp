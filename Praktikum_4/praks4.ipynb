{
 "cells": [
  {
   "cell_type": "markdown",
   "metadata": {},
   "source": [
    "\n",
    "<h1 style=\"color:blue\">Praktikum 4. Failiformaadid</h1>\n",
    "<h3 style=\"color:blue\">Erinevate failiformaatide lugemine ja kirjutamine</h3>\n",
    "<h4>27. september 2016 </h4>\n",
    "<h4>Ülesannete esitamise tähtaeg 11. oktoober.</h4>\n"
   ]
  },
  {
   "cell_type": "markdown",
   "metadata": {},
   "source": [
    "Andmed, sealhulgas ka keelelised andmed, võivad olla erinevat tüüpi failides. Seni oleme praktikumides kasutanud ainult **Plain text** kujul olevaid andmefaile, aga tegelikult - kui mõtleme andmetele, millega igapäevaselt kokku puutume, siis on selge, et enamik andmeid sellisel kujul ei esine. Seetõttu on oluline tunda ka viise teiste formaatidega toimetulekuks. Tavalisemate formaatide jaoks on Pythonis olemas teegid, millega käesolevas praktikumis tutvumegi. "
   ]
  },
  {
   "cell_type": "markdown",
   "metadata": {},
   "source": [
    "### CSV - Comma Separated Values\n"
   ]
  },
  {
   "cell_type": "markdown",
   "metadata": {},
   "source": [
    "Csv-failid sisaldavad komade (või ka muu eraldusmärgiga) eraldatud lihttekstivälju, ühel real paikneb üks kirje. Csv-failide lugemiseks ja kirjutamiseks on olemas csv teek https://docs.python.org/3/library/csv.html"
   ]
  },
  {
   "cell_type": "markdown",
   "metadata": {},
   "source": [
    "### Ülesanne 1. (1p)"
   ]
  },
  {
   "cell_type": "markdown",
   "metadata": {},
   "source": [
    "Failis comments.csv on toodud 200 lugejakommentaari ühest eesti meediaväljaandest. Veerus \"Staatus\" on märgitud, kas moderaator on kommentaari ära keelanud (staatus 1) või mitte (staatus 2). Veergudes \"Pos\" ja \"Neg\" on kirjas, kui palju on kommentaar saanud lugejatelt vastavalt positiivseid ja negatiivseid hinnanguid.\n",
    "\n",
    "Lugege fail sisse ning leidke:\n",
    "\n",
    "1) Kas keskmiselt pikemad on keelatud või lubatud kommentaarid\n",
    "\n",
    "2) Milliseid kommentaare on lugejad kõige aktiivsemalt hinnanud? "
   ]
  },
  {
   "cell_type": "markdown",
   "metadata": {},
   "source": [
    "### XLS\n"
   ]
  },
  {
   "cell_type": "markdown",
   "metadata": {},
   "source": []
  },
  {
   "cell_type": "code",
   "execution_count": null,
   "metadata": {
    "collapsed": true
   },
   "outputs": [],
   "source": []
  },
  {
   "cell_type": "code",
   "execution_count": null,
   "metadata": {
    "collapsed": true
   },
   "outputs": [],
   "source": []
  },
  {
   "cell_type": "markdown",
   "metadata": {},
   "source": [
    "### Ülesanne 2. "
   ]
  },
  {
   "cell_type": "markdown",
   "metadata": {},
   "source": [
    "Failis colour_phrases.csv on toodud ära erinevate nimisõnade koosesinemised värvinimedega eesti keele koondkorpuses (http://www.cl.ut.ee/korpused/segakorpus/). Lugege see fail sisse ja leidke kõik nimisõnad, mis esinevad vähemalt 3 erineva värvinimega. Looge tabel, milles nimisõnade ja värvinimede koosesinemised oleks esitatud sagedustabelina: reatunnusteks on nimisõnad, veergudeks värvinimed ja tabelis sisalduksid vastavate koosesinemiste sagedused."
   ]
  },
  {
   "cell_type": "markdown",
   "metadata": {},
   "source": [
    "### PDF"
   ]
  },
  {
   "cell_type": "code",
   "execution_count": null,
   "metadata": {
    "collapsed": true
   },
   "outputs": [],
   "source": []
  },
  {
   "cell_type": "code",
   "execution_count": null,
   "metadata": {
    "collapsed": true
   },
   "outputs": [],
   "source": []
  },
  {
   "cell_type": "markdown",
   "metadata": {},
   "source": [
    "### ZIP\n",
    "\n",
    "\n",
    "Ülesannete lahendused pakkige zip-iks seekord programmaatiliselt. Selle juures on abiks teek zipfile, mille abil saab zip-faili kirjutada samal viisil, nagu seni oleme kirjutanud tekstifailidesse. (0,25p)"
   ]
  },
  {
   "cell_type": "code",
   "execution_count": 12,
   "metadata": {
    "collapsed": false
   },
   "outputs": [],
   "source": [
    "import zipfile"
   ]
  },
  {
   "cell_type": "code",
   "execution_count": 19,
   "metadata": {
    "collapsed": false
   },
   "outputs": [],
   "source": [
    "with zipfile.ZipFile('example', 'w') as myzip:\n",
    "    myzip.write('praks4.ipynb')\n",
    "    #..."
   ]
  },
  {
   "cell_type": "code",
   "execution_count": null,
   "metadata": {
    "collapsed": false
   },
   "outputs": [],
   "source": []
  },
  {
   "cell_type": "code",
   "execution_count": null,
   "metadata": {
    "collapsed": true
   },
   "outputs": [],
   "source": []
  }
 ],
 "metadata": {
  "anaconda-cloud": {},
  "kernelspec": {
   "display_name": "Python [conda env:pynlp]",
   "language": "python",
   "name": "conda-env-pynlp-py"
  },
  "language_info": {
   "codemirror_mode": {
    "name": "ipython",
    "version": 3
   },
   "file_extension": ".py",
   "mimetype": "text/x-python",
   "name": "python",
   "nbconvert_exporter": "python",
   "pygments_lexer": "ipython3",
   "version": "3.5.0"
  }
 },
 "nbformat": 4,
 "nbformat_minor": 1
}
