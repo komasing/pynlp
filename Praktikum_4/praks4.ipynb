{
 "cells": [
  {
   "cell_type": "markdown",
   "metadata": {},
   "source": [
    "\n",
    "<h1 style=\"color:blue\">Praktikum 4. Failiformaadid</h1>\n",
    "<h3 style=\"color:blue\">Erinevate failiformaatide lugemine ja kirjutamine</h3>\n",
    "<h4>27. september 2016 </h4>\n",
    "<h4>Ülesannete esitamise tähtaeg 11. oktoober.</h4>\n"
   ]
  },
  {
   "cell_type": "markdown",
   "metadata": {},
   "source": [
    "Andmed, sealhulgas ka keelelised andmed, võivad olla erinevat tüüpi failides. Seni oleme praktikumides kasutanud ainult **Plain text** kujul olevaid andmefaile, aga tegelikult - kui mõtleme andmetele, millega igapäevaselt kokku puutume, siis on selge, et enamik andmeid sellisel kujul ei esine. Seetõttu on oluline tunda ka viise teiste formaatidega toimetulekuks. Tavalisemate formaatide jaoks on Pythonis olemas teegid, millega käesolevas praktikumis tutvumegi. "
   ]
  },
  {
   "cell_type": "markdown",
   "metadata": {},
   "source": [
    "### CSV - Comma Separated Values\n"
   ]
  },
  {
   "cell_type": "markdown",
   "metadata": {},
   "source": [
    "Csv-failid sisaldavad komade (või ka muu eraldusmärgiga) eraldatud lihttekstivälju, ühel real paikneb üks kirje. Csv-failide lugemiseks ja kirjutamiseks on olemas csv teek https://docs.python.org/3/library/csv.html"
   ]
  },
  {
   "cell_type": "markdown",
   "metadata": {},
   "source": [
    "### Ülesanne 1. "
   ]
  },
  {
   "cell_type": "code",
   "execution_count": null,
   "metadata": {
    "collapsed": true
   },
   "outputs": [],
   "source": []
  }
 ],
 "metadata": {
  "anaconda-cloud": {},
  "kernelspec": {
   "display_name": "Python [conda env:pynlp]",
   "language": "python",
   "name": "conda-env-pynlp-py"
  },
  "language_info": {
   "codemirror_mode": {
    "name": "ipython",
    "version": 3
   },
   "file_extension": ".py",
   "mimetype": "text/x-python",
   "name": "python",
   "nbconvert_exporter": "python",
   "pygments_lexer": "ipython3",
   "version": "3.5.0"
  }
 },
 "nbformat": 4,
 "nbformat_minor": 1
}
