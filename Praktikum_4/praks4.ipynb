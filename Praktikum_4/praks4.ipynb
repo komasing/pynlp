{
 "cells": [
  {
   "cell_type": "markdown",
   "metadata": {},
   "source": [
    "\n",
    "<h1 style=\"color:blue\">Praktikum 4. Failiformaadid</h1>\n",
    "<h3 style=\"color:blue\">Erinevate failiformaatide lugemine ja kirjutamine</h3>\n",
    "<h4>27. september 2016 </h4>\n",
    "<h4>Ülesannete esitamise tähtaeg 11. oktoober.</h4>\n"
   ]
  },
  {
   "cell_type": "markdown",
   "metadata": {},
   "source": [
    "Keelelised andmed võivad olla talletatud erineval kujul. Seni oleme praktikumides töötanud ainult _plain text_ kujul olevate andmetega, kuid reaalsuses on erinevates valdkondades ning keskkondades kasutusel erinevad formaadid. Käesolevas praktikumis õpime ümber käima mõnede oluliste formaatidega ning tutvume, millal nad kasulikud on. Meie püüdlusele tuleb kasuks tõsiasi, et püütoniga on kaasas rohkelt standardteeke, mis toetavad erinevaid formaate. "
   ]
  },
  {
   "cell_type": "markdown",
   "metadata": {},
   "source": [
    "### CSV - Comma Separated Values\n"
   ]
  },
  {
   "cell_type": "markdown",
   "metadata": {},
   "source": [
    "CSV-failid talletavad lihttekstilise tabeli kujul andmeid, kus rea defineerib üldiselt reavahetuse sümbol ning veeru ettemääratud eraldusmärk. Kui tekstilised tunnused sisaldavad reavahetuse sümbolit või veeru eraldajat, piiritletakse tunnuse väärtus \"jutumärkidega\". Traditsiooniliselt kasutatakse veergude eralduseks koma, reavahetuseks süsteemi reavahetuse sümbolite jada ning jutumärgiks jutumärki \" . Kuna CSV pole aga standardiseeritud, võib kohata väga erinevaid kujusid, mistõttu CSV-dega töötavad süsteemid võimaldavad kasutajal määrata erinevaid formaadi parameetreid.\n",
    "\n",
    "CSV talletab struktureeritud andmeid (igal andmepunktil - raamatul, tootel, kasutajal - on fikseeritud tunnused), mistõttu on see ajalooliselt käinud käsikäes andmebaaside ja meie aine valdkonnas ka masinõppemeetoditega. CSV hiilgab kompaktsuse ning platvormist sõltumatusega (kui välja jätta standardiseerimatus). CSV-ga töötamiseks on Püütonis olemas [_csv_ teek](https://docs.python.org/3/library/csv.html).\n",
    "\n"
   ]
  },
  {
   "cell_type": "markdown",
   "metadata": {},
   "source": [
    "_csv_ teek lubab nii lugeda kui kirjutada CSV formaadis faile. Andmeridadega manipuleerimiseks saab kasutada kas ühetasemelisi itereeritavaid andmestruktuure (nt _list_ või _tuple_) või sõnaraamatuid."
   ]
  },
  {
   "cell_type": "code",
   "execution_count": 5,
   "metadata": {
    "collapsed": false
   },
   "outputs": [
    {
     "name": "stdout",
     "output_type": "stream",
     "text": [
      "Overwriting ilusad_inimesed.csv\n"
     ]
    }
   ],
   "source": [
    "%%file ilusad_inimesed.csv\n",
    "nimi,sugu,vanus\n",
    "Teele,naine,25\n",
    "Ivan,mees,87\n",
    "Arfi,mees,12\n",
    "Leida,naine,58"
   ]
  },
  {
   "cell_type": "code",
   "execution_count": 5,
   "metadata": {
    "collapsed": false
   },
   "outputs": [
    {
     "name": "stdout",
     "output_type": "stream",
     "text": [
      "['nimi', 'sugu', 'vanus']\n",
      "\n",
      "['Teele', 'naine', '25']\n",
      "['Ivan', 'mees', '87']\n",
      "['Arfi', 'mees', '12']\n",
      "['Leida', 'naine', '58']\n"
     ]
    }
   ],
   "source": [
    "import csv\n",
    "with open('ilusad_inimesed.csv') as csv_file:\n",
    "    rows = []\n",
    "    \n",
    "    reader = csv.reader(csv_file)\n",
    "    header = next(reader)\n",
    "    rows.append(header)\n",
    "    \n",
    "    print(header)\n",
    "    print()\n",
    "    \n",
    "    for row in reader:\n",
    "        rows.append(row)\n",
    "        print(row)"
   ]
  },
  {
   "cell_type": "markdown",
   "metadata": {},
   "source": [
    "Eelnevas koodiplokis nägime, et _csv.reader()_ võimaldab lugeda CSV ridu ükshaaval, teisendades rea Püütoni sõnede listiks. Kui me teame, et mingi tunnus on sõnest erinevat tüüpi (nt täisarv, ujukomaarv või kuupäev), peame selle käsitsi vastavale kujule teisendama.\n",
    "\n",
    "Lisaks tutvusime eelnevas plokis __iteraatorist__ järgmise elemendi pärimisega. Kõik objektid, mille saame _for_-tsüklisse pista, on itereeritavad ning pakuvad iteraatorit, mis võimaldab andmestruktuuris sisalduvaid elemente ükshaaval läbida. Iteraatoritel on üldiselt kaks meetodit - _next_ ja *has_next*. _For_-tsükkel itereerib üle andmestruktuuri, kuni andmestruktuuris on veel elemente.\n",
    "\n",
    "Antud näites annab **next()** järgmise rea. Esimest korda kutsudes saame esimese (päise) rea. Edaspidi anname _reader_'i _for_-tsüklile, mis kutsub **next()** meetodit ülejäänud korrad ülejäänud ridade saamiseks."
   ]
  },
  {
   "cell_type": "code",
   "execution_count": 11,
   "metadata": {
    "collapsed": false
   },
   "outputs": [],
   "source": [
    "with open('ilusad_inimesed.csv.copy','w') as csv_file:\n",
    "    writer = csv.writer(csv_file)\n",
    "    for row in rows:\n",
    "        writer.writerow(row)"
   ]
  },
  {
   "cell_type": "code",
   "execution_count": null,
   "metadata": {
    "collapsed": true
   },
   "outputs": [],
   "source": [
    "%load ilusad_inimesed.csv.copy"
   ]
  },
  {
   "cell_type": "markdown",
   "metadata": {},
   "source": [
    "Nägime, et _csv.writer()_ võimaldab kirjutada _csv_ ridu, kui need on Püütonis itereeritaval kujul. Antud juhul olid ridadeks sõnede järjendid."
   ]
  },
  {
   "cell_type": "markdown",
   "metadata": {},
   "source": [
    "Lisaks _list_'idele saame töötada ka sõnaraamatutega (_dict_'idega)."
   ]
  },
  {
   "cell_type": "code",
   "execution_count": 4,
   "metadata": {
    "collapsed": false
   },
   "outputs": [
    {
     "ename": "NameError",
     "evalue": "name 'csv' is not defined",
     "output_type": "error",
     "traceback": [
      "\u001b[1;31m---------------------------------------------------------------------------\u001b[0m",
      "\u001b[1;31mNameError\u001b[0m                                 Traceback (most recent call last)",
      "\u001b[1;32m<ipython-input-4-a5007f71d150>\u001b[0m in \u001b[0;36m<module>\u001b[1;34m()\u001b[0m\n\u001b[0;32m      2\u001b[0m     \u001b[0mrows\u001b[0m \u001b[1;33m=\u001b[0m \u001b[1;33m[\u001b[0m\u001b[1;33m]\u001b[0m\u001b[1;33m\u001b[0m\u001b[0m\n\u001b[0;32m      3\u001b[0m \u001b[1;33m\u001b[0m\u001b[0m\n\u001b[1;32m----> 4\u001b[1;33m     \u001b[0mreader\u001b[0m \u001b[1;33m=\u001b[0m \u001b[0mcsv\u001b[0m\u001b[1;33m.\u001b[0m\u001b[0mDictReader\u001b[0m\u001b[1;33m(\u001b[0m\u001b[0mcsv_file\u001b[0m\u001b[1;33m)\u001b[0m\u001b[1;33m\u001b[0m\u001b[0m\n\u001b[0m\u001b[0;32m      5\u001b[0m     \u001b[1;32mfor\u001b[0m \u001b[0mrow\u001b[0m \u001b[1;32min\u001b[0m \u001b[0mreader\u001b[0m\u001b[1;33m:\u001b[0m\u001b[1;33m\u001b[0m\u001b[0m\n\u001b[0;32m      6\u001b[0m         \u001b[0mrows\u001b[0m\u001b[1;33m.\u001b[0m\u001b[0mappend\u001b[0m\u001b[1;33m(\u001b[0m\u001b[0mrow\u001b[0m\u001b[1;33m)\u001b[0m\u001b[1;33m\u001b[0m\u001b[0m\n",
      "\u001b[1;31mNameError\u001b[0m: name 'csv' is not defined"
     ]
    }
   ],
   "source": [
    "with open('ilusad_inimesed.csv') as csv_file:\n",
    "    rows = []\n",
    "    \n",
    "    reader = csv.DictReader(csv_file)\n",
    "    for row in reader:\n",
    "        rows.append(row)\n",
    "        print(row)"
   ]
  },
  {
   "cell_type": "markdown",
   "metadata": {},
   "source": [
    "Kui listide korral pidime esimese rea ehk päisega ise toimetama, siis sõnaraamatute korral loetakse see vaikimisi sisse ning selle veergude väärtused määratakse ülejäänud ridade veergude nimedeks.\n",
    "\n",
    "**Ettevaatust: ** kui CSV-l puudub päis, lähevad salaja esimese rea andmed kaduma."
   ]
  },
  {
   "cell_type": "code",
   "execution_count": 22,
   "metadata": {
    "collapsed": false
   },
   "outputs": [
    {
     "name": "stdout",
     "output_type": "stream",
     "text": [
      "Fieldnames: ['nimi', 'sugu', 'vanus']\n"
     ]
    }
   ],
   "source": [
    "with open('ilusad_inimesed.csv.copy','w') as csv_file:\n",
    "    fieldnames = [fieldname for fieldname in rows[0]]\n",
    "    print(\"Fieldnames:\", fieldnames)\n",
    "    \n",
    "    writer = csv.DictWriter(csv_file, fieldnames=fieldnames)\n",
    "    writer.writeheader()\n",
    "    for row in rows:\n",
    "        writer.writerow(row)"
   ]
  },
  {
   "cell_type": "code",
   "execution_count": null,
   "metadata": {
    "collapsed": true
   },
   "outputs": [],
   "source": [
    "%load ilusad_inimesed.csv.copy"
   ]
  },
  {
   "cell_type": "markdown",
   "metadata": {},
   "source": [
    "_csv_ teek sobib eelkõige CSV formaadis kirjutamiseks ja lugemiseks. Kui on soovi keerulisemaid või suuremaid numbrilisi tabelitöötlusi teha, osutub kasulikuks [pandas](http://pandas.pydata.org/)'e teek."
   ]
  },
  {
   "cell_type": "markdown",
   "metadata": {},
   "source": [
    "### Ülesanne 1. (1p)"
   ]
  },
  {
   "cell_type": "markdown",
   "metadata": {},
   "source": [
    "Failis comments.csv on toodud 200 lugejakommentaari ühest eesti meediaväljaandest. Veerus \"Staatus\" on märgitud, kas moderaator on kommentaari ära keelanud (staatus 1) või mitte (staatus 2). Veergudes \"Pos\" ja \"Neg\" on kirjas, kui palju on kommentaar saanud lugejatelt vastavalt positiivseid ja negatiivseid hinnanguid.\n",
    "\n",
    "Lugege fail sisse ning leidke:\n",
    "\n",
    "1) Kas keskmiselt pikemad on keelatud või lubatud kommentaarid\n",
    "\n",
    "2) Milliseid kommentaare on lugejad kõige aktiivsemalt hinnanud? "
   ]
  },
  {
   "cell_type": "markdown",
   "metadata": {},
   "source": [
    "### Ülesanne 2.  (1p)"
   ]
  },
  {
   "cell_type": "markdown",
   "metadata": {},
   "source": [
    "Failis colour_phrases.csv on toodud ära erinevate nimisõnade koosesinemised värvinimedega eesti keele koondkorpuses (http://www.cl.ut.ee/korpused/segakorpus/). Lugege see fail sisse ja leidke kõik nimisõnad, mis esinevad vähemalt 3 erineva värvinimega. Looge tabel, milles nimisõnade ja värvinimede koosesinemised oleks esitatud sagedustabelina: reatunnusteks on nimisõnad, veergudeks värvinimed ja tabelis sisalduksid vastavate koosesinemiste sagedused."
   ]
  },
  {
   "cell_type": "markdown",
   "metadata": {},
   "source": [
    "### PDF"
   ]
  },
  {
   "cell_type": "markdown",
   "metadata": {
    "collapsed": true
   },
   "source": [
    "Paljud arhiveeritud dokumendid ning teadusartiklid talletatakse PDF formaadis. Püüton 2-s on enim tähelepanu ning kiitust pälvinud _pdfminer_'i teek, mis võimaldab mõistliku täpsusega PDF-id detailselt lahti lammutada. Python 3-le on kohandatud _pdfminer3k_, mis on sarnase liidesega, ent milles on siiski erinevused ning mille dokumentatsioon on üsna olematu ja aegunud.\n",
    "\n",
    "Praktikas on kõige lihtsam veel kasutada mõnda Püütonivälist lahendust (nt [_pdf2txt_](http://www.pdf2txt.com/)) ning jooksutada seda kas _bash_'i skriptist või Püütonist _subprocess_'i abil. Alternatiivina võib vahetada _bash_'i korral Püüton 2-le, et teha üks samm seal."
   ]
  },
  {
   "cell_type": "code",
   "execution_count": null,
   "metadata": {
    "collapsed": false
   },
   "outputs": [],
   "source": [
    "%load alternating_py_env.pipeline.example.sh"
   ]
  },
  {
   "cell_type": "markdown",
   "metadata": {},
   "source": [
    "**Oluline: ** kui _pipeline_'i on sisse kirjutatud virtuaalkeskkonnad (*my_main_py3_env*, *my_py2_pdfminer_env*), tuleks ka nende keskkondade loomised dokumenteerida."
   ]
  },
  {
   "cell_type": "markdown",
   "metadata": {},
   "source": [
    "### Pickle"
   ]
  },
  {
   "cell_type": "markdown",
   "metadata": {
    "collapsed": true
   },
   "source": [
    "Tekstilised formaadid on hästi loetavad, kuid arvutil kulub nende õigele kujule viimiseks aega. Teises ststenaariumis on meil Püütonis loodud keeruline andmestruktuur (või tulevikus sageli masinõppemudel), mida tahaksime talletada, kuivõrd viimase loomine võtab kaua aega.\n",
    "\n",
    "Mõlemal juhul unistame lahendusest, mis võimaldaks talletada Püütoni objekte kettale ning lubaks neid sealt ka lugeda. Objektide sellist talletamist nimetatakse _serialiseerimiseks_ ning Püütonis vastutab selle eest [_pickle_](https://docs.python.org/3/library/pickle.html)'i teek, mis on platvormist sõltumatu, ehk mille fail peaks olema suvalisel masinal loetav. _pickle_'i näol on tegu binaarse failiga, mis ei ole inimsilmale loetav. Me saame tekstiredaktoriga _pickle_'i faili uurides sama vähe aru, kui uurida mõnda ZIP-i faili või kompileeritud madalama taseme keele teeki.\n",
    "\n",
    "Vaikimisi saab _pickle_ hakkama paljude standardteekide klasside serialiseerimisega ning uute standardteegi objekte kasutavate _custom_ teekidega. Keerulisematel juhtudel võib olla tarvidus protsess alamosadena ise defineerida. _pickle_'i abil saab talletada nii andmestruktuure, funktsioone, klasse kui ka klassi _instance_'e."
   ]
  },
  {
   "cell_type": "markdown",
   "metadata": {
    "collapsed": true
   },
   "source": [
    "Näitena serialiseerime _rows_ muutuja CSV osast."
   ]
  },
  {
   "cell_type": "code",
   "execution_count": 16,
   "metadata": {
    "collapsed": false
   },
   "outputs": [],
   "source": [
    "import pickle\n",
    "with open('serialized_ppl.pkl','wb') as fout:\n",
    "    pickle.dump(rows, fout)"
   ]
  },
  {
   "cell_type": "markdown",
   "metadata": {},
   "source": [
    "Paneme tähele, et fail tuleb avada nii lugemiseks kui kirjutamiseks _binary mode_'is. \n",
    "\n",
    "Vaatame, kuidas *serialized_ppl.pkl* näeb tekstiredaktorist vaadatuna."
   ]
  },
  {
   "cell_type": "code",
   "execution_count": 12,
   "metadata": {
    "collapsed": false
   },
   "outputs": [
    {
     "name": "stdout",
     "output_type": "stream",
     "text": [
      "�\u0003]q\u0000(]q\u0001(X\u0004\u0000\u0000\u0000nimiq\u0002X\u0004\u0000\u0000\u0000suguq\u0003X\u0005\u0000\u0000\u0000vanusq\u0004e]q\u0005(X\u0005\u0000\u0000\u0000Teeleq\u0006X\u0005\u0000\u0000\u0000naineq\u0007X\u0002\u0000\u0000\u000025q\be]q\t(X\u0004\u0000\u0000\u0000Ivanq\r\n",
      "X\u0004\u0000\u0000\u0000meesq\u000b",
      "X\u0002\u0000\u0000\u000087q\f",
      "e]q\r",
      "(X\u0004\u0000\u0000\u0000Arfiq\u000eX\u0004\u0000\u0000\u0000meesq\u000fX\u0002\u0000\u0000\u000012q\u0010e]q\u0011(X\u0005\u0000\u0000\u0000Leidaq\u0012X\u0005\u0000\u0000\u0000naineq\u0013X\u0002\u0000\u0000\u000058q\u0014ee."
     ]
    }
   ],
   "source": [
    "%cat serialized_ppl.pkl"
   ]
  },
  {
   "cell_type": "markdown",
   "metadata": {},
   "source": [
    "Ilmselgelt pole fail mõeldud inimsilmale vaatamiseks, kuid me saame ta hõlpsalt Püütonisse lugeda."
   ]
  },
  {
   "cell_type": "code",
   "execution_count": 17,
   "metadata": {
    "collapsed": false,
    "scrolled": true
   },
   "outputs": [
    {
     "name": "stdout",
     "output_type": "stream",
     "text": [
      "[['nimi', 'sugu', 'vanus'], ['Teele', 'naine', '25'], ['Ivan', 'mees', '87'], ['Arfi', 'mees', '12'], ['Leida', 'naine', '58']]\n"
     ]
    }
   ],
   "source": [
    "with open('serialized_ppl.pkl','rb') as fin:\n",
    "    new_rows = pickle.load(fin)\n",
    "    print(new_rows)"
   ]
  },
  {
   "cell_type": "markdown",
   "metadata": {},
   "source": [
    "### JSON"
   ]
  },
  {
   "cell_type": "markdown",
   "metadata": {
    "collapsed": true
   },
   "source": [
    "Kui hakkame suhtlema veebiserveritega ja sotsiaalmeedia API-dega, on vaja kursis olla veebisuhtlusega. Veebisuhtlus toimub tihti läbi JSON-i, mille süntaks on lihtustatud _JavaScript_'i objekti kujul ning teatud määrani sarnane Püütoni sõnaraamatule.\n",
    "\n",
    "JSON võimaldab talletada struktureeritud või mittestruktureeritud andmeid ning on kergesti masina poolt loetav. Tegu on täielikult platvormist sõltumatu formaadiga, mida võib kirjutada Linuxis ja lugeda Windowsis. Ehkki JSON on tulnud veebimaailmast, saab seda rakendada ka lokaalselt failide või mudelite talletamiseks, salestades kettale lihtsalt JSON-formaadis andmes. See tuleb kasuks, kui on soovi talletada mingi struktuuriga andmeid, millel on erinev tunnuste arv või kui andmed on hierarhilised. CSV-ga on hierarhilisust keerukas kirjeldada.\n",
    "\n",
    "Püütonis vastutab JSON-i sõnede loomise eest _json_'i teek."
   ]
  },
  {
   "cell_type": "code",
   "execution_count": 27,
   "metadata": {
    "collapsed": false
   },
   "outputs": [
    {
     "name": "stdout",
     "output_type": "stream",
     "text": [
      "['{\"pets\": [{\"type\": \"dog\", \"name\": \"\\\\u00dcllar\"}, {\"type\": \"bunny\", \"name\": \"J\\\\u00f6nksu\"}], \"name\": \"Elvis\"}']\n",
      "{'pets': [{'type': 'dog', 'name': 'Üllar'}, {'type': 'bunny', 'name': 'Jönksu'}], 'name': 'Elvis'}\n"
     ]
    }
   ],
   "source": [
    "import json\n",
    "my_hierarchical_data = {'name':'Elvis','pets':[{'name':'Üllar','type':'dog'},{'name':'Jönksu','type':'bunny'}]}\n",
    "\n",
    "json_string = json.dumps(my_hierarchical_data)\n",
    "print([json_string])\n",
    "\n",
    "my_new_hierarchical_data = json.loads(json_string)\n",
    "print(my_new_hierarchical_data)"
   ]
  },
  {
   "cell_type": "markdown",
   "metadata": {},
   "source": [
    "Laias laastus koosneb JSON _list_'idest ja _dict_'idest. Lisaks on primitiised andmetüübid, nagu näiteks sõned, täisarvud, ujukomaarud ja tõeväärtused."
   ]
  },
  {
   "cell_type": "markdown",
   "metadata": {},
   "source": [
    "### SQLite"
   ]
  },
  {
   "cell_type": "markdown",
   "metadata": {},
   "source": [
    "Tihti on meil arvutuste või programmi töö käigus soovi kiirelt ligi pääseda mingile sissekandele või väärtusele, ilma et peaks hoidma andmestikku mälus või peaks kulutama palju aega näiteks CSV-st otsimisele. Selleks tulevad appi andmebaasid, mis lubavad kiiresti ning mäluefektiivselt pärida.\n",
    "\n",
    "Kõige lihtsam on üles seada [_SQLite_](https://www.sqlite.org/)'i andmebaasi. Erinevalt enamikest andmebaasi süsteemidest ei vaja _SQLite_ taustal tiksuvat _daemon_'it või serverit - terve andmebaas on talletatud ühes failis, millega võetakse ühendust, kui soovitakse mõnda päringut teha. Tegu on traditsioonilise relatsioonilise andmebaasiga, mis kasutab võrdlemisi standardseid _SQL_(_sequel_)'i deklaratsioone.\n",
    "\n",
    "Püütonis aitab _SQLite_'iga _sqlite3_ teek."
   ]
  },
  {
   "cell_type": "markdown",
   "metadata": {},
   "source": [
    "Loome _SQLite_'i andmebaasi ja lihtsa tabeli."
   ]
  },
  {
   "cell_type": "code",
   "execution_count": 22,
   "metadata": {
    "collapsed": false
   },
   "outputs": [],
   "source": [
    "import sqlite3\n",
    "import os \n",
    "\n",
    "try:\n",
    "    os.remove('people.db') # avoid breaking at table creation when running the cell for a second time\n",
    "except:\n",
    "    pass\n",
    "\n",
    "with sqlite3.connect('people.db') as connection:\n",
    "    cursor = connection.cursor()\n",
    "    \n",
    "    # Let's create a table\n",
    "    cursor.execute('CREATE TABLE Person (name text, gender text, age integer)')\n",
    "    \n",
    "    # Add a person\n",
    "    cursor.execute('INSERT INTO Person values (?,?,?)',('Teele','naine',25))"
   ]
  },
  {
   "cell_type": "markdown",
   "metadata": {},
   "source": [
    "Leiame kõik unikaalsed naiste nimed."
   ]
  },
  {
   "cell_type": "code",
   "execution_count": 24,
   "metadata": {
    "collapsed": false
   },
   "outputs": [
    {
     "name": "stdout",
     "output_type": "stream",
     "text": [
      "('Teele',)\n"
     ]
    }
   ],
   "source": [
    "with sqlite3.connect('people.db') as connection:\n",
    "    cursor = connection.cursor()\n",
    "    cursor.execute('SELECT DISTINCT name FROM Person WHERE gender=\"naine\"')\n",
    "    print(cursor.fetchone())"
   ]
  },
  {
   "cell_type": "markdown",
   "metadata": {},
   "source": [
    "### ZIP\n",
    "\n",
    "\n",
    "Ülesannete lahendused pakkige zip-iks seekord programmaatiliselt. Selle juures on abiks teek zipfile, mille abil saab zip-faili kirjutada samal viisil, nagu seni oleme kirjutanud tekstifailidesse. (0,25p)"
   ]
  },
  {
   "cell_type": "code",
   "execution_count": 12,
   "metadata": {
    "collapsed": false
   },
   "outputs": [],
   "source": [
    "import zipfile"
   ]
  },
  {
   "cell_type": "code",
   "execution_count": 19,
   "metadata": {
    "collapsed": false
   },
   "outputs": [],
   "source": [
    "with zipfile.ZipFile('example', 'w') as myzip:\n",
    "    myzip.write('praks4.ipynb')\n",
    "    #..."
   ]
  },
  {
   "cell_type": "code",
   "execution_count": null,
   "metadata": {
    "collapsed": false
   },
   "outputs": [],
   "source": []
  },
  {
   "cell_type": "code",
   "execution_count": null,
   "metadata": {
    "collapsed": true
   },
   "outputs": [],
   "source": []
  },
  {
   "cell_type": "markdown",
   "metadata": {},
   "source": [
    "### XLS\n"
   ]
  },
  {
   "cell_type": "markdown",
   "metadata": {},
   "source": [
    "Alati ei saa me garanteerida, et andmestik on CSV formaadis, mida eeldavad näiteks paljud masinõpperaamistikud. Sellistel juhtudel on tarvis ohjad võtta enda kätte ning teisendada ebamugaval kujul andmed sobivale - eriti siis, kui neid on palju või kui kasutajaliides pole teisendamiseks kättesaadav."
   ]
  },
  {
   "cell_type": "markdown",
   "metadata": {},
   "source": [
    "### Boonusülesanne 1. (0.5p)\n",
    "**Kirjutage kood, mis konverteeriks _.xls_ formaadis faili *ilusad_asjad.xls* _.csv_ formaati, nii et iga leht (_sheet_) lõpetaks omaette endanimelises CSV-failis.**\n",
    "\n",
    "**_xlrd_ aitab**"
   ]
  },
  {
   "cell_type": "markdown",
   "metadata": {},
   "source": [
    "### Boonusülesanne 2. (0.5p)\n",
    "**Tehke _sqlite_'i andmebaas, nii et iga eelmise ülesande leht oleks uus tabel ning täidetud vastavate andmetega. Lahenduseks vastav andmebaasi loomise kood ja programmaatiliselt leitud vastus küsimusele \"Mis on Kolja hobi?\".**"
   ]
  },
  {
   "cell_type": "markdown",
   "metadata": {},
   "source": [
    "### Boonusülesanne 3. (0.5p)\n",
    "**Tehke programmaatiliselt üks kaunis _powerpoint_'i slaid.**\n",
    "\n",
    "**abiks python-pptx**"
   ]
  },
  {
   "cell_type": "code",
   "execution_count": null,
   "metadata": {
    "collapsed": true
   },
   "outputs": [],
   "source": []
  }
 ],
 "metadata": {
  "anaconda-cloud": {},
  "kernelspec": {
   "display_name": "Python [conda root]",
   "language": "python",
   "name": "conda-root-py"
  },
  "language_info": {
   "codemirror_mode": {
    "name": "ipython",
    "version": 3
   },
   "file_extension": ".py",
   "mimetype": "text/x-python",
   "name": "python",
   "nbconvert_exporter": "python",
   "pygments_lexer": "ipython3",
   "version": "3.5.2"
  }
 },
 "nbformat": 4,
 "nbformat_minor": 1
}
