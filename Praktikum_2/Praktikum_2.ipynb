{
 "cells": [
  {
   "cell_type": "markdown",
   "metadata": {},
   "source": [
    "<h1 style=\"color:blue\">Praktikum 2. Sinasõprus Pythoniga</h1>\n",
    "<h3 style=\"color:blue\">Kodeeringud, profileerimine, optimeerimine, kasulikud standardteegid</h3>\n",
    "<h4>13. september 2016 </h4>\n",
    "<h4>Ülesannete esitamise tähtaeg 27. september</h4>"
   ]
  },
  {
   "cell_type": "markdown",
   "metadata": {},
   "source": [
    "Selles praktikumis tegeleme jätkuvalt tehniliste teemadega, kuid loomuliku keele töötluse puhul ei saa nendest üle ega ümber. "
   ]
  },
  {
   "cell_type": "markdown",
   "metadata": {},
   "source": [
    "## Kodeeringud\n",
    "Keele automaatse töötluse korral tuleb alati pöörata tähelepanu kodeeringutele. Arvutil peab olema võimalus teada saada, kas kaks sõnet on identsed. Identsetete sõnede tuvastamist kasutatakse Google'i otsingumootorist mobiilis sõnade soovitamise ja teksti temaatika tuvastamiseni. Kui **käpp** ja **käpp** kasutavad erinevaid kodeeringuid, mis kodeerivad \"**ä**\" tähte erinevalt, on ühe kodeeringuga dekodeerides käpad arvuti jaoks erineva väärtusega ja seega erinevad.\n",
    "\n",
    "Tuletame meelde, et mistahes tekst on arvutis bittidena. Väljundi kodeering kirjeldab, kuidas me mingit sõna (võime samastada abstraktse _unicode_'i sõnega) bittideks teisendame. Kaks erinevat kodeeringut kodeerivad (mingeid) sümboleid bittideks erinevalt. Kui me nüüd üritame erinevalt kodeeritud sõnesid ühe kodeeringu tabeli alusel dekodeerida, saame ka _unicode_'i sõned, millel me Pythonis sõne operatsioone teeme, erinevad.\n",
    "\n",
    "Kui oleme tekstilised andmed juba vale kodeeringuga sisse lugenud, on praktikas keeruline või vähemalt väga tülikas parandusi hiljem teha. Kõrvalise informatsioonita peame halvimal juhul analüüsima dekodeerimise tulemust statistiliselt kas üle sümbolite või tekkinud sõnade (selliste lahendusteni jõuame kursuse keskel).\n",
    "\n",
    "Andmete sisselugemisel on aga sageli kaasas lisainformatsiooni ehk andmeid andmete kohta ehk metaandmeid. Veebilehti töödeldes saame kodeeringu kätte _charset_'i päise abil, [HTTP meetodid töötavad vaikimisi üle ISO-8859-1 kodeeringu](https://www.w3.org/International/articles/http-charset/index) (oluline veebiserverit ehitades) ning tekstil võib olla ka ees [päis](https://en.wikipedia.org/wiki/Byte_order_mark), mis kirjeldab kasutatud kodeeringut.\n",
    "\n",
    "Andmeteaduslikust vaatevinklist peame andmestiku esmalt normeerima ehk ühele kujule viima. Alles seejärel on meil lootust mingi kindlusega keerulisemaid probleeme lahendada.\n",
    "\n",
    "Järgnevallt tutvume kodeeringutega Pythonis.\n"
   ]
  },
  {
   "cell_type": "markdown",
   "metadata": {},
   "source": [
    "### Sõned"
   ]
  },
  {
   "cell_type": "markdown",
   "metadata": {},
   "source": [
    "Python3-s on erinevat liiki sõnesid ehk sümbolite jadasid. Kõige sagedamini opereerime _unicode_'i kujul (vaikimisi)."
   ]
  },
  {
   "cell_type": "code",
   "execution_count": 3,
   "metadata": {
    "collapsed": false
   },
   "outputs": [
    {
     "name": "stdout",
     "output_type": "stream",
     "text": [
      "Pontu vaatas aknast välja\n",
      "ja naeratas\n"
     ]
    }
   ],
   "source": [
    "unicode_string = \"Pontu vaatas aknast välja\\nja naeratas\"\n",
    "print(unicode_string)"
   ]
  },
  {
   "cell_type": "markdown",
   "metadata": {},
   "source": [
    "Mõnikord me aga ei soovi, et teatud sümboleid (nt \"\\\") eraldi käsitletakse. Selleks on võimalik sõne defineerida _raw_ kujul."
   ]
  },
  {
   "cell_type": "code",
   "execution_count": 5,
   "metadata": {
    "collapsed": false
   },
   "outputs": [
    {
     "name": "stdout",
     "output_type": "stream",
     "text": [
      "Pontu vaatas aknast välja\\nja naeratas\n"
     ]
    }
   ],
   "source": [
    "raw_string = r\"Pontu vaatas aknast välja\\nja naeratas\"\n",
    "print(raw_string)"
   ]
  },
  {
   "cell_type": "markdown",
   "metadata": {},
   "source": [
    "Kodeeringute korral on oluline veel sõne kodeeritud kuju baidimassiivina, millena talletatakse kettal või liigutatakse võrgus."
   ]
  },
  {
   "cell_type": "code",
   "execution_count": 11,
   "metadata": {
    "collapsed": false
   },
   "outputs": [
    {
     "name": "stdout",
     "output_type": "stream",
     "text": [
      "b'Pontu vaatas aknast v\\xc3\\xa4lja\\nja naeratas'\n"
     ]
    }
   ],
   "source": [
    "print(\"Pontu vaatas aknast välja\\nja naeratas\".encode('utf8'))"
   ]
  },
  {
   "cell_type": "markdown",
   "metadata": {},
   "source": [
    "Kodeeritud sõnet saame dekodeerida. **_Unicode_'i ei saa dekodeerida.**"
   ]
  },
  {
   "cell_type": "code",
   "execution_count": 12,
   "metadata": {
    "collapsed": false
   },
   "outputs": [
    {
     "name": "stdout",
     "output_type": "stream",
     "text": [
      "Pontu vaatas aknast välja\n",
      "ja naeratas\n"
     ]
    }
   ],
   "source": [
    "print(b'Pontu vaatas aknast v\\xc3\\xa4lja\\nja naeratas'.decode('utf8'))"
   ]
  },
  {
   "cell_type": "markdown",
   "metadata": {},
   "source": [
    "### Failid"
   ]
  },
  {
   "cell_type": "markdown",
   "metadata": {},
   "source": [
    "Failidega töötades oleme harjunud, et võime sõnesid lihtsalt faili kirjutada."
   ]
  },
  {
   "cell_type": "code",
   "execution_count": null,
   "metadata": {
    "collapsed": true
   },
   "outputs": [],
   "source": [
    "file_name = 'my_very_special_file'\n",
    "\n",
    "with open(file_name,'w') as fout:\n",
    "    fout.write(\"Minu parim sõber on Juuša.\")\n",
    "\n",
    "import os\n",
    "os.remove(file_name)"
   ]
  },
  {
   "cell_type": "markdown",
   "metadata": {},
   "source": [
    "**Miks see töötab? Unicode'i ju ei saa kettale kirjutada :(**\n",
    "\n",
    "Tagataustal Python dekodeerib lugedes ja kodeerib kirjutades _locale_'i eelistatud kodeeringuga. Seega, kui kasutaja ei määra ekstra kodeeringut, kasutatakse vaikekodeeringut, mida näeb järgmise käsuga:"
   ]
  },
  {
   "cell_type": "code",
   "execution_count": 1,
   "metadata": {
    "collapsed": false
   },
   "outputs": [
    {
     "data": {
      "text/plain": [
       "'UTF-8'"
      ]
     },
     "execution_count": 1,
     "metadata": {},
     "output_type": "execute_result"
    }
   ],
   "source": [
    "# Oma vaikekodeeringu kontrollimine\n",
    "import locale\n",
    "locale.getpreferredencoding()"
   ]
  },
  {
   "cell_type": "markdown",
   "metadata": {},
   "source": [
    "See võib teinekord hammustada. Proovime lugeda "
   ]
  },
  {
   "cell_type": "code",
   "execution_count": 18,
   "metadata": {
    "collapsed": false,
    "scrolled": false
   },
   "outputs": [
    {
     "ename": "UnicodeDecodeError",
     "evalue": "'utf-8' codec can't decode byte 0x84 in position 26: invalid start byte",
     "output_type": "error",
     "traceback": [
      "\u001b[1;31m---------------------------------------------------------------------------\u001b[0m",
      "\u001b[1;31mUnicodeDecodeError\u001b[0m                        Traceback (most recent call last)",
      "\u001b[1;32m<ipython-input-18-fe722ba5107c>\u001b[0m in \u001b[0;36m<module>\u001b[1;34m()\u001b[0m\n\u001b[0;32m      1\u001b[0m \u001b[0mfin\u001b[0m \u001b[1;33m=\u001b[0m \u001b[0mopen\u001b[0m\u001b[1;33m(\u001b[0m\u001b[1;34m\"juku.txt\"\u001b[0m\u001b[1;33m,\u001b[0m \u001b[1;34m\"r\"\u001b[0m\u001b[1;33m)\u001b[0m\u001b[1;33m\u001b[0m\u001b[0m\n\u001b[1;32m----> 2\u001b[1;33m \u001b[0mfin\u001b[0m\u001b[1;33m.\u001b[0m\u001b[0mreadlines\u001b[0m\u001b[1;33m(\u001b[0m\u001b[1;33m)\u001b[0m\u001b[1;33m\u001b[0m\u001b[0m\n\u001b[0m",
      "\u001b[1;32m/home/kom/anaconda3/lib/python3.5/codecs.py\u001b[0m in \u001b[0;36mdecode\u001b[1;34m(self, input, final)\u001b[0m\n\u001b[0;32m    319\u001b[0m         \u001b[1;31m# decode input (taking the buffer into account)\u001b[0m\u001b[1;33m\u001b[0m\u001b[1;33m\u001b[0m\u001b[0m\n\u001b[0;32m    320\u001b[0m         \u001b[0mdata\u001b[0m \u001b[1;33m=\u001b[0m \u001b[0mself\u001b[0m\u001b[1;33m.\u001b[0m\u001b[0mbuffer\u001b[0m \u001b[1;33m+\u001b[0m \u001b[0minput\u001b[0m\u001b[1;33m\u001b[0m\u001b[0m\n\u001b[1;32m--> 321\u001b[1;33m         \u001b[1;33m(\u001b[0m\u001b[0mresult\u001b[0m\u001b[1;33m,\u001b[0m \u001b[0mconsumed\u001b[0m\u001b[1;33m)\u001b[0m \u001b[1;33m=\u001b[0m \u001b[0mself\u001b[0m\u001b[1;33m.\u001b[0m\u001b[0m_buffer_decode\u001b[0m\u001b[1;33m(\u001b[0m\u001b[0mdata\u001b[0m\u001b[1;33m,\u001b[0m \u001b[0mself\u001b[0m\u001b[1;33m.\u001b[0m\u001b[0merrors\u001b[0m\u001b[1;33m,\u001b[0m \u001b[0mfinal\u001b[0m\u001b[1;33m)\u001b[0m\u001b[1;33m\u001b[0m\u001b[0m\n\u001b[0m\u001b[0;32m    322\u001b[0m         \u001b[1;31m# keep undecoded input until the next call\u001b[0m\u001b[1;33m\u001b[0m\u001b[1;33m\u001b[0m\u001b[0m\n\u001b[0;32m    323\u001b[0m         \u001b[0mself\u001b[0m\u001b[1;33m.\u001b[0m\u001b[0mbuffer\u001b[0m \u001b[1;33m=\u001b[0m \u001b[0mdata\u001b[0m\u001b[1;33m[\u001b[0m\u001b[0mconsumed\u001b[0m\u001b[1;33m:\u001b[0m\u001b[1;33m]\u001b[0m\u001b[1;33m\u001b[0m\u001b[0m\n",
      "\u001b[1;31mUnicodeDecodeError\u001b[0m: 'utf-8' codec can't decode byte 0x84 in position 26: invalid start byte"
     ]
    }
   ],
   "source": [
    "fin = open(\"juku.txt\", \"r\")\n",
    "fin.readlines()"
   ]
  },
  {
   "cell_type": "markdown",
   "metadata": {},
   "source": [
    "Kui me nurjusime vaikekodeeringuga Juku loo sisse lugemisel, on fail meie vaikekodeeringuga mitteühilduvas kodeeringus. Kui me teame, mis kodeeringus fail on, saame selle _open_ funktsioonile ette anda _encoding_ parameetriga."
   ]
  },
  {
   "cell_type": "markdown",
   "metadata": {},
   "source": [
    "## Ülesanne 1. Kodeeringud (1p)\n",
    "**a) Lugeda sisse fail \"juku.txt\", teades, et see on salvestatud kodeeringus WINDOWS-1257. Salvestada sama fail UTF-8's. (0,5p)**"
   ]
  },
  {
   "cell_type": "code",
   "execution_count": null,
   "metadata": {
    "collapsed": false
   },
   "outputs": [],
   "source": [
    "with open(\"juku.txt\", \"r\", encoding = \"WINDOWS-1257\") as fin:\n",
    "    # ..."
   ]
  },
  {
   "cell_type": "markdown",
   "metadata": {},
   "source": [
    "**b) Üldistada tehtut: kirjutada funktsioon, mis saab argumentidena ette failinime, algse kodeeringu, kodeeringu, millesse fail konverteerida ning uue failinime. Funktsioon salvestab etteantud faili uues kodeeringus. (0.5p)**"
   ]
  },
  {
   "cell_type": "code",
   "execution_count": null,
   "metadata": {
    "collapsed": false
   },
   "outputs": [],
   "source": [
    "def encoding_converter(file1, enc1, enc2, file2):\n",
    "    # ...\n",
    "    return \"File \" + file1 + \" saved as \" + file2 + \" in encoding \" + enc2"
   ]
  },
  {
   "cell_type": "markdown",
   "metadata": {},
   "source": [
    "## Ülesanne 2.  Hea ja halb kood (2p)"
   ]
  },
  {
   "cell_type": "markdown",
   "metadata": {},
   "source": [
    "### Mantra: \n",
    "* töötav kood >>>>>>> optimaalne kood,\n",
    "* optimeerimine on vaevanõudev,\n",
    "* optimeeritud kood on raskemini loetav\n",
    "* optimeeri siis, kui keegi ei pea lugema või optimaalsus on hädavajalik\n",
    "* pikk kood ei pruugi olla aeglane ega kompaktne kood kiire\n",
    "\n",
    "**Kiiruse suhtes optimaalne kood:**\n",
    "* suhtleb minimaalselt kettal olevate failidega,\n",
    "* suhtleb veel vähem veebis olevate failidega,\n",
    "* hoiab võimalikult palju relevantseid asju mälus (muutujates),\n",
    "* ei sisalda tarbetuid käske, mis arvutuse kulgu ei mõjuta,\n",
    "* sisaldab probleemi kontekstis mõistliku keerukusega algoritmi,\n",
    "* sisaldab probleemi kontekstis õigeid andmestruktuure\n",
    "     * elementide kiireks hoiustamiseks list,\n",
    "     * elementide kiireks otsimiseks sõnaraamat,\n",
    "     * elementide kattuvuste vms kontrollimiseks hulk,\n",
    "* arvutab ühte saadust vaid ühe korra,\n",
    "* sisaldab minimaalselt funktsioonide kutseid,\n",
    "* sisaldab minimaalselt tingimuslausete evalueerimist,\n",
    "* ei eemalda elemente listi keskelt ega viska sinna elemente"
   ]
  },
  {
   "cell_type": "markdown",
   "metadata": {},
   "source": [
    "**Järgnevalt on toodud funktsioon calculate_relative_freqs, mis saab sisendiks tee failini, mille igal real on\n",
    "{sõna} {absoluutne sagedus dokumendis täisarvuna}\n",
    "ning mis arvutab iga sõna jaoks selle sõna suhtelise sageduse dokumendis ja tagastab tulemuse dictionary'na.**"
   ]
  },
  {
   "cell_type": "markdown",
   "metadata": {},
   "source": [
    "<h5 style=\"color:red\">NB! Siin ülesandes on näide halvast koodist, millest ei tasu mingil juhul eeskuju võtta!</h5>"
   ]
  },
  {
   "cell_type": "markdown",
   "metadata": {},
   "source": [
    "**a) Vaadake koodi ja kirjeldage, mis muudab selle ebaefektiivseks (võite kirjutada vastavate koodiridade juurde kommentaaridena) (0,5p)**"
   ]
  },
  {
   "cell_type": "code",
   "execution_count": null,
   "metadata": {
    "collapsed": true
   },
   "outputs": [],
   "source": [
    "def calculate_relative_freqs(input_file):\n",
    "    \n",
    "    result = {}\n",
    "    \n",
    "    # Find all words for which there are frequencies\n",
    "    with open(input_file, 'r') as fin:\n",
    "        words = []\n",
    "        for line in fin:\n",
    "            words.append(line.strip().split()[1])\n",
    "\n",
    "    # Find relative frequency for each word\n",
    "    freqs = []\n",
    "\n",
    "    for word in words:\n",
    "        with open(input_file,'r') as fin:\n",
    "            total_freq = 0\n",
    "            word_freq = 0\n",
    "            for line in fin:\n",
    "                freq, word_candidate = line.strip().split()\n",
    "                freqs.append(int(freq))\n",
    "\n",
    "                if word == word_candidate:\n",
    "                    word_freq += int(freq)\n",
    "\n",
    "                total_freq += int(freq)\n",
    "\n",
    "        freqs.sort()\n",
    "        result[word] = float(word_freq) / total_freq\n",
    "    return result "
   ]
  },
  {
   "cell_type": "markdown",
   "metadata": {},
   "source": [
    "**b) Kontrollige, kas teie oletustel oli tõepõhi all: selleks profileerige toodud funktsiooni ning mõelge, kas palju aega võtvad osad on vajalikud (antud kujul). Väga lihtsasti loetava tulemuse annab tööriist line_profiler, mis on küll vaja eraldi conda kaudu installida (vt loenguslaidid). Muidugi võib kasutada ka standardteeke (profile, cProfile). Millised aegluse kohta püstitatud hüpoteesidest paika pidasid? (0,5p)**\n",
    "\n",
    "Katsetamiseks on praktikumimaterjalidesse lisatud fail nimega **lemma_kahanevas.txt**. Tegu on eesti keele sagedussõnastikuga, mis on koostatud tasakaalus korpuse pealt (vt siit http://www.cl.ut.ee/ressursid/sagedused1/).\n",
    "Failis on toodud sõnade absoluutsed sagedused, et aga hinnata, kui suure osa keelest tegelikult üks või teine sõna moodustab, oleks vaja teada suhtelisi sagedusi. Seda arvutabki eeltoodud funktsioon calculate_relative_freqs.\n",
    "\n",
    "NB! Kuna toodud koodijupp on väga ebaefektiivne, siis on soovitav profileerimiseks ja muudeks katsetusteks kasutada esialgu vaid mingit osa (nt 500 esimest rida) antud failist."
   ]
  },
  {
   "cell_type": "markdown",
   "metadata": {},
   "source": [
    "**c) Muutke kood efektiivsemaks - parandage olemasolevat või soovi korral kirjutage uus ja parem funktsioon. Kontrollige profileerides, kas sai kiirem. (1p)**"
   ]
  },
  {
   "cell_type": "markdown",
   "metadata": {},
   "source": [
    "## Ülesanne 4. Kasulikud standardteegid (1p)"
   ]
  },
  {
   "cell_type": "markdown",
   "metadata": {},
   "source": [
    "Siin on mõningad näited teekidest, mis muudavad loomuliku keele töötleja elu mugavamaks."
   ]
  },
  {
   "cell_type": "markdown",
   "metadata": {},
   "source": [
    "**Defaultdict** - kodeeringute loomine ja mugavad sõnaraamatud"
   ]
  },
  {
   "cell_type": "markdown",
   "metadata": {},
   "source": [
    "Mugavad sõnaraamatud (näites päringumootorile tarvilik tagurpidi indeksi loomine [sõna -> dokumendi id]).\n",
    "_defaultdict_ võimaldab ette anda _callable_'i, mis seab vaikeväärtuse, kui sõnaraamatus sissekanne puudub.\n",
    "\n",
    "Sagedased kasutused: _defaultdict(int)_, _defaultdict(list)_, _defaultdict(lambda: defaultdict(int))_"
   ]
  },
  {
   "cell_type": "code",
   "execution_count": 32,
   "metadata": {
    "collapsed": false
   },
   "outputs": [
    {
     "name": "stdout",
     "output_type": "stream",
     "text": [
      "dict_items([('tea', {1}), ('on', {0, 1, 2}), ('kaunis', {0, 1}), ('meri', {0, 2}), ('koer', {1, 2}), ('ja', {2}), ('ei', {1})])\n"
     ]
    }
   ],
   "source": [
    "from collections import defaultdict\n",
    "\n",
    "sentences = [\"Meri on kaunis\",\"Kaunis koer ei tea on\",\"On meri ja on koer\"]\n",
    "\n",
    "reverse_index = defaultdict(set)  # Default value is an empty set\n",
    "for sentence_idx, sentence in enumerate(sentences):\n",
    "    for word in sentence.lower().split():\n",
    "        reverse_index[word].add(sentence_idx)\n",
    "\n",
    "print(reverse_index.items())"
   ]
  },
  {
   "cell_type": "markdown",
   "metadata": {},
   "source": [
    "Häkk lihtsaks teksti kodeerimiseks, et arvutustel mälu säästa."
   ]
  },
  {
   "cell_type": "code",
   "execution_count": 25,
   "metadata": {
    "collapsed": false
   },
   "outputs": [
    {
     "name": "stdout",
     "output_type": "stream",
     "text": [
      "dict_items([('asja', 5), ('karjus', 7), ('sae.', 8), ('Habemeajaja', 0), ('haaras', 1), ('asus', 4), ('ja', 3), ('kallale', 6), ('sae', 2)])\n",
      "[0, 1, 2, 3, 4, 5, 6, 3, 7, 2, 2, 8]\n"
     ]
    }
   ],
   "source": [
    "from collections import defaultdict\n",
    "\n",
    "sentence = \"Habemeajaja haaras sae ja asus asja kallale ja karjus sae sae sae.\"\n",
    "word_encoding = defaultdict()\n",
    "word_encoding.default_factory = lambda: len(word_encoding)\n",
    "\n",
    "encoded_sentence = [word_encoding[word] for word in sentence.split()]\n",
    "\n",
    "print(word_encoding.items())\n",
    "print(encoded_sentence)"
   ]
  },
  {
   "cell_type": "markdown",
   "metadata": {},
   "source": [
    "**Counter** - lihtsate sagedusloendite tegemine"
   ]
  },
  {
   "cell_type": "code",
   "execution_count": 27,
   "metadata": {
    "collapsed": false
   },
   "outputs": [
    {
     "name": "stdout",
     "output_type": "stream",
     "text": [
      "dict_items([('a', 4), ('j', 2), ('h', 1), ('m', 1), ('b', 1), ('e', 2)])\n",
      "4\n",
      "0\n",
      "dict_items([('a', 10), ('j', 2), ('h', 2), ('e', 2), ('b', 1), ('m', 1)])\n"
     ]
    }
   ],
   "source": [
    "from collections import Counter\n",
    "\n",
    "word = \"habemeajaja\"\n",
    "letter_frequencies = Counter(word)\n",
    "\n",
    "print(letter_frequencies.items())  # Counter has similar interface to dict\n",
    "print(letter_frequencies['a'])\n",
    "print(letter_frequencies['n'])  # Dict doesn't break, although 'n' doesn't exist in the initial iterable\n",
    "\n",
    "print((letter_frequencies + Counter(\"ahaaaaa\")).items())"
   ]
  },
  {
   "cell_type": "markdown",
   "metadata": {},
   "source": [
    "**OrderedDict** - sõnastik, mis säilitab võti-väärtus-paaride järjekorra"
   ]
  },
  {
   "cell_type": "code",
   "execution_count": 30,
   "metadata": {
    "collapsed": false
   },
   "outputs": [],
   "source": [
    "from collections import OrderedDict\n",
    "\n",
    "sorted_by_key = OrderedDict(sorted(freqs.items(), key=lambda t: t[0]))\n",
    "sorted_by_value = OrderedDict(sorted(freqs.items(), key=lambda t: t[1], reverse = True))"
   ]
  },
  {
   "cell_type": "code",
   "execution_count": 31,
   "metadata": {
    "collapsed": false
   },
   "outputs": [
    {
     "data": {
      "text/plain": [
       "OrderedDict([('a', 4), ('b', 1), ('e', 2), ('h', 1), ('j', 2), ('m', 1)])"
      ]
     },
     "execution_count": 31,
     "metadata": {},
     "output_type": "execute_result"
    }
   ],
   "source": [
    "sorted_by_key"
   ]
  },
  {
   "cell_type": "code",
   "execution_count": 32,
   "metadata": {
    "collapsed": false
   },
   "outputs": [
    {
     "data": {
      "text/plain": [
       "OrderedDict([('a', 4), ('j', 2), ('e', 2), ('h', 1), ('b', 1), ('m', 1)])"
      ]
     },
     "execution_count": 32,
     "metadata": {},
     "output_type": "execute_result"
    }
   ],
   "source": [
    "sorted_by_value"
   ]
  },
  {
   "cell_type": "markdown",
   "metadata": {},
   "source": [
    "**String.Template** ja **str.format** - lihtsad asendused sõnede sees"
   ]
  },
  {
   "cell_type": "code",
   "execution_count": 106,
   "metadata": {
    "collapsed": false,
    "scrolled": true
   },
   "outputs": [
    {
     "data": {
      "text/plain": [
       "'Toomas tahab maja'"
      ]
     },
     "execution_count": 106,
     "metadata": {},
     "output_type": "execute_result"
    }
   ],
   "source": [
    "from string import Template\n",
    "\n",
    "s = Template (\"$kes tahab $mida\")\n",
    "s.substitute(kes = \"Toomas\", mida = \"maja\")"
   ]
  },
  {
   "cell_type": "code",
   "execution_count": 43,
   "metadata": {
    "collapsed": false
   },
   "outputs": [
    {
     "data": {
      "text/plain": [
       "'Palju õnne tädi Maalile 84. sünnipäevaks'"
      ]
     },
     "execution_count": 43,
     "metadata": {},
     "output_type": "execute_result"
    }
   ],
   "source": [
    "from datetime import datetime\n",
    "\n",
    "now = datetime.now()\n",
    "\"Palju õnne tädi Maalile {0}. sünnipäevaks\".format(now.year-1932)"
   ]
  },
  {
   "cell_type": "markdown",
   "metadata": {},
   "source": [
    "**str.translate** - kindlate tähemärkide asendamine"
   ]
  },
  {
   "cell_type": "code",
   "execution_count": 48,
   "metadata": {
    "collapsed": false
   },
   "outputs": [
    {
     "data": {
      "text/plain": [
       "'Pudrul muju mutsu suus'"
      ]
     },
     "execution_count": 48,
     "metadata": {},
     "output_type": "execute_result"
    }
   ],
   "source": [
    "intab = \"aeiouüõöä\"\n",
    "outtab = \"uuuuuuuuu\"\n",
    "trantab = str.maketrans(intab, outtab)\n",
    "\n",
    "str = \"Põdral maja metsa sees\"\n",
    "str.translate(trantab)"
   ]
  },
  {
   "cell_type": "markdown",
   "metadata": {},
   "source": [
    "**StringIO** - loob mällu \"virtuaalse\" faili, millel on _filehandler_'i liides ning kuhu on võimalik juurde kirjutada, loomata uusi objekte. Võimalik kasutada nii muudetava sõnena kui faile kasutava süsteemi testimiseks. Sõnesid saab küll kiiremini luua sõnede listi ühendades ''.join(list_of_strings)."
   ]
  },
  {
   "cell_type": "code",
   "execution_count": 33,
   "metadata": {
    "collapsed": false
   },
   "outputs": [
    {
     "name": "stdout",
     "output_type": "stream",
     "text": [
      "Ilus sisu tuleb siit.\n",
      "Sa oled väga ilus.\n"
     ]
    }
   ],
   "source": [
    "from io import StringIO\n",
    "\n",
    "virtual_file = StringIO()\n",
    "virtual_file.write(\"Ilus sisu tuleb siit.\")\n",
    "virtual_file.write(\"\\n\")\n",
    "virtual_file.write(\"Sa oled väga ilus.\")\n",
    "print(virtual_file.getvalue())"
   ]
  },
  {
   "cell_type": "markdown",
   "metadata": {},
   "source": [
    "### **re** - regulaaravaldised\n",
    "\n",
    "<h4 style=\"color:green\"> Regulaaravaldised on keeleandmete töötlemisel asendamatud. Kui keegi nendega tõesti veel kokku puutunud ei ole, siis on viimane aeg tutvuda https://docs.python.org/3/library/re.html ning eesti keeles https://courses.cs.ut.ee/2015/progmaa/Arhiiv/PARTVIIRegulaaravaldis1 </h4>\n",
    "\n",
    "Regulaaravaldiste kasutamine ei piirdu Pythoni ega üleüldiselt programmeerimiskeeltega - neid on võimalik tekstis otsingute ja asenduste tegemiseks edukalt kasutada Linuxi käsurealt ('grep' käsuna), samuti mitmetes tekstitöötlusprogrammides alates MS Wordist ja lõpetades Notepad++ ja gedit'iga. "
   ]
  },
  {
   "cell_type": "code",
   "execution_count": 56,
   "metadata": {
    "collapsed": true
   },
   "outputs": [],
   "source": [
    "import re"
   ]
  },
  {
   "cell_type": "code",
   "execution_count": 108,
   "metadata": {
    "collapsed": false
   },
   "outputs": [
    {
     "data": {
      "text/plain": [
       "['dage@ut.ee', 'kom@ut.ee']"
      ]
     },
     "execution_count": 108,
     "metadata": {},
     "output_type": "execute_result"
    }
   ],
   "source": [
    "sent = \"Probleemide korral saatke kiri aadressil dage@ut.ee või kom@ut.ee.\"\n",
    "address_pattern = \"[^@ .]*@[^@ .]*\\.[^@ .]*\"\n",
    "addresses = re.findall(address_pattern, sent)\n",
    "addresses"
   ]
  },
  {
   "cell_type": "code",
   "execution_count": 109,
   "metadata": {
    "collapsed": false
   },
   "outputs": [
    {
     "data": {
      "text/plain": [
       "'Probleemide korral saatke kiri aadressil [e-mail varjatud] või [e-mail varjatud].'"
      ]
     },
     "execution_count": 109,
     "metadata": {},
     "output_type": "execute_result"
    }
   ],
   "source": [
    "anonymised_sent = re.sub(address_pattern, \"[e-mail varjatud]\", sent)\n",
    "anonymised_sent"
   ]
  },
  {
   "cell_type": "markdown",
   "metadata": {},
   "source": [
    "**Kirjutage skript, mis leiab failist 'protokoll.txt' tõenäolised nimed (suure tähega algavad sõnad, mis ei paikne lause alguses), teeb nendest kahanevas järjestuses sagedusloendi ning loob failist n-ö anonümiseeritud versiooni, asendades nimed millegi muuga. Failis paikneb iga lause eraldi real. Kasutage vähemalt kahte selle ülesande all tutvustatud teekidest. (1p)**"
   ]
  },
  {
   "cell_type": "code",
   "execution_count": 34,
   "metadata": {
    "collapsed": false
   },
   "outputs": [],
   "source": [
    "with open(\"protokoll.txt\", \"r\", encoding=\"utf8\") as fin:\n",
    "    for line in fin:\n",
    "        pass\n",
    "        "
   ]
  }
 ],
 "metadata": {
  "anaconda-cloud": {},
  "kernelspec": {
   "display_name": "Python [default]",
   "language": "python",
   "name": "python3"
  },
  "language_info": {
   "codemirror_mode": {
    "name": "ipython",
    "version": 3
   },
   "file_extension": ".py",
   "mimetype": "text/x-python",
   "name": "python",
   "nbconvert_exporter": "python",
   "pygments_lexer": "ipython3",
   "version": "3.5.2"
  }
 },
 "nbformat": 4,
 "nbformat_minor": 0
}
