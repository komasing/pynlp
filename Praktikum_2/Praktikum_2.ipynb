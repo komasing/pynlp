{
 "cells": [
  {
   "cell_type": "markdown",
   "metadata": {},
   "source": [
    "<h1 style=\"color:blue\">Praktikum 2. Sinasõprus Pythoniga</h1>\n",
    "<h3 style=\"color:blue\">Kodeeringud, profileerimine, optimeerimine, kasulikud standardteegid</h3>\n",
    "<h4>13. september 2016 </h4>\n",
    "<h4>Ülesannete esitamise tähtaeg 27. september</h4>"
   ]
  },
  {
   "cell_type": "markdown",
   "metadata": {},
   "source": [
    "Selles praktikumis tegeleme jätkuvalt suhteliselt tehniliste teemadega, kuid loomuliku keele töötluse puhul ei saa nendest üle ega ümber. "
   ]
  },
  {
   "cell_type": "markdown",
   "metadata": {},
   "source": [
    "## Kodeeringud\n",
    "Loomuliku keele töötluse puhul - eriti, kui tegeleda mõne muu, mitte inglise keelega - tuleb tähelepanu pöörata ka kodeeringutele. Ei ole ju **kapp**, **käpp** ja **k�pp** samatähenduslikud või vähemalt mitte samavõrd üheselt mõistetava tähendusega, silmailust rääkimata. Samuti ei taha vale kodeeringuga töötamine hästi sujuda - selle kohta järgmine näide."
   ]
  },
  {
   "cell_type": "code",
   "execution_count": null,
   "metadata": {
    "collapsed": false
   },
   "outputs": [],
   "source": [
    "fin = open(\"juku.txt\", \"r\")\n",
    "fin.readlines()"
   ]
  },
  {
   "cell_type": "markdown",
   "metadata": {},
   "source": [
    "Proovides kõige tavalisemal moel failist Juku lugu sisse lugeda, saame veateate. \n",
    "Tõenäoliselt on meie vaikekodeeringuks UTF-8, Juku fail on aga ilmselt salvestatud mõnes muus. Kui me teame, mis kodeeringus fail on, siis suudab Python seda lugeda - selles on abiks teek **codecs**."
   ]
  },
  {
   "cell_type": "code",
   "execution_count": null,
   "metadata": {
    "collapsed": false
   },
   "outputs": [],
   "source": [
    "# Oma vaikekodeeringu kontrollimine\n",
    "import locale\n",
    "locale.getpreferredencoding()"
   ]
  },
  {
   "cell_type": "markdown",
   "metadata": {},
   "source": [
    "## Ülesanne 1. Kodeeringud (1p)\n",
    "**a) Lugeda sisse fail \"juku.txt\", teades, et see on salvestatud kodeeringus WINDOWS-1257. Salvestada sama fail UTF-8's. (0,5p)**\n",
    "\n",
    "**b) Üldistada tehtut: kirjutada funktsioon, mis saab argumentidena ette failinime, algse kodeeringu, kodeeringu, millesse fail konverteerida ning uue failinime. Funktsioon salvestab etteantud faili uues kodeeringus. (0.5p)**"
   ]
  },
  {
   "cell_type": "code",
   "execution_count": null,
   "metadata": {
    "collapsed": true
   },
   "outputs": [],
   "source": [
    "import codecs"
   ]
  },
  {
   "cell_type": "code",
   "execution_count": null,
   "metadata": {
    "collapsed": false
   },
   "outputs": [],
   "source": [
    "with codecs.open(\"juku.txt\", \"r\", encoding = \"WINDOWS-1257\") as fin:\n",
    "    # ..."
   ]
  },
  {
   "cell_type": "code",
   "execution_count": null,
   "metadata": {
    "collapsed": false
   },
   "outputs": [],
   "source": [
    "def encoding_converter(file1, enc1, enc2, file2):\n",
    "    # ...\n",
    "    return \"File \" + file1 + \" saved as \" + file2 + \" in encoding \" + enc2"
   ]
  },
  {
   "cell_type": "markdown",
   "metadata": {},
   "source": [
    "## Ülesanne 2.  Hea ja halb kood (2p)"
   ]
  },
  {
   "cell_type": "markdown",
   "metadata": {},
   "source": [
    "### Mantra: \n",
    "* töötav kood >>>>>>> optimaalne kood,\n",
    "* optimeerimine on vaevanõudev,\n",
    "* optimeeritud kood on raskemini loetav\n",
    "* optimeeri siis, kui keegi ei pea lugema või optimaalsus on hädavajalik\n",
    "* pikk kood ei pruugi olla aeglane ega kompaktne kood kiire\n",
    "\n",
    "**Kiiruse suhtes optimaalne kood:**\n",
    "* suhtleb minimaalselt kettal olevate failidega,\n",
    "* suhtleb veel vähem veebis olevate failidega,\n",
    "* hoiab võimalikult palju relevantseid asju mälus (muutujates),\n",
    "* ei sisalda tarbetuid käske, mis arvutuse kulgu ei mõjuta,\n",
    "* sisaldab probleemi kontekstis mõistliku keerukusega algoritmi,\n",
    "* sisaldab probleemi kontekstis õigeid andmestruktuure\n",
    "     * elementide kiireks hoiustamiseks list,\n",
    "     * elementide kiireks otsimiseks sõnaraamat,\n",
    "     * elementide kattuvuste vms kontrollimiseks hulk,\n",
    "* arvutab ühte saadust vaid ühe korra,\n",
    "* sisaldab minimaalselt funktsioonide kutseid,\n",
    "* sisaldab minimaalselt tingimuslausete evalueerimist,\n",
    "* ei eemalda elemente listi keskelt ega viska sinna elemente"
   ]
  },
  {
   "cell_type": "markdown",
   "metadata": {},
   "source": [
    "**Järgnevalt on toodud funktsioon calculate_relative_freqs, mis saab sisendiks tee failini, mille igal real on\n",
    "{sõna} {absoluutne sagedus dokumendis täisarvuna}\n",
    "ning mis arvutab iga sõna jaoks selle sõna suhtelise sageduse dokumendis ja tagastab tulemuse dictionary'na.**"
   ]
  },
  {
   "cell_type": "markdown",
   "metadata": {},
   "source": [
    "<h5 style=\"color:red\">NB! Siin ülesandes on tegu on näitega halvast koodist, millest ei tasu mingil juhul eeskuju võtta!</h5>"
   ]
  },
  {
   "cell_type": "markdown",
   "metadata": {},
   "source": [
    "**a) Vaadake koodi ja kirjeldage, mis muudab selle ebaefektiivseks (võite kirjutada vastavate koodiridade juurde kommentaaridena) (0,5p)**"
   ]
  },
  {
   "cell_type": "code",
   "execution_count": null,
   "metadata": {
    "collapsed": true
   },
   "outputs": [],
   "source": [
    "def calculate_relative_freqs(input_file):\n",
    "    \n",
    "    result = {}\n",
    "    \n",
    "    # Find all words for which there are frequencies\n",
    "    with open(input_file, 'r') as fin:\n",
    "        words = []\n",
    "        for line in fin:\n",
    "            words.append(line.strip().split()[1])\n",
    "\n",
    "    # Find relative frequency for each word\n",
    "    freqs = []\n",
    "\n",
    "    for word in words:\n",
    "        with open(input_file,'r') as fin:\n",
    "            total_freq = 0\n",
    "            word_freq = 0\n",
    "            for line in fin:\n",
    "                freq, word_candidate = line.strip().split()\n",
    "                freqs.append(int(freq))\n",
    "\n",
    "                if word == word_candidate:\n",
    "                    word_freq += int(freq)\n",
    "\n",
    "                total_freq += int(freq)\n",
    "\n",
    "        freqs.sort()\n",
    "        result[word] = float(word_freq) / total_freq\n",
    "    return result "
   ]
  },
  {
   "cell_type": "markdown",
   "metadata": {},
   "source": [
    "**b) Kontrollige, kas teie oletustel oli tõepõhi all: selleks profileerige toodud funktsiooni. Väga lihtsasti loetava tulemuse annab tööriist line_profiler, mis on küll vaja eraldi conda kaudu installida (vt loenguslaidid). Muidugi võib kasutada ka standardteeke (profile, cProfile). Millised aegluse kohta püstitatud hüpoteesidest paika pidasid? (0,5p)**\n",
    "\n",
    "Katsetamiseks on praktikumimaterjalidesse lisatud fail nimega **lemma_kahanevas.txt**. Tegu on eesti keele sagedussõnastikuga, mis on koostatud tasakaalus korpuse pealt (vt siit http://www.cl.ut.ee/ressursid/sagedused1/).\n",
    "Failis on toodud sõnade absoluutsed sagedused, et aga hinnata, kui suure osa keelest tegelikult üks või teine sõna moodustab, oleks vaja teada suhtelisi sagedusi. Seda arvutabki eeltoodud funktsioon calculate_relative_freqs.\n",
    "\n",
    "NB! Kuna toodud koodijupp on väga ebaefektiivne, siis on soovitav profileerimiseks ja muudeks katsetusteks kasutada esialgu vaid mingit osa (nt 500 esimest rida) antud failist."
   ]
  },
  {
   "cell_type": "markdown",
   "metadata": {},
   "source": [
    "**c) Muutke kood efektiivsemaks - parandage olemasolevat või soovi korral kirjutage uus ja parem funktsioon. Kontrollige profileerides, kas sai kiirem. (1p)**"
   ]
  },
  {
   "cell_type": "markdown",
   "metadata": {},
   "source": [
    "## Ülesanne 3. Debugimine (1p) [PUUDUB]"
   ]
  },
  {
   "cell_type": "code",
   "execution_count": null,
   "metadata": {
    "collapsed": true
   },
   "outputs": [],
   "source": []
  },
  {
   "cell_type": "markdown",
   "metadata": {},
   "source": [
    "## Ülesanne 4. Kasulikud standardteegid (1p)"
   ]
  },
  {
   "cell_type": "markdown",
   "metadata": {},
   "source": [
    "Siin on mõningad näited teekidest, mis muudavad loomuliku keele töötleja elu mugavamaks."
   ]
  },
  {
   "cell_type": "markdown",
   "metadata": {},
   "source": [
    "**Defaultdict** - sagedusloendite tegemine"
   ]
  },
  {
   "cell_type": "code",
   "execution_count": 12,
   "metadata": {
    "collapsed": false
   },
   "outputs": [
    {
     "data": {
      "text/plain": [
       "dict_items([('h', 1), ('j', 2), ('e', 2), ('b', 1), ('m', 1), ('a', 4)])"
      ]
     },
     "execution_count": 12,
     "metadata": {},
     "output_type": "execute_result"
    }
   ],
   "source": [
    "from collections import defaultdict\n",
    "\n",
    "word = \"habemeajaja\"\n",
    "freqs = defaultdict(int)\n",
    "\n",
    "for char in word:\n",
    "    freqs[char] += 1\n",
    "    \n",
    "freqs.items()    "
   ]
  },
  {
   "cell_type": "markdown",
   "metadata": {},
   "source": [
    "**OrderedDict** - sõnastik, mis säilitab võti-väärtus-paaride järjekorra"
   ]
  },
  {
   "cell_type": "code",
   "execution_count": 30,
   "metadata": {
    "collapsed": false
   },
   "outputs": [],
   "source": [
    "from collections import OrderedDict\n",
    "\n",
    "sorted_by_key = OrderedDict(sorted(freqs.items(), key=lambda t: t[0]))\n",
    "sorted_by_value = OrderedDict(sorted(freqs.items(), key=lambda t: t[1], reverse = True))"
   ]
  },
  {
   "cell_type": "code",
   "execution_count": 31,
   "metadata": {
    "collapsed": false
   },
   "outputs": [
    {
     "data": {
      "text/plain": [
       "OrderedDict([('a', 4), ('b', 1), ('e', 2), ('h', 1), ('j', 2), ('m', 1)])"
      ]
     },
     "execution_count": 31,
     "metadata": {},
     "output_type": "execute_result"
    }
   ],
   "source": [
    "sorted_by_key"
   ]
  },
  {
   "cell_type": "code",
   "execution_count": 32,
   "metadata": {
    "collapsed": false
   },
   "outputs": [
    {
     "data": {
      "text/plain": [
       "OrderedDict([('a', 4), ('j', 2), ('e', 2), ('h', 1), ('b', 1), ('m', 1)])"
      ]
     },
     "execution_count": 32,
     "metadata": {},
     "output_type": "execute_result"
    }
   ],
   "source": [
    "sorted_by_value"
   ]
  },
  {
   "cell_type": "markdown",
   "metadata": {},
   "source": [
    "**String.Template** ja **str.format** - lihtsad asendused sõnede sees"
   ]
  },
  {
   "cell_type": "code",
   "execution_count": 106,
   "metadata": {
    "collapsed": false,
    "scrolled": true
   },
   "outputs": [
    {
     "data": {
      "text/plain": [
       "'Toomas tahab maja'"
      ]
     },
     "execution_count": 106,
     "metadata": {},
     "output_type": "execute_result"
    }
   ],
   "source": [
    "from string import Template\n",
    "\n",
    "s = Template (\"$kes tahab $mida\")\n",
    "s.substitute(kes = \"Toomas\", mida = \"maja\")"
   ]
  },
  {
   "cell_type": "code",
   "execution_count": 43,
   "metadata": {
    "collapsed": false
   },
   "outputs": [
    {
     "data": {
      "text/plain": [
       "'Palju õnne tädi Maalile 84. sünnipäevaks'"
      ]
     },
     "execution_count": 43,
     "metadata": {},
     "output_type": "execute_result"
    }
   ],
   "source": [
    "from datetime import datetime\n",
    "\n",
    "now = datetime.now()\n",
    "\"Palju õnne tädi Maalile {0}. sünnipäevaks\".format(now.year-1932)"
   ]
  },
  {
   "cell_type": "markdown",
   "metadata": {},
   "source": [
    "**str.translate** - kindlate tähemärkide asendamine"
   ]
  },
  {
   "cell_type": "code",
   "execution_count": 48,
   "metadata": {
    "collapsed": false
   },
   "outputs": [
    {
     "data": {
      "text/plain": [
       "'Pudrul muju mutsu suus'"
      ]
     },
     "execution_count": 48,
     "metadata": {},
     "output_type": "execute_result"
    }
   ],
   "source": [
    "intab = \"aeiouüõöä\"\n",
    "outtab = \"uuuuuuuuu\"\n",
    "trantab = str.maketrans(intab, outtab)\n",
    "\n",
    "str = \"Põdral maja metsa sees\"\n",
    "str.translate(trantab)"
   ]
  },
  {
   "cell_type": "markdown",
   "metadata": {},
   "source": [
    "### **re** - regulaaravaldised\n",
    "\n",
    "<h4 style=\"color:green\"> Regulaaravaldised on keeleandmete töötlemisel asendamatud. Kui keegi nendega tõesti veel kokku puutunud ei ole, siis on viimane aeg tutvuda https://docs.python.org/3/library/re.html ning eesti keeles https://courses.cs.ut.ee/2015/progmaa/Arhiiv/PARTVIIRegulaaravaldis1 </h4>\n",
    "\n",
    "Regulaaravaldiste kasutamine ei piirdu Pythoni ega üleüldiselt programmeerimiskeeltega - neid on võimalik tekstis otsingute ja asenduste tegemiseks edukalt kasutada Linuxi käsurealt ('grep' käsuna), samuti mitmetes tekstitöötlusprogrammides alates MS Wordist ja lõpetades Notepad++ ja gedit'iga. "
   ]
  },
  {
   "cell_type": "code",
   "execution_count": 56,
   "metadata": {
    "collapsed": true
   },
   "outputs": [],
   "source": [
    "import re"
   ]
  },
  {
   "cell_type": "code",
   "execution_count": 108,
   "metadata": {
    "collapsed": false
   },
   "outputs": [
    {
     "data": {
      "text/plain": [
       "['dage@ut.ee', 'kom@ut.ee']"
      ]
     },
     "execution_count": 108,
     "metadata": {},
     "output_type": "execute_result"
    }
   ],
   "source": [
    "sent = \"Probleemide korral saatke kiri aadressil dage@ut.ee või kom@ut.ee.\"\n",
    "address_pattern = \"[^@ .]*@[^@ .]*\\.[^@ .]*\"\n",
    "addresses = re.findall(address_pattern, sent)\n",
    "addresses"
   ]
  },
  {
   "cell_type": "code",
   "execution_count": 109,
   "metadata": {
    "collapsed": false
   },
   "outputs": [
    {
     "data": {
      "text/plain": [
       "'Probleemide korral saatke kiri aadressil [e-mail varjatud] või [e-mail varjatud].'"
      ]
     },
     "execution_count": 109,
     "metadata": {},
     "output_type": "execute_result"
    }
   ],
   "source": [
    "anonymised_sent = re.sub(address_pattern, \"[e-mail varjatud]\", sent)\n",
    "anonymised_sent"
   ]
  },
  {
   "cell_type": "markdown",
   "metadata": {},
   "source": [
    "**Kirjutage skript, mis leiab failist 'protokoll.txt' tõenäolised nimed (suure tähega algavad sõnad, mis ei paikne lause alguses), teeb nendest kahanevas järjestuses sagedusloendi ning loob failist n-ö anonümiseeritud versiooni, asendades nimed millegi muuga. Failis paikneb iga lause eraldi real. Kasutage vähemalt kahte selle ülesande all tutvustatud teekidest. (1p)**"
   ]
  },
  {
   "cell_type": "code",
   "execution_count": 105,
   "metadata": {
    "collapsed": false
   },
   "outputs": [
    {
     "ename": "SyntaxError",
     "evalue": "unexpected EOF while parsing (<ipython-input-105-21f59e749d93>, line 6)",
     "output_type": "error",
     "traceback": [
      "\u001b[1;36m  File \u001b[1;32m\"<ipython-input-105-21f59e749d93>\"\u001b[1;36m, line \u001b[1;32m6\u001b[0m\n\u001b[1;33m    \u001b[0m\n\u001b[1;37m    ^\u001b[0m\n\u001b[1;31mSyntaxError\u001b[0m\u001b[1;31m:\u001b[0m unexpected EOF while parsing\n"
     ]
    }
   ],
   "source": [
    "import codecs\n",
    "\n",
    "with codecs.open(\"protokoll.txt\", \"r\", \"utf8\") as fin:\n",
    "    for line in fin:\n",
    "    # ...\n",
    "        "
   ]
  }
 ],
 "metadata": {
  "kernelspec": {
   "display_name": "Python 3",
   "language": "python",
   "name": "python3"
  },
  "language_info": {
   "codemirror_mode": {
    "name": "ipython",
    "version": 3
   },
   "file_extension": ".py",
   "mimetype": "text/x-python",
   "name": "python",
   "nbconvert_exporter": "python",
   "pygments_lexer": "ipython3",
   "version": "3.5.2"
  }
 },
 "nbformat": 4,
 "nbformat_minor": 0
}
